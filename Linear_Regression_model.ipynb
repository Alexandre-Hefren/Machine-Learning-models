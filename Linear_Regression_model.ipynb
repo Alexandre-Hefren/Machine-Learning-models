{
  "nbformat": 4,
  "nbformat_minor": 0,
  "metadata": {
    "colab": {
      "name": "Linear Regression_model.ipynb",
      "provenance": [],
      "collapsed_sections": [],
      "mount_file_id": "1-uTE_AEywlcH9qtIEUl66inHWdYVYBS1",
      "authorship_tag": "ABX9TyPBZM5tdJNErlPfqOW/MIL8"
    },
    "kernelspec": {
      "name": "python3",
      "display_name": "Python 3"
    },
    "language_info": {
      "name": "python"
    }
  },
  "cells": [
    {
      "cell_type": "markdown",
      "source": [
        "#Introduction\n",
        "The goal of this notebook is to solve two examples of linear regression. The first with only one feature and the second with more than one feature, a simple example of a multidimensional case with two features. The notebook follows exercises proposed in the Standford Coursera course by Andrew Ng, but I comment, with my explanations, on many points that I think are relevant for the understanding of the concepts as well as the Python implementation. \n",
        "\n",
        "The cost function for this model, namely the linear regression (a special case of the more general class of Generalized linear models) will be given by the mean squared error function\n",
        "$$J(\\theta) = \\frac{1}{2} \\sum_{i=1}^m \\left( h^{(i)} - y^{(i)} \\right)^2 = \\frac{1}{2} \\sum_{i=1}^m J(\\theta;x^{(i)}) ,$$\n",
        "where $m$ is the total number of training examples and $h$ is the hypothesis function considered to be the linear combination $ h= h(\\theta; x^{(i)}) = \\theta^t x^{(i)} $ with $\\theta$ the column vector representing the weights and bias of the model and $x^{(i)}$ the i-th column vector with the features of the model. In particular, for a total of $n$-features, $x^{(i)} \\in \\mathbb{R}^{n+1}$, because we include an extra element $x_0=1$ that is associated with the bias $\\theta_0$. The main purpose of the cost or loss function is to be minimized with respect to a parameter $\\theta$ in order to make sure that the hypothesis converges to the values of the targets $y^{(i)}$, which are single scalar values. A column vector $y \\in \\mathbb{R}^{m}$ can accommodate all the $m$ target values from each training example $(x^{(i)}, y^{(i)} )$. Note that the notation $J(\\theta; x)$ tries to distinguish the role of $\\theta$ from the role of $x$: while $x$ are fixed for each training example, $\\theta$ are the coefficients to be learned by the model. Finally, capital $X$ will denote the design matrix, which is made of rows $(x^t)^{(i)}$. Thus, $X \\in \\mathbb{R}^{(m, n+1)}$ and $\\theta \\in  \\mathbb{R}^{(n+1, 1)}$  is a matrix.\n",
        "\n"
      ],
      "metadata": {
        "id": "qNhqFXTtwJH4"
      }
    },
    {
      "cell_type": "code",
      "execution_count": 1,
      "metadata": {
        "id": "lEJRilvOpQXL"
      },
      "outputs": [],
      "source": [
        "import numpy as np\n",
        "import pandas as pd\n",
        "import matplotlib.pyplot as plt  \n",
        "   \n",
        "#line magic function for plot inside notebook\n",
        "%matplotlib inline       \n",
        "import seaborn as sns\n",
        "#from numpy.core.function_base import linspace\n",
        "\n"
      ]
    },
    {
      "cell_type": "markdown",
      "source": [
        "# Single variable Linear Regression\n",
        "\"In this part of this exercise, you will implement linear regression with one\n",
        "variable to predict profits for a food truck. Suppose you are the CEO of a\n",
        "restaurant franchise and are considering different cities for opening a new\n",
        "outlet. The chain already has trucks in various cities and you have data for\n",
        "profits and populations from the cities.\n",
        "\n",
        "You would like to use this data to help you select which city to expand\n",
        "to next.The dataset for our linear regression problem is as follows: The first column is the population of a city and the second column is\n",
        "the profit of a food truck in that city. A negative value for profit indicates a\n",
        "loss.\n",
        "\n",
        "For this dataset, you can use a scatter plot to visualize the data, since it has only two properties to plot (profit and population). (Many\n",
        "other problems that you will encounter in real life are multi-dimensional and\n",
        "can’t be plotted on a 2-d plot.)\" (extract from Stanford-ML-ex01- Andrew Ng)"
      ],
      "metadata": {
        "id": "Ll8SBSW0rXgy"
      }
    },
    {
      "cell_type": "code",
      "source": [
        "path = '/content/drive/MyDrive/Machine_Learning_DS/Material/ML_Standford/ex1-octave/ex1data1.txt'\n",
        "data = pd.read_csv(path, header=None, names=['Population', 'Profit'])\n",
        "\n",
        "m = len(data)  #number of training values\n",
        "x = np.array(data['Population'])   #capital X will be with x0s included...\n",
        "y = np.array(data['Profit'])\n",
        "\n",
        "data.head()"
      ],
      "metadata": {
        "colab": {
          "base_uri": "https://localhost:8080/",
          "height": 206
        },
        "id": "IBQ1IMRmry02",
        "outputId": "e1bfc47b-feed-40cf-dbdc-1a536e2e1874"
      },
      "execution_count": 2,
      "outputs": [
        {
          "output_type": "execute_result",
          "data": {
            "text/plain": [
              "   Population   Profit\n",
              "0      6.1101  17.5920\n",
              "1      5.5277   9.1302\n",
              "2      8.5186  13.6620\n",
              "3      7.0032  11.8540\n",
              "4      5.8598   6.8233"
            ],
            "text/html": [
              "\n",
              "  <div id=\"df-c0485f5c-23a3-42ba-accb-155a1d5d69ea\">\n",
              "    <div class=\"colab-df-container\">\n",
              "      <div>\n",
              "<style scoped>\n",
              "    .dataframe tbody tr th:only-of-type {\n",
              "        vertical-align: middle;\n",
              "    }\n",
              "\n",
              "    .dataframe tbody tr th {\n",
              "        vertical-align: top;\n",
              "    }\n",
              "\n",
              "    .dataframe thead th {\n",
              "        text-align: right;\n",
              "    }\n",
              "</style>\n",
              "<table border=\"1\" class=\"dataframe\">\n",
              "  <thead>\n",
              "    <tr style=\"text-align: right;\">\n",
              "      <th></th>\n",
              "      <th>Population</th>\n",
              "      <th>Profit</th>\n",
              "    </tr>\n",
              "  </thead>\n",
              "  <tbody>\n",
              "    <tr>\n",
              "      <th>0</th>\n",
              "      <td>6.1101</td>\n",
              "      <td>17.5920</td>\n",
              "    </tr>\n",
              "    <tr>\n",
              "      <th>1</th>\n",
              "      <td>5.5277</td>\n",
              "      <td>9.1302</td>\n",
              "    </tr>\n",
              "    <tr>\n",
              "      <th>2</th>\n",
              "      <td>8.5186</td>\n",
              "      <td>13.6620</td>\n",
              "    </tr>\n",
              "    <tr>\n",
              "      <th>3</th>\n",
              "      <td>7.0032</td>\n",
              "      <td>11.8540</td>\n",
              "    </tr>\n",
              "    <tr>\n",
              "      <th>4</th>\n",
              "      <td>5.8598</td>\n",
              "      <td>6.8233</td>\n",
              "    </tr>\n",
              "  </tbody>\n",
              "</table>\n",
              "</div>\n",
              "      <button class=\"colab-df-convert\" onclick=\"convertToInteractive('df-c0485f5c-23a3-42ba-accb-155a1d5d69ea')\"\n",
              "              title=\"Convert this dataframe to an interactive table.\"\n",
              "              style=\"display:none;\">\n",
              "        \n",
              "  <svg xmlns=\"http://www.w3.org/2000/svg\" height=\"24px\"viewBox=\"0 0 24 24\"\n",
              "       width=\"24px\">\n",
              "    <path d=\"M0 0h24v24H0V0z\" fill=\"none\"/>\n",
              "    <path d=\"M18.56 5.44l.94 2.06.94-2.06 2.06-.94-2.06-.94-.94-2.06-.94 2.06-2.06.94zm-11 1L8.5 8.5l.94-2.06 2.06-.94-2.06-.94L8.5 2.5l-.94 2.06-2.06.94zm10 10l.94 2.06.94-2.06 2.06-.94-2.06-.94-.94-2.06-.94 2.06-2.06.94z\"/><path d=\"M17.41 7.96l-1.37-1.37c-.4-.4-.92-.59-1.43-.59-.52 0-1.04.2-1.43.59L10.3 9.45l-7.72 7.72c-.78.78-.78 2.05 0 2.83L4 21.41c.39.39.9.59 1.41.59.51 0 1.02-.2 1.41-.59l7.78-7.78 2.81-2.81c.8-.78.8-2.07 0-2.86zM5.41 20L4 18.59l7.72-7.72 1.47 1.35L5.41 20z\"/>\n",
              "  </svg>\n",
              "      </button>\n",
              "      \n",
              "  <style>\n",
              "    .colab-df-container {\n",
              "      display:flex;\n",
              "      flex-wrap:wrap;\n",
              "      gap: 12px;\n",
              "    }\n",
              "\n",
              "    .colab-df-convert {\n",
              "      background-color: #E8F0FE;\n",
              "      border: none;\n",
              "      border-radius: 50%;\n",
              "      cursor: pointer;\n",
              "      display: none;\n",
              "      fill: #1967D2;\n",
              "      height: 32px;\n",
              "      padding: 0 0 0 0;\n",
              "      width: 32px;\n",
              "    }\n",
              "\n",
              "    .colab-df-convert:hover {\n",
              "      background-color: #E2EBFA;\n",
              "      box-shadow: 0px 1px 2px rgba(60, 64, 67, 0.3), 0px 1px 3px 1px rgba(60, 64, 67, 0.15);\n",
              "      fill: #174EA6;\n",
              "    }\n",
              "\n",
              "    [theme=dark] .colab-df-convert {\n",
              "      background-color: #3B4455;\n",
              "      fill: #D2E3FC;\n",
              "    }\n",
              "\n",
              "    [theme=dark] .colab-df-convert:hover {\n",
              "      background-color: #434B5C;\n",
              "      box-shadow: 0px 1px 3px 1px rgba(0, 0, 0, 0.15);\n",
              "      filter: drop-shadow(0px 1px 2px rgba(0, 0, 0, 0.3));\n",
              "      fill: #FFFFFF;\n",
              "    }\n",
              "  </style>\n",
              "\n",
              "      <script>\n",
              "        const buttonEl =\n",
              "          document.querySelector('#df-c0485f5c-23a3-42ba-accb-155a1d5d69ea button.colab-df-convert');\n",
              "        buttonEl.style.display =\n",
              "          google.colab.kernel.accessAllowed ? 'block' : 'none';\n",
              "\n",
              "        async function convertToInteractive(key) {\n",
              "          const element = document.querySelector('#df-c0485f5c-23a3-42ba-accb-155a1d5d69ea');\n",
              "          const dataTable =\n",
              "            await google.colab.kernel.invokeFunction('convertToInteractive',\n",
              "                                                     [key], {});\n",
              "          if (!dataTable) return;\n",
              "\n",
              "          const docLinkHtml = 'Like what you see? Visit the ' +\n",
              "            '<a target=\"_blank\" href=https://colab.research.google.com/notebooks/data_table.ipynb>data table notebook</a>'\n",
              "            + ' to learn more about interactive tables.';\n",
              "          element.innerHTML = '';\n",
              "          dataTable['output_type'] = 'display_data';\n",
              "          await google.colab.output.renderOutput(dataTable, element);\n",
              "          const docLink = document.createElement('div');\n",
              "          docLink.innerHTML = docLinkHtml;\n",
              "          element.appendChild(docLink);\n",
              "        }\n",
              "      </script>\n",
              "    </div>\n",
              "  </div>\n",
              "  "
            ]
          },
          "metadata": {},
          "execution_count": 2
        }
      ]
    },
    {
      "cell_type": "code",
      "source": [
        "print(len(data.columns))\n",
        "print(len(data.index))"
      ],
      "metadata": {
        "colab": {
          "base_uri": "https://localhost:8080/"
        },
        "id": "req4DTqQBTZA",
        "outputId": "c5e3f2fa-f2bf-4238-ef90-39ef2b650d6b"
      },
      "execution_count": 3,
      "outputs": [
        {
          "output_type": "stream",
          "name": "stdout",
          "text": [
            "2\n",
            "97\n"
          ]
        }
      ]
    },
    {
      "cell_type": "code",
      "source": [
        "data.info()"
      ],
      "metadata": {
        "colab": {
          "base_uri": "https://localhost:8080/"
        },
        "id": "m3tyirtWB6LM",
        "outputId": "4ba3bdfa-b56e-4493-acfe-3c0a946913b8"
      },
      "execution_count": 4,
      "outputs": [
        {
          "output_type": "stream",
          "name": "stdout",
          "text": [
            "<class 'pandas.core.frame.DataFrame'>\n",
            "RangeIndex: 97 entries, 0 to 96\n",
            "Data columns (total 2 columns):\n",
            " #   Column      Non-Null Count  Dtype  \n",
            "---  ------      --------------  -----  \n",
            " 0   Population  97 non-null     float64\n",
            " 1   Profit      97 non-null     float64\n",
            "dtypes: float64(2)\n",
            "memory usage: 1.6 KB\n"
          ]
        }
      ]
    },
    {
      "cell_type": "code",
      "source": [
        "x.shape\n",
        "\n"
      ],
      "metadata": {
        "colab": {
          "base_uri": "https://localhost:8080/"
        },
        "id": "FTgDojLvwUSa",
        "outputId": "4980a199-0da5-452e-cf5e-8a39abe0ca8f"
      },
      "execution_count": 5,
      "outputs": [
        {
          "output_type": "execute_result",
          "data": {
            "text/plain": [
              "(97,)"
            ]
          },
          "metadata": {},
          "execution_count": 5
        }
      ]
    },
    {
      "cell_type": "code",
      "source": [
        "x = np.array(data['Population']).reshape(m,1)\n",
        "y = np.array(data['Profit']).reshape(m,1)\n",
        "\n",
        "\n",
        "\n",
        "x.shape\n"
      ],
      "metadata": {
        "colab": {
          "base_uri": "https://localhost:8080/"
        },
        "id": "eg3Ts1rCweo7",
        "outputId": "d810df8a-0783-4c1a-db56-0c561d174e30"
      },
      "execution_count": 6,
      "outputs": [
        {
          "output_type": "execute_result",
          "data": {
            "text/plain": [
              "(97, 1)"
            ]
          },
          "metadata": {},
          "execution_count": 6
        }
      ]
    },
    {
      "cell_type": "markdown",
      "source": [
        "#To visualize the data\n",
        "Note that 'bx' stands for blue crosses (option) , a marker"
      ],
      "metadata": {
        "id": "WYQYpV5hyDKJ"
      }
    },
    {
      "cell_type": "code",
      "source": [
        "plt.plot(data['Population'], data['Profit'], 'rx'  )   #plt.plot(x, y, 'rx'  )\n",
        "#plt.figure() # not necessary \n",
        "plt.xlabel('population in 10k')\n",
        "plt.ylabel('profit in $10k')\n",
        "plt.title('Population Vs Profit')"
      ],
      "metadata": {
        "colab": {
          "base_uri": "https://localhost:8080/",
          "height": 312
        },
        "id": "sUjWNf0qySzg",
        "outputId": "8ab9d298-3c77-415c-e23f-8e85ec22cb5c"
      },
      "execution_count": 7,
      "outputs": [
        {
          "output_type": "execute_result",
          "data": {
            "text/plain": [
              "Text(0.5, 1.0, 'Population Vs Profit')"
            ]
          },
          "metadata": {},
          "execution_count": 7
        },
        {
          "output_type": "display_data",
          "data": {
            "text/plain": [
              "<Figure size 432x288 with 1 Axes>"
            ],
            "image/png": "[encoded data removed]"
          },
          "metadata": {
            "needs_background": "light"
          }
        }
      ]
    },
    {
      "cell_type": "markdown",
      "source": [
        "#Cost function\n",
        "\n",
        "Given my hypothesis function, consider the cost function\n",
        "to be the quadratic cost function, which is a convex function\n",
        "and works well with gradient descent.\n",
        "Vectorization is the best way to go because it avoids using loops...\n",
        "\n",
        "Recall:  $J(\\theta) =  \\frac{1}{2m} (X \\theta - y)^T (X \\theta - y)$\n",
        "where X includes the $x_0=1$ related to the bias $\\theta_0$\n",
        "\n",
        "Obs: numpy.append(arr, values, axis=None)\n",
        "Append values to the end of an array."
      ],
      "metadata": {
        "id": "tlE4jGM40Blz"
      }
    },
    {
      "cell_type": "code",
      "source": [
        "X = np.append(np.ones((m,1)), x,  axis=1 )  #0 would be along the lines. axis=1 will add x as the next column after a column of ones\n",
        "X.shape"
      ],
      "metadata": {
        "colab": {
          "base_uri": "https://localhost:8080/"
        },
        "id": "-OUlx2LE1KLd",
        "outputId": "e400bcb1-7a47-447f-807a-b6ccc32d7e3b"
      },
      "execution_count": 8,
      "outputs": [
        {
          "output_type": "execute_result",
          "data": {
            "text/plain": [
              "(97, 2)"
            ]
          },
          "metadata": {},
          "execution_count": 8
        }
      ]
    },
    {
      "cell_type": "code",
      "source": [
        "def cost_function(X, y, theta):\n",
        "    \"\"\"Calculate the cost function for the linear regression of a single variable \"\"\"\n",
        "    global m    #or define m again here locally\n",
        "    return 1/(2*m) * ((np.dot(X,theta)) - y).T @ ( np.dot(X,theta) - y)\n",
        "   # return 1/(2*m) * ((X @ theta) - y).T @ ((X @ theta) - y) #alternatively: sum(np.square( (X@ theta) - y  ))"
      ],
      "metadata": {
        "id": "0hyMFIMg26Yh"
      },
      "execution_count": 9,
      "outputs": []
    },
    {
      "cell_type": "code",
      "source": [
        "theta_initial = np.zeros( (2,1) ) \n",
        "print(cost_function(X, y, theta_initial))"
      ],
      "metadata": {
        "colab": {
          "base_uri": "https://localhost:8080/"
        },
        "id": "GIu3qwWH8aZS",
        "outputId": "4475e07f-9cb5-416b-d253-daed4c26020c"
      },
      "execution_count": 10,
      "outputs": [
        {
          "output_type": "stream",
          "name": "stdout",
          "text": [
            "[[32.07273388]]\n"
          ]
        }
      ]
    },
    {
      "cell_type": "code",
      "source": [
        "#NOTE these\n",
        "print ((np.dot(X, theta_initial)).shape)\n",
        "print ((np.dot(X, theta_initial).T).shape)\n",
        "\n",
        "(X @ theta_initial).shape"
      ],
      "metadata": {
        "colab": {
          "base_uri": "https://localhost:8080/"
        },
        "id": "lweeth6S9KEh",
        "outputId": "a6de738a-514c-4c32-ebe5-189d20d120fb"
      },
      "execution_count": 11,
      "outputs": [
        {
          "output_type": "stream",
          "name": "stdout",
          "text": [
            "(97, 1)\n",
            "(1, 97)\n"
          ]
        },
        {
          "output_type": "execute_result",
          "data": {
            "text/plain": [
              "(97, 1)"
            ]
          },
          "metadata": {},
          "execution_count": 11
        }
      ]
    },
    {
      "cell_type": "markdown",
      "source": [
        "#Gradient descent\n",
        "As you want to minimize a cost function, make sure you understand what you are trying to optimize and what is being updated. Keep in mind that the cost $J(\\theta)$ is parameterized by the vector $\\theta$, not $X$ and $y$. That is, we minimize the value of $J(\\theta)$ by changing the values of the matrix $\\theta$"
      ],
      "metadata": {
        "id": "z5a1G8ygGQ69"
      }
    },
    {
      "cell_type": "code",
      "source": [
        "def gradientdescent(X, y, theta, alpha, itera):\n",
        "  \"\"\"Gradient to update weights theta. It returns theta and the cost function at each iteration step \"\"\"\n",
        "\n",
        "  m = len(y) #number of training examples\n",
        "  J_history = np.zeros((itera,1)) \n",
        "  for i in range(itera):\n",
        "    theta = theta - (alpha/m) * (X.T @ (np.dot(X,theta) - y )) #vectorized\n",
        "    J_history[i] = cost_function(X, y, theta)  #store J value after updating theta and repeat process\n",
        "\n",
        "    #alternative: theta[0] = theta[0] - ...(np.sum(X@theta - y) * 1 ) #since x0 =1\n",
        "    # theta[1] = theta[1] - ....(np.sum(X@theta - y).T @ X[:,1:])\n",
        "    #note that:  X[:,1:] is (97,1)  and  X[:,1] is (97,)\n",
        "    #\n",
        "\n",
        "  return theta, J_history\n",
        "\n",
        "theta = np.zeros( (2,1) )\n",
        "alpha = 0.02\n",
        "itera = 1500  # TRY 3500 and see better value\n",
        "\n",
        "theta, J_history = gradientdescent(X, y, theta, alpha, itera)\n",
        "print(theta)\n",
        "z = pd.DataFrame(J_history, columns=['J values']) \n",
        "z.head()\n"
      ],
      "metadata": {
        "colab": {
          "base_uri": "https://localhost:8080/",
          "height": 241
        },
        "id": "FBMlTJSSGisH",
        "outputId": "b35aeee1-4c41-4530-d764-ec92f72144cf"
      },
      "execution_count": 12,
      "outputs": [
        {
          "output_type": "stream",
          "name": "stdout",
          "text": [
            "[[-3.87813769]\n",
            " [ 1.19126119]]\n"
          ]
        },
        {
          "output_type": "execute_result",
          "data": {
            "text/plain": [
              "    J values\n",
              "0  16.769642\n",
              "1  10.407580\n",
              "2   7.759183\n",
              "3   6.653288\n",
              "4   6.188106"
            ],
            "text/html": [
              "\n",
              "  <div id=\"df-16fd202c-9e4b-476b-b60d-6f06f8bff899\">\n",
              "    <div class=\"colab-df-container\">\n",
              "      <div>\n",
              "<style scoped>\n",
              "    .dataframe tbody tr th:only-of-type {\n",
              "        vertical-align: middle;\n",
              "    }\n",
              "\n",
              "    .dataframe tbody tr th {\n",
              "        vertical-align: top;\n",
              "    }\n",
              "\n",
              "    .dataframe thead th {\n",
              "        text-align: right;\n",
              "    }\n",
              "</style>\n",
              "<table border=\"1\" class=\"dataframe\">\n",
              "  <thead>\n",
              "    <tr style=\"text-align: right;\">\n",
              "      <th></th>\n",
              "      <th>J values</th>\n",
              "    </tr>\n",
              "  </thead>\n",
              "  <tbody>\n",
              "    <tr>\n",
              "      <th>0</th>\n",
              "      <td>16.769642</td>\n",
              "    </tr>\n",
              "    <tr>\n",
              "      <th>1</th>\n",
              "      <td>10.407580</td>\n",
              "    </tr>\n",
              "    <tr>\n",
              "      <th>2</th>\n",
              "      <td>7.759183</td>\n",
              "    </tr>\n",
              "    <tr>\n",
              "      <th>3</th>\n",
              "      <td>6.653288</td>\n",
              "    </tr>\n",
              "    <tr>\n",
              "      <th>4</th>\n",
              "      <td>6.188106</td>\n",
              "    </tr>\n",
              "  </tbody>\n",
              "</table>\n",
              "</div>\n",
              "      <button class=\"colab-df-convert\" onclick=\"convertToInteractive('df-16fd202c-9e4b-476b-b60d-6f06f8bff899')\"\n",
              "              title=\"Convert this dataframe to an interactive table.\"\n",
              "              style=\"display:none;\">\n",
              "        \n",
              "  <svg xmlns=\"http://www.w3.org/2000/svg\" height=\"24px\"viewBox=\"0 0 24 24\"\n",
              "       width=\"24px\">\n",
              "    <path d=\"M0 0h24v24H0V0z\" fill=\"none\"/>\n",
              "    <path d=\"M18.56 5.44l.94 2.06.94-2.06 2.06-.94-2.06-.94-.94-2.06-.94 2.06-2.06.94zm-11 1L8.5 8.5l.94-2.06 2.06-.94-2.06-.94L8.5 2.5l-.94 2.06-2.06.94zm10 10l.94 2.06.94-2.06 2.06-.94-2.06-.94-.94-2.06-.94 2.06-2.06.94z\"/><path d=\"M17.41 7.96l-1.37-1.37c-.4-.4-.92-.59-1.43-.59-.52 0-1.04.2-1.43.59L10.3 9.45l-7.72 7.72c-.78.78-.78 2.05 0 2.83L4 21.41c.39.39.9.59 1.41.59.51 0 1.02-.2 1.41-.59l7.78-7.78 2.81-2.81c.8-.78.8-2.07 0-2.86zM5.41 20L4 18.59l7.72-7.72 1.47 1.35L5.41 20z\"/>\n",
              "  </svg>\n",
              "      </button>\n",
              "      \n",
              "  <style>\n",
              "    .colab-df-container {\n",
              "      display:flex;\n",
              "      flex-wrap:wrap;\n",
              "      gap: 12px;\n",
              "    }\n",
              "\n",
              "    .colab-df-convert {\n",
              "      background-color: #E8F0FE;\n",
              "      border: none;\n",
              "      border-radius: 50%;\n",
              "      cursor: pointer;\n",
              "      display: none;\n",
              "      fill: #1967D2;\n",
              "      height: 32px;\n",
              "      padding: 0 0 0 0;\n",
              "      width: 32px;\n",
              "    }\n",
              "\n",
              "    .colab-df-convert:hover {\n",
              "      background-color: #E2EBFA;\n",
              "      box-shadow: 0px 1px 2px rgba(60, 64, 67, 0.3), 0px 1px 3px 1px rgba(60, 64, 67, 0.15);\n",
              "      fill: #174EA6;\n",
              "    }\n",
              "\n",
              "    [theme=dark] .colab-df-convert {\n",
              "      background-color: #3B4455;\n",
              "      fill: #D2E3FC;\n",
              "    }\n",
              "\n",
              "    [theme=dark] .colab-df-convert:hover {\n",
              "      background-color: #434B5C;\n",
              "      box-shadow: 0px 1px 3px 1px rgba(0, 0, 0, 0.15);\n",
              "      filter: drop-shadow(0px 1px 2px rgba(0, 0, 0, 0.3));\n",
              "      fill: #FFFFFF;\n",
              "    }\n",
              "  </style>\n",
              "\n",
              "      <script>\n",
              "        const buttonEl =\n",
              "          document.querySelector('#df-16fd202c-9e4b-476b-b60d-6f06f8bff899 button.colab-df-convert');\n",
              "        buttonEl.style.display =\n",
              "          google.colab.kernel.accessAllowed ? 'block' : 'none';\n",
              "\n",
              "        async function convertToInteractive(key) {\n",
              "          const element = document.querySelector('#df-16fd202c-9e4b-476b-b60d-6f06f8bff899');\n",
              "          const dataTable =\n",
              "            await google.colab.kernel.invokeFunction('convertToInteractive',\n",
              "                                                     [key], {});\n",
              "          if (!dataTable) return;\n",
              "\n",
              "          const docLinkHtml = 'Like what you see? Visit the ' +\n",
              "            '<a target=\"_blank\" href=https://colab.research.google.com/notebooks/data_table.ipynb>data table notebook</a>'\n",
              "            + ' to learn more about interactive tables.';\n",
              "          element.innerHTML = '';\n",
              "          dataTable['output_type'] = 'display_data';\n",
              "          await google.colab.output.renderOutput(dataTable, element);\n",
              "          const docLink = document.createElement('div');\n",
              "          docLink.innerHTML = docLinkHtml;\n",
              "          element.appendChild(docLink);\n",
              "        }\n",
              "      </script>\n",
              "    </div>\n",
              "  </div>\n",
              "  "
            ]
          },
          "metadata": {},
          "execution_count": 12
        }
      ]
    },
    {
      "cell_type": "markdown",
      "source": [
        "#Plotting results and making a prediction\n",
        "\n",
        "Your final values for θ will also be used to make predictions on profits in\n",
        "areas of 35,000 and 70,000 people."
      ],
      "metadata": {
        "id": "M-iXN7HkY1A_"
      }
    },
    {
      "cell_type": "code",
      "source": [
        "predict1 = np.array([1, 3.5]).dot(theta)*10000 #data is given in 10k people and 10k money\n",
        "predict2 = np.dot(np.array([1, 7]), theta)*10000 #same for 7 = 70k\n",
        "print(predict1)\n",
        "print(predict2)"
      ],
      "metadata": {
        "colab": {
          "base_uri": "https://localhost:8080/"
        },
        "id": "s8Pc_NI4ZJGh",
        "outputId": "ca1a3869-8bee-45f4-89f9-6f97af1dfd5d"
      },
      "execution_count": 13,
      "outputs": [
        {
          "output_type": "stream",
          "name": "stdout",
          "text": [
            "[2912.76490368]\n",
            "[44606.90671602]\n"
          ]
        }
      ]
    },
    {
      "cell_type": "code",
      "source": [
        "plt.figure()\n",
        "plt.plot(X[:,1], y, 'rx', label='training' )\n",
        "plt.plot(X[:,1], np.dot(X,theta), label='prediction' )\n",
        "plt.xlabel('population in 10k')\n",
        "plt.ylabel('profit in $10k')\n",
        "plt.title('Result')\n",
        "plt.legend()\n",
        "#plt.show()"
      ],
      "metadata": {
        "colab": {
          "base_uri": "https://localhost:8080/",
          "height": 312
        },
        "id": "KOj7d1ZqaH5h",
        "outputId": "0de8bdcf-699b-4cba-9249-a5649273f678"
      },
      "execution_count": 14,
      "outputs": [
        {
          "output_type": "execute_result",
          "data": {
            "text/plain": [
              "<matplotlib.legend.Legend at 0x7f97f49f1d90>"
            ]
          },
          "metadata": {},
          "execution_count": 14
        },
        {
          "output_type": "display_data",
          "data": {
            "text/plain": [
              "<Figure size 432x288 with 1 Axes>"
            ],
            "image/png": "[encoded data removed]"
          },
          "metadata": {
            "needs_background": "light"
          }
        }
      ]
    },
    {
      "cell_type": "code",
      "source": [
        "#The cost function against the number of iterations below\n",
        "plt.plot(J_history, label='cost')\n",
        "plt.xlabel('number of iterations')\n",
        "plt.ylabel('J($ \\theta $)')\n",
        "plt.title('Cost function decay')\n",
        "plt.legend()"
      ],
      "metadata": {
        "colab": {
          "base_uri": "https://localhost:8080/",
          "height": 312
        },
        "id": "bSlk7j8WsYDg",
        "outputId": "3895d619-4c86-4dd6-a3ed-d597bece8d4f"
      },
      "execution_count": 15,
      "outputs": [
        {
          "output_type": "execute_result",
          "data": {
            "text/plain": [
              "<matplotlib.legend.Legend at 0x7f97f49826d0>"
            ]
          },
          "metadata": {},
          "execution_count": 15
        },
        {
          "output_type": "display_data",
          "data": {
            "text/plain": [
              "<Figure size 432x288 with 1 Axes>"
            ],
            "image/png": "[encoded data removed]"
          },
          "metadata": {
            "needs_background": "light"
          }
        }
      ]
    },
    {
      "cell_type": "code",
      "source": [
        "#now contour plot (surface levels) and surface plot\n",
        "\n",
        "theta0vals = np.linspace(-10,10,100)\n",
        "theta1vals = np.linspace(-1,4,100)\n",
        "\n",
        "J_values =  np.zeros((len(theta0vals), len(theta1vals)))\n",
        "\n",
        "for i in range(len(theta0vals)):\n",
        "  for j in range(len(theta1vals)):\n",
        "    #t = np.array([ [theta0vals[i]], [theta1vals[j]] ])\n",
        "     t = [[theta0vals[i]],[theta1vals[j]]]\n",
        "     J_values[i,j] = cost_function(X,y,t)\n",
        "\n",
        "J_values.shape\n",
        "#J_values"
      ],
      "metadata": {
        "id": "Zr89UWtdtOL6",
        "colab": {
          "base_uri": "https://localhost:8080/"
        },
        "outputId": "2ca3f872-0000-4349-b201-312c9b8f69d4"
      },
      "execution_count": 16,
      "outputs": [
        {
          "output_type": "execute_result",
          "data": {
            "text/plain": [
              "(100, 100)"
            ]
          },
          "metadata": {},
          "execution_count": 16
        }
      ]
    },
    {
      "cell_type": "code",
      "source": [
        "# J_values.T (transpose) is required for the way contour plot works. why?\n",
        "scaling = np.logspace(-2,3,20)\n",
        "plt.contour(theta0vals, theta1vals, J_values.T, levels = np.logspace(np.log10(0.01),np.log10(1000), 20))\n",
        "plt.plot(theta[0], theta[1], 'r+')\n",
        "plt.title('A contour plot for bias theta')"
      ],
      "metadata": {
        "colab": {
          "base_uri": "https://localhost:8080/",
          "height": 298
        },
        "id": "vvIwXxx469K1",
        "outputId": "60337a45-0a25-490a-9d34-ed44373ed132"
      },
      "execution_count": 17,
      "outputs": [
        {
          "output_type": "execute_result",
          "data": {
            "text/plain": [
              "Text(0.5, 1.0, 'A contour plot for bias theta')"
            ]
          },
          "metadata": {},
          "execution_count": 17
        },
        {
          "output_type": "display_data",
          "data": {
            "text/plain": [
              "<Figure size 432x288 with 1 Axes>"
            ],
            "image/png": "[encoded data removed]"
          },
          "metadata": {
            "needs_background": "light"
          }
        }
      ]
    },
    {
      "cell_type": "code",
      "source": [
        "#alternatively                      \n",
        "\n",
        "J_matrix = np.array([np.array([cost_function(X,y, [[theta0vals[i]],[theta1vals[j]]]).reshape(1) \n",
        "                                                                for i in range(len(theta0vals))]).reshape(100) \n",
        "                                                                      for j in range(len(theta1vals))])\n",
        "\n",
        "#now the matrix needs no transposing this time.. why?\n",
        "plt.contour(theta0vals, theta1vals, J_matrix, levels = np.logspace(np.log10(0.01),np.log10(1000), 20)  )\n",
        "plt.show()\n",
        "print(J_matrix.shape)\n",
        "J_matrix"
      ],
      "metadata": {
        "id": "DZQ7kczbTrSu",
        "colab": {
          "base_uri": "https://localhost:8080/",
          "height": 512
        },
        "outputId": "a127fb92-3309-4655-b286-909461d3ca11"
      },
      "execution_count": 18,
      "outputs": [
        {
          "output_type": "display_data",
          "data": {
            "text/plain": [
              "<Figure size 432x288 with 1 Axes>"
            ],
            "image/png": "[encoded data removed]"
          },
          "metadata": {
            "needs_background": "light"
          }
        },
        {
          "output_type": "stream",
          "name": "stdout",
          "text": [
            "(100, 100)\n"
          ]
        },
        {
          "output_type": "execute_result",
          "data": {
            "text/plain": [
              "array([[328.09290555, 323.26504192, 318.47799046, ...,  49.81156018,\n",
              "         48.94247627,  48.11420452],\n",
              "       [316.6648683 , 311.92025945, 307.21646275, ...,  46.45923561,\n",
              "         45.67340647,  44.9283895 ],\n",
              "       [305.44447299, 300.7831189 , 296.16257698, ...,  43.31455298,\n",
              "         42.61197861,  41.95021641],\n",
              "       ...,\n",
              "       [186.35412584, 189.60197489, 192.89063611, ..., 691.41691065,\n",
              "        698.62353943, 705.87098036],\n",
              "       [195.06735595, 198.39845977, 201.77037576, ..., 708.20585345,\n",
              "        715.49573699, 722.82643269],\n",
              "       [203.98822799, 207.40258658, 210.85775734, ..., 725.20243817,\n",
              "        732.57557648, 739.98952696]])"
            ]
          },
          "metadata": {},
          "execution_count": 18
        }
      ]
    },
    {
      "cell_type": "code",
      "source": [
        "#Note the role of first and second components i,j in regard to row and colum\n",
        "A = [1,2,3,4]\n",
        "B= [1,2,3]\n",
        "M = np.array([[(a,b) for a in A] for b in B])\n",
        "print(M.shape)\n",
        "M.tolist() #removes third dimension. 3 rows(b) and 4 columns(a)"
      ],
      "metadata": {
        "colab": {
          "base_uri": "https://localhost:8080/"
        },
        "id": "FeaFlGQn4j-t",
        "outputId": "a9630911-3596-4b4f-e467-a4adf27fbcf1"
      },
      "execution_count": 19,
      "outputs": [
        {
          "output_type": "stream",
          "name": "stdout",
          "text": [
            "(3, 4, 2)\n"
          ]
        },
        {
          "output_type": "execute_result",
          "data": {
            "text/plain": [
              "[[[1, 1], [2, 1], [3, 1], [4, 1]],\n",
              " [[1, 2], [2, 2], [3, 2], [4, 2]],\n",
              " [[1, 3], [2, 3], [3, 3], [4, 3]]]"
            ]
          },
          "metadata": {},
          "execution_count": 19
        }
      ]
    },
    {
      "cell_type": "code",
      "source": [
        "#Another way using numpy meshgrid\n",
        "theta0vals = np.linspace(-10,10,100)\n",
        "theta1vals = np.linspace(-1,4,100)  \n",
        "\n",
        "def f(theta0vals, theta1vals):\n",
        "  \n",
        "  Z = np.zeros((len(theta0vals), len(theta1vals)))\n",
        "\n",
        "  for (i, value0) in enumerate(U):\n",
        "    for (j, value1 ) in enumerate(V):\n",
        "      t = [[value0[i]],[value1[j]]]\n",
        "      Z[i,j] = 1/(2*m) * ((np.dot(X,t)) - y).T @ ( np.dot(X,t) - y)\n",
        "  return Z.T\n",
        "#Take transpose as contour plot flips directions\n",
        "\n",
        "U, V = np.meshgrid(theta0vals, theta1vals)\n",
        "\n",
        "plt.contour(U,V, f(U,V), levels = np.logspace(np.log10(0.01),np.log10(1000), 20))\n",
        "plt.plot(theta[0], theta[1], 'r+')\n",
        "plt.title('A contour plot for bias theta')\n",
        "plt.show()\n"
      ],
      "metadata": {
        "colab": {
          "base_uri": "https://localhost:8080/",
          "height": 281
        },
        "id": "tMX2cp7OQeRv",
        "outputId": "4cc67152-afb7-4ff8-d6f3-1bf5ac14d28e"
      },
      "execution_count": 20,
      "outputs": [
        {
          "output_type": "display_data",
          "data": {
            "text/plain": [
              "<Figure size 432x288 with 1 Axes>"
            ],
            "image/png": "[encoded data removed]"
          },
          "metadata": {
            "needs_background": "light"
          }
        }
      ]
    },
    {
      "cell_type": "code",
      "source": [
        ""
      ],
      "metadata": {
        "id": "Tr3O8RQK7TK9"
      },
      "execution_count": 20,
      "outputs": []
    },
    {
      "cell_type": "markdown",
      "source": [
        "#Basic Linear Algebra/Statistics\n",
        "For one feature, the relation between the parameter and the intercept is straightforward and can be easily checked against the covariance matrix and mean values."
      ],
      "metadata": {
        "id": "-pk3xtQQ-sag"
      }
    },
    {
      "cell_type": "code",
      "source": [
        "#The linear relation, measured by correlation, between the the feature and the target is clear\n",
        "#in the following picture\n",
        "sns.heatmap(data.corr(), annot=True)"
      ],
      "metadata": {
        "colab": {
          "base_uri": "https://localhost:8080/",
          "height": 286
        },
        "id": "gR3Pl0GS8TrH",
        "outputId": "6d42b069-fd18-4ee4-e97e-8e3f8e91d02d"
      },
      "execution_count": 21,
      "outputs": [
        {
          "output_type": "execute_result",
          "data": {
            "text/plain": [
              "<matplotlib.axes._subplots.AxesSubplot at 0x7f97f451ddd0>"
            ]
          },
          "metadata": {},
          "execution_count": 21
        },
        {
          "output_type": "display_data",
          "data": {
            "text/plain": [
              "<Figure size 432x288 with 2 Axes>"
            ],
            "image/png": "[encoded data removed]"
          },
          "metadata": {
            "needs_background": "light"
          }
        }
      ]
    },
    {
      "cell_type": "code",
      "source": [
        "data.cov()"
      ],
      "metadata": {
        "id": "mG-HvfgPUUIv",
        "colab": {
          "base_uri": "https://localhost:8080/",
          "height": 112
        },
        "outputId": "0d2f883e-6dfd-46b9-b503-e07624854ac0"
      },
      "execution_count": 22,
      "outputs": [
        {
          "output_type": "execute_result",
          "data": {
            "text/plain": [
              "            Population    Profit\n",
              "Population   14.975999  17.86687\n",
              "Profit       17.866870  30.36299"
            ],
            "text/html": [
              "\n",
              "  <div id=\"df-9f29200f-f589-49ce-964f-f248227cdce7\">\n",
              "    <div class=\"colab-df-container\">\n",
              "      <div>\n",
              "<style scoped>\n",
              "    .dataframe tbody tr th:only-of-type {\n",
              "        vertical-align: middle;\n",
              "    }\n",
              "\n",
              "    .dataframe tbody tr th {\n",
              "        vertical-align: top;\n",
              "    }\n",
              "\n",
              "    .dataframe thead th {\n",
              "        text-align: right;\n",
              "    }\n",
              "</style>\n",
              "<table border=\"1\" class=\"dataframe\">\n",
              "  <thead>\n",
              "    <tr style=\"text-align: right;\">\n",
              "      <th></th>\n",
              "      <th>Population</th>\n",
              "      <th>Profit</th>\n",
              "    </tr>\n",
              "  </thead>\n",
              "  <tbody>\n",
              "    <tr>\n",
              "      <th>Population</th>\n",
              "      <td>14.975999</td>\n",
              "      <td>17.86687</td>\n",
              "    </tr>\n",
              "    <tr>\n",
              "      <th>Profit</th>\n",
              "      <td>17.866870</td>\n",
              "      <td>30.36299</td>\n",
              "    </tr>\n",
              "  </tbody>\n",
              "</table>\n",
              "</div>\n",
              "      <button class=\"colab-df-convert\" onclick=\"convertToInteractive('df-9f29200f-f589-49ce-964f-f248227cdce7')\"\n",
              "              title=\"Convert this dataframe to an interactive table.\"\n",
              "              style=\"display:none;\">\n",
              "        \n",
              "  <svg xmlns=\"http://www.w3.org/2000/svg\" height=\"24px\"viewBox=\"0 0 24 24\"\n",
              "       width=\"24px\">\n",
              "    <path d=\"M0 0h24v24H0V0z\" fill=\"none\"/>\n",
              "    <path d=\"M18.56 5.44l.94 2.06.94-2.06 2.06-.94-2.06-.94-.94-2.06-.94 2.06-2.06.94zm-11 1L8.5 8.5l.94-2.06 2.06-.94-2.06-.94L8.5 2.5l-.94 2.06-2.06.94zm10 10l.94 2.06.94-2.06 2.06-.94-2.06-.94-.94-2.06-.94 2.06-2.06.94z\"/><path d=\"M17.41 7.96l-1.37-1.37c-.4-.4-.92-.59-1.43-.59-.52 0-1.04.2-1.43.59L10.3 9.45l-7.72 7.72c-.78.78-.78 2.05 0 2.83L4 21.41c.39.39.9.59 1.41.59.51 0 1.02-.2 1.41-.59l7.78-7.78 2.81-2.81c.8-.78.8-2.07 0-2.86zM5.41 20L4 18.59l7.72-7.72 1.47 1.35L5.41 20z\"/>\n",
              "  </svg>\n",
              "      </button>\n",
              "      \n",
              "  <style>\n",
              "    .colab-df-container {\n",
              "      display:flex;\n",
              "      flex-wrap:wrap;\n",
              "      gap: 12px;\n",
              "    }\n",
              "\n",
              "    .colab-df-convert {\n",
              "      background-color: #E8F0FE;\n",
              "      border: none;\n",
              "      border-radius: 50%;\n",
              "      cursor: pointer;\n",
              "      display: none;\n",
              "      fill: #1967D2;\n",
              "      height: 32px;\n",
              "      padding: 0 0 0 0;\n",
              "      width: 32px;\n",
              "    }\n",
              "\n",
              "    .colab-df-convert:hover {\n",
              "      background-color: #E2EBFA;\n",
              "      box-shadow: 0px 1px 2px rgba(60, 64, 67, 0.3), 0px 1px 3px 1px rgba(60, 64, 67, 0.15);\n",
              "      fill: #174EA6;\n",
              "    }\n",
              "\n",
              "    [theme=dark] .colab-df-convert {\n",
              "      background-color: #3B4455;\n",
              "      fill: #D2E3FC;\n",
              "    }\n",
              "\n",
              "    [theme=dark] .colab-df-convert:hover {\n",
              "      background-color: #434B5C;\n",
              "      box-shadow: 0px 1px 3px 1px rgba(0, 0, 0, 0.15);\n",
              "      filter: drop-shadow(0px 1px 2px rgba(0, 0, 0, 0.3));\n",
              "      fill: #FFFFFF;\n",
              "    }\n",
              "  </style>\n",
              "\n",
              "      <script>\n",
              "        const buttonEl =\n",
              "          document.querySelector('#df-9f29200f-f589-49ce-964f-f248227cdce7 button.colab-df-convert');\n",
              "        buttonEl.style.display =\n",
              "          google.colab.kernel.accessAllowed ? 'block' : 'none';\n",
              "\n",
              "        async function convertToInteractive(key) {\n",
              "          const element = document.querySelector('#df-9f29200f-f589-49ce-964f-f248227cdce7');\n",
              "          const dataTable =\n",
              "            await google.colab.kernel.invokeFunction('convertToInteractive',\n",
              "                                                     [key], {});\n",
              "          if (!dataTable) return;\n",
              "\n",
              "          const docLinkHtml = 'Like what you see? Visit the ' +\n",
              "            '<a target=\"_blank\" href=https://colab.research.google.com/notebooks/data_table.ipynb>data table notebook</a>'\n",
              "            + ' to learn more about interactive tables.';\n",
              "          element.innerHTML = '';\n",
              "          dataTable['output_type'] = 'display_data';\n",
              "          await google.colab.output.renderOutput(dataTable, element);\n",
              "          const docLink = document.createElement('div');\n",
              "          docLink.innerHTML = docLinkHtml;\n",
              "          element.appendChild(docLink);\n",
              "        }\n",
              "      </script>\n",
              "    </div>\n",
              "  </div>\n",
              "  "
            ]
          },
          "metadata": {},
          "execution_count": 22
        }
      ]
    },
    {
      "cell_type": "code",
      "source": [
        "data.Population.var()"
      ],
      "metadata": {
        "colab": {
          "base_uri": "https://localhost:8080/"
        },
        "id": "Kna3hBYFBzo4",
        "outputId": "626257d7-0c0f-4357-f505-774b1d5ee0ea"
      },
      "execution_count": 23,
      "outputs": [
        {
          "output_type": "execute_result",
          "data": {
            "text/plain": [
              "14.975998519375002"
            ]
          },
          "metadata": {},
          "execution_count": 23
        }
      ]
    },
    {
      "cell_type": "code",
      "source": [
        "#1 feature: theta1 = cov(x,y)/var(x)\n",
        "expected_theta1 = 17.86687/ data.Population.var()\n",
        "expected_theta1"
      ],
      "metadata": {
        "colab": {
          "base_uri": "https://localhost:8080/"
        },
        "id": "1fcKZMaNAqLs",
        "outputId": "753a2334-6ead-4d17-b264-7f15fbd3456b"
      },
      "execution_count": 24,
      "outputs": [
        {
          "output_type": "execute_result",
          "data": {
            "text/plain": [
              "1.193033638250229"
            ]
          },
          "metadata": {},
          "execution_count": 24
        }
      ]
    },
    {
      "cell_type": "code",
      "source": [
        "#Thinking of vectors and subspaces, the first parameter is also given as\n",
        "float((X[:,1]-X[:,1].mean()).T @ y)/( (X[:,1]-X[:,1].mean()).T   @ (X[:,1]-X[:,1].mean())) "
      ],
      "metadata": {
        "colab": {
          "base_uri": "https://localhost:8080/"
        },
        "id": "pnOotBtzBmBK",
        "outputId": "45e29c19-8852-4be4-a2a1-a58fc85d90af"
      },
      "execution_count": 25,
      "outputs": [
        {
          "output_type": "execute_result",
          "data": {
            "text/plain": [
              "1.1930336441895941"
            ]
          },
          "metadata": {},
          "execution_count": 25
        }
      ]
    },
    {
      "cell_type": "code",
      "source": [
        "data.mean()"
      ],
      "metadata": {
        "colab": {
          "base_uri": "https://localhost:8080/"
        },
        "id": "5HgbABEkA1AZ",
        "outputId": "be7614da-35bf-4567-94a8-2ecea37c98bd"
      },
      "execution_count": 26,
      "outputs": [
        {
          "output_type": "execute_result",
          "data": {
            "text/plain": [
              "Population    8.159800\n",
              "Profit        5.839135\n",
              "dtype: float64"
            ]
          },
          "metadata": {},
          "execution_count": 26
        }
      ]
    },
    {
      "cell_type": "code",
      "source": [
        "#1 feature: theta0 = mean(y) - theta1 * mean(x)\n",
        "expected_theta0 = data.Profit.mean() - (17.86687/ data.Population.var())*(data.Population.mean())\n",
        "expected_theta0\n"
      ],
      "metadata": {
        "colab": {
          "base_uri": "https://localhost:8080/"
        },
        "id": "iKgvw3CJBKHt",
        "outputId": "ff6d5508-8f8d-4654-caeb-34f5dde1b800"
      },
      "execution_count": 27,
      "outputs": [
        {
          "output_type": "execute_result",
          "data": {
            "text/plain": [
              "-3.8957808298478307"
            ]
          },
          "metadata": {},
          "execution_count": 27
        }
      ]
    },
    {
      "cell_type": "code",
      "source": [
        "data.Population.std() * data.Profit.std()"
      ],
      "metadata": {
        "colab": {
          "base_uri": "https://localhost:8080/"
        },
        "id": "n7_ReVrWDFxT",
        "outputId": "230a97c3-e59f-4936-da34-b6d957844541"
      },
      "execution_count": 28,
      "outputs": [
        {
          "output_type": "execute_result",
          "data": {
            "text/plain": [
              "21.324073135832304"
            ]
          },
          "metadata": {},
          "execution_count": 28
        }
      ]
    },
    {
      "cell_type": "code",
      "source": [
        "data.corr()*(data.Population.std() * data.Profit.std()) #covariance of x and y off-diagonal"
      ],
      "metadata": {
        "colab": {
          "base_uri": "https://localhost:8080/",
          "height": 112
        },
        "id": "bck4Oq41D-Ud",
        "outputId": "aab5af8b-8d41-4ac8-c117-b9874d286269"
      },
      "execution_count": 29,
      "outputs": [
        {
          "output_type": "execute_result",
          "data": {
            "text/plain": [
              "            Population     Profit\n",
              "Population   21.324073  17.866870\n",
              "Profit       17.866870  21.324073"
            ],
            "text/html": [
              "\n",
              "  <div id=\"df-0bd195bb-1296-460a-9bf2-b2af9c2a55a4\">\n",
              "    <div class=\"colab-df-container\">\n",
              "      <div>\n",
              "<style scoped>\n",
              "    .dataframe tbody tr th:only-of-type {\n",
              "        vertical-align: middle;\n",
              "    }\n",
              "\n",
              "    .dataframe tbody tr th {\n",
              "        vertical-align: top;\n",
              "    }\n",
              "\n",
              "    .dataframe thead th {\n",
              "        text-align: right;\n",
              "    }\n",
              "</style>\n",
              "<table border=\"1\" class=\"dataframe\">\n",
              "  <thead>\n",
              "    <tr style=\"text-align: right;\">\n",
              "      <th></th>\n",
              "      <th>Population</th>\n",
              "      <th>Profit</th>\n",
              "    </tr>\n",
              "  </thead>\n",
              "  <tbody>\n",
              "    <tr>\n",
              "      <th>Population</th>\n",
              "      <td>21.324073</td>\n",
              "      <td>17.866870</td>\n",
              "    </tr>\n",
              "    <tr>\n",
              "      <th>Profit</th>\n",
              "      <td>17.866870</td>\n",
              "      <td>21.324073</td>\n",
              "    </tr>\n",
              "  </tbody>\n",
              "</table>\n",
              "</div>\n",
              "      <button class=\"colab-df-convert\" onclick=\"convertToInteractive('df-0bd195bb-1296-460a-9bf2-b2af9c2a55a4')\"\n",
              "              title=\"Convert this dataframe to an interactive table.\"\n",
              "              style=\"display:none;\">\n",
              "        \n",
              "  <svg xmlns=\"http://www.w3.org/2000/svg\" height=\"24px\"viewBox=\"0 0 24 24\"\n",
              "       width=\"24px\">\n",
              "    <path d=\"M0 0h24v24H0V0z\" fill=\"none\"/>\n",
              "    <path d=\"M18.56 5.44l.94 2.06.94-2.06 2.06-.94-2.06-.94-.94-2.06-.94 2.06-2.06.94zm-11 1L8.5 8.5l.94-2.06 2.06-.94-2.06-.94L8.5 2.5l-.94 2.06-2.06.94zm10 10l.94 2.06.94-2.06 2.06-.94-2.06-.94-.94-2.06-.94 2.06-2.06.94z\"/><path d=\"M17.41 7.96l-1.37-1.37c-.4-.4-.92-.59-1.43-.59-.52 0-1.04.2-1.43.59L10.3 9.45l-7.72 7.72c-.78.78-.78 2.05 0 2.83L4 21.41c.39.39.9.59 1.41.59.51 0 1.02-.2 1.41-.59l7.78-7.78 2.81-2.81c.8-.78.8-2.07 0-2.86zM5.41 20L4 18.59l7.72-7.72 1.47 1.35L5.41 20z\"/>\n",
              "  </svg>\n",
              "      </button>\n",
              "      \n",
              "  <style>\n",
              "    .colab-df-container {\n",
              "      display:flex;\n",
              "      flex-wrap:wrap;\n",
              "      gap: 12px;\n",
              "    }\n",
              "\n",
              "    .colab-df-convert {\n",
              "      background-color: #E8F0FE;\n",
              "      border: none;\n",
              "      border-radius: 50%;\n",
              "      cursor: pointer;\n",
              "      display: none;\n",
              "      fill: #1967D2;\n",
              "      height: 32px;\n",
              "      padding: 0 0 0 0;\n",
              "      width: 32px;\n",
              "    }\n",
              "\n",
              "    .colab-df-convert:hover {\n",
              "      background-color: #E2EBFA;\n",
              "      box-shadow: 0px 1px 2px rgba(60, 64, 67, 0.3), 0px 1px 3px 1px rgba(60, 64, 67, 0.15);\n",
              "      fill: #174EA6;\n",
              "    }\n",
              "\n",
              "    [theme=dark] .colab-df-convert {\n",
              "      background-color: #3B4455;\n",
              "      fill: #D2E3FC;\n",
              "    }\n",
              "\n",
              "    [theme=dark] .colab-df-convert:hover {\n",
              "      background-color: #434B5C;\n",
              "      box-shadow: 0px 1px 3px 1px rgba(0, 0, 0, 0.15);\n",
              "      filter: drop-shadow(0px 1px 2px rgba(0, 0, 0, 0.3));\n",
              "      fill: #FFFFFF;\n",
              "    }\n",
              "  </style>\n",
              "\n",
              "      <script>\n",
              "        const buttonEl =\n",
              "          document.querySelector('#df-0bd195bb-1296-460a-9bf2-b2af9c2a55a4 button.colab-df-convert');\n",
              "        buttonEl.style.display =\n",
              "          google.colab.kernel.accessAllowed ? 'block' : 'none';\n",
              "\n",
              "        async function convertToInteractive(key) {\n",
              "          const element = document.querySelector('#df-0bd195bb-1296-460a-9bf2-b2af9c2a55a4');\n",
              "          const dataTable =\n",
              "            await google.colab.kernel.invokeFunction('convertToInteractive',\n",
              "                                                     [key], {});\n",
              "          if (!dataTable) return;\n",
              "\n",
              "          const docLinkHtml = 'Like what you see? Visit the ' +\n",
              "            '<a target=\"_blank\" href=https://colab.research.google.com/notebooks/data_table.ipynb>data table notebook</a>'\n",
              "            + ' to learn more about interactive tables.';\n",
              "          element.innerHTML = '';\n",
              "          dataTable['output_type'] = 'display_data';\n",
              "          await google.colab.output.renderOutput(dataTable, element);\n",
              "          const docLink = document.createElement('div');\n",
              "          docLink.innerHTML = docLinkHtml;\n",
              "          element.appendChild(docLink);\n",
              "        }\n",
              "      </script>\n",
              "    </div>\n",
              "  </div>\n",
              "  "
            ]
          },
          "metadata": {},
          "execution_count": 29
        }
      ]
    },
    {
      "cell_type": "markdown",
      "source": [
        "#Linear Regression with multiple variables\n",
        "\n",
        "\"In this part, you will implement linear regression with multiple variables to\n",
        "predict the prices of houses. Suppose you are selling your house and you\n",
        "want to know what a good market price would be. One way to do this is to\n",
        "first collect information on recent houses sold and make a model of housing\n",
        "prices.\n",
        "The file ex1data2.txt contains a training set of housing prices in Port-\n",
        "land, Oregon. The first column is the size of the house (in square feet), the\n",
        "second column is the number of bedrooms, and the third column is the price\n",
        "of the house.\" (extract from Stanford-ML-ex01- Andrew Ng)"
      ],
      "metadata": {
        "id": "nGcXim0CcJVU"
      }
    },
    {
      "cell_type": "code",
      "source": [
        "path = '/content/drive/MyDrive/Machine_Learning_DS/Material/ML_Standford/ex1-octave/ex1data2.txt'\n",
        "data = pd.read_csv(path, header=None, names=['Size', 'Bedrooms', 'Price'])\n",
        "\n",
        "m = len(data['Price'])  #number of training values\n",
        "\n",
        "#make sure to create a matrix \n",
        "features = [ 'Size','Bedrooms']\n",
        "\n",
        "x = np.array( [ data['Size'], data['Bedrooms'] ] )   #capital X will be with x0s included...\n",
        "y = np.array(data['Price'])\n",
        "\n",
        "m = len(data)\n",
        "\n",
        "data.head(7)"
      ],
      "metadata": {
        "colab": {
          "base_uri": "https://localhost:8080/",
          "height": 269
        },
        "id": "kTUFNXP-cqyd",
        "outputId": "605dec13-8a9b-4515-9c0c-0f1c8be86d5d"
      },
      "execution_count": 30,
      "outputs": [
        {
          "output_type": "execute_result",
          "data": {
            "text/plain": [
              "   Size  Bedrooms   Price\n",
              "0  2104         3  399900\n",
              "1  1600         3  329900\n",
              "2  2400         3  369000\n",
              "3  1416         2  232000\n",
              "4  3000         4  539900\n",
              "5  1985         4  299900\n",
              "6  1534         3  314900"
            ],
            "text/html": [
              "\n",
              "  <div id=\"df-86b5b2fb-22cd-4860-94de-880f4bdd5423\">\n",
              "    <div class=\"colab-df-container\">\n",
              "      <div>\n",
              "<style scoped>\n",
              "    .dataframe tbody tr th:only-of-type {\n",
              "        vertical-align: middle;\n",
              "    }\n",
              "\n",
              "    .dataframe tbody tr th {\n",
              "        vertical-align: top;\n",
              "    }\n",
              "\n",
              "    .dataframe thead th {\n",
              "        text-align: right;\n",
              "    }\n",
              "</style>\n",
              "<table border=\"1\" class=\"dataframe\">\n",
              "  <thead>\n",
              "    <tr style=\"text-align: right;\">\n",
              "      <th></th>\n",
              "      <th>Size</th>\n",
              "      <th>Bedrooms</th>\n",
              "      <th>Price</th>\n",
              "    </tr>\n",
              "  </thead>\n",
              "  <tbody>\n",
              "    <tr>\n",
              "      <th>0</th>\n",
              "      <td>2104</td>\n",
              "      <td>3</td>\n",
              "      <td>399900</td>\n",
              "    </tr>\n",
              "    <tr>\n",
              "      <th>1</th>\n",
              "      <td>1600</td>\n",
              "      <td>3</td>\n",
              "      <td>329900</td>\n",
              "    </tr>\n",
              "    <tr>\n",
              "      <th>2</th>\n",
              "      <td>2400</td>\n",
              "      <td>3</td>\n",
              "      <td>369000</td>\n",
              "    </tr>\n",
              "    <tr>\n",
              "      <th>3</th>\n",
              "      <td>1416</td>\n",
              "      <td>2</td>\n",
              "      <td>232000</td>\n",
              "    </tr>\n",
              "    <tr>\n",
              "      <th>4</th>\n",
              "      <td>3000</td>\n",
              "      <td>4</td>\n",
              "      <td>539900</td>\n",
              "    </tr>\n",
              "    <tr>\n",
              "      <th>5</th>\n",
              "      <td>1985</td>\n",
              "      <td>4</td>\n",
              "      <td>299900</td>\n",
              "    </tr>\n",
              "    <tr>\n",
              "      <th>6</th>\n",
              "      <td>1534</td>\n",
              "      <td>3</td>\n",
              "      <td>314900</td>\n",
              "    </tr>\n",
              "  </tbody>\n",
              "</table>\n",
              "</div>\n",
              "      <button class=\"colab-df-convert\" onclick=\"convertToInteractive('df-86b5b2fb-22cd-4860-94de-880f4bdd5423')\"\n",
              "              title=\"Convert this dataframe to an interactive table.\"\n",
              "              style=\"display:none;\">\n",
              "        \n",
              "  <svg xmlns=\"http://www.w3.org/2000/svg\" height=\"24px\"viewBox=\"0 0 24 24\"\n",
              "       width=\"24px\">\n",
              "    <path d=\"M0 0h24v24H0V0z\" fill=\"none\"/>\n",
              "    <path d=\"M18.56 5.44l.94 2.06.94-2.06 2.06-.94-2.06-.94-.94-2.06-.94 2.06-2.06.94zm-11 1L8.5 8.5l.94-2.06 2.06-.94-2.06-.94L8.5 2.5l-.94 2.06-2.06.94zm10 10l.94 2.06.94-2.06 2.06-.94-2.06-.94-.94-2.06-.94 2.06-2.06.94z\"/><path d=\"M17.41 7.96l-1.37-1.37c-.4-.4-.92-.59-1.43-.59-.52 0-1.04.2-1.43.59L10.3 9.45l-7.72 7.72c-.78.78-.78 2.05 0 2.83L4 21.41c.39.39.9.59 1.41.59.51 0 1.02-.2 1.41-.59l7.78-7.78 2.81-2.81c.8-.78.8-2.07 0-2.86zM5.41 20L4 18.59l7.72-7.72 1.47 1.35L5.41 20z\"/>\n",
              "  </svg>\n",
              "      </button>\n",
              "      \n",
              "  <style>\n",
              "    .colab-df-container {\n",
              "      display:flex;\n",
              "      flex-wrap:wrap;\n",
              "      gap: 12px;\n",
              "    }\n",
              "\n",
              "    .colab-df-convert {\n",
              "      background-color: #E8F0FE;\n",
              "      border: none;\n",
              "      border-radius: 50%;\n",
              "      cursor: pointer;\n",
              "      display: none;\n",
              "      fill: #1967D2;\n",
              "      height: 32px;\n",
              "      padding: 0 0 0 0;\n",
              "      width: 32px;\n",
              "    }\n",
              "\n",
              "    .colab-df-convert:hover {\n",
              "      background-color: #E2EBFA;\n",
              "      box-shadow: 0px 1px 2px rgba(60, 64, 67, 0.3), 0px 1px 3px 1px rgba(60, 64, 67, 0.15);\n",
              "      fill: #174EA6;\n",
              "    }\n",
              "\n",
              "    [theme=dark] .colab-df-convert {\n",
              "      background-color: #3B4455;\n",
              "      fill: #D2E3FC;\n",
              "    }\n",
              "\n",
              "    [theme=dark] .colab-df-convert:hover {\n",
              "      background-color: #434B5C;\n",
              "      box-shadow: 0px 1px 3px 1px rgba(0, 0, 0, 0.15);\n",
              "      filter: drop-shadow(0px 1px 2px rgba(0, 0, 0, 0.3));\n",
              "      fill: #FFFFFF;\n",
              "    }\n",
              "  </style>\n",
              "\n",
              "      <script>\n",
              "        const buttonEl =\n",
              "          document.querySelector('#df-86b5b2fb-22cd-4860-94de-880f4bdd5423 button.colab-df-convert');\n",
              "        buttonEl.style.display =\n",
              "          google.colab.kernel.accessAllowed ? 'block' : 'none';\n",
              "\n",
              "        async function convertToInteractive(key) {\n",
              "          const element = document.querySelector('#df-86b5b2fb-22cd-4860-94de-880f4bdd5423');\n",
              "          const dataTable =\n",
              "            await google.colab.kernel.invokeFunction('convertToInteractive',\n",
              "                                                     [key], {});\n",
              "          if (!dataTable) return;\n",
              "\n",
              "          const docLinkHtml = 'Like what you see? Visit the ' +\n",
              "            '<a target=\"_blank\" href=https://colab.research.google.com/notebooks/data_table.ipynb>data table notebook</a>'\n",
              "            + ' to learn more about interactive tables.';\n",
              "          element.innerHTML = '';\n",
              "          dataTable['output_type'] = 'display_data';\n",
              "          await google.colab.output.renderOutput(dataTable, element);\n",
              "          const docLink = document.createElement('div');\n",
              "          docLink.innerHTML = docLinkHtml;\n",
              "          element.appendChild(docLink);\n",
              "        }\n",
              "      </script>\n",
              "    </div>\n",
              "  </div>\n",
              "  "
            ]
          },
          "metadata": {},
          "execution_count": 30
        }
      ]
    },
    {
      "cell_type": "code",
      "source": [
        "data.info()"
      ],
      "metadata": {
        "colab": {
          "base_uri": "https://localhost:8080/"
        },
        "id": "IzpgnlXFeMpC",
        "outputId": "3ecde82f-9e41-42f5-be07-f78191712954"
      },
      "execution_count": 31,
      "outputs": [
        {
          "output_type": "stream",
          "name": "stdout",
          "text": [
            "<class 'pandas.core.frame.DataFrame'>\n",
            "RangeIndex: 47 entries, 0 to 46\n",
            "Data columns (total 3 columns):\n",
            " #   Column    Non-Null Count  Dtype\n",
            "---  ------    --------------  -----\n",
            " 0   Size      47 non-null     int64\n",
            " 1   Bedrooms  47 non-null     int64\n",
            " 2   Price     47 non-null     int64\n",
            "dtypes: int64(3)\n",
            "memory usage: 1.2 KB\n"
          ]
        }
      ]
    },
    {
      "cell_type": "code",
      "source": [
        "data.describe()  #5-point description"
      ],
      "metadata": {
        "colab": {
          "base_uri": "https://localhost:8080/",
          "height": 300
        },
        "id": "MbNBh0tTfPjZ",
        "outputId": "d8ea5295-0c75-4256-9bca-d08a70b1ca7b"
      },
      "execution_count": 32,
      "outputs": [
        {
          "output_type": "execute_result",
          "data": {
            "text/plain": [
              "              Size   Bedrooms          Price\n",
              "count    47.000000  47.000000      47.000000\n",
              "mean   2000.680851   3.170213  340412.659574\n",
              "std     794.702354   0.760982  125039.899586\n",
              "min     852.000000   1.000000  169900.000000\n",
              "25%    1432.000000   3.000000  249900.000000\n",
              "50%    1888.000000   3.000000  299900.000000\n",
              "75%    2269.000000   4.000000  384450.000000\n",
              "max    4478.000000   5.000000  699900.000000"
            ],
            "text/html": [
              "\n",
              "  <div id=\"df-a7897103-7e79-4ba7-82ef-8f6cfa567475\">\n",
              "    <div class=\"colab-df-container\">\n",
              "      <div>\n",
              "<style scoped>\n",
              "    .dataframe tbody tr th:only-of-type {\n",
              "        vertical-align: middle;\n",
              "    }\n",
              "\n",
              "    .dataframe tbody tr th {\n",
              "        vertical-align: top;\n",
              "    }\n",
              "\n",
              "    .dataframe thead th {\n",
              "        text-align: right;\n",
              "    }\n",
              "</style>\n",
              "<table border=\"1\" class=\"dataframe\">\n",
              "  <thead>\n",
              "    <tr style=\"text-align: right;\">\n",
              "      <th></th>\n",
              "      <th>Size</th>\n",
              "      <th>Bedrooms</th>\n",
              "      <th>Price</th>\n",
              "    </tr>\n",
              "  </thead>\n",
              "  <tbody>\n",
              "    <tr>\n",
              "      <th>count</th>\n",
              "      <td>47.000000</td>\n",
              "      <td>47.000000</td>\n",
              "      <td>47.000000</td>\n",
              "    </tr>\n",
              "    <tr>\n",
              "      <th>mean</th>\n",
              "      <td>2000.680851</td>\n",
              "      <td>3.170213</td>\n",
              "      <td>340412.659574</td>\n",
              "    </tr>\n",
              "    <tr>\n",
              "      <th>std</th>\n",
              "      <td>794.702354</td>\n",
              "      <td>0.760982</td>\n",
              "      <td>125039.899586</td>\n",
              "    </tr>\n",
              "    <tr>\n",
              "      <th>min</th>\n",
              "      <td>852.000000</td>\n",
              "      <td>1.000000</td>\n",
              "      <td>169900.000000</td>\n",
              "    </tr>\n",
              "    <tr>\n",
              "      <th>25%</th>\n",
              "      <td>1432.000000</td>\n",
              "      <td>3.000000</td>\n",
              "      <td>249900.000000</td>\n",
              "    </tr>\n",
              "    <tr>\n",
              "      <th>50%</th>\n",
              "      <td>1888.000000</td>\n",
              "      <td>3.000000</td>\n",
              "      <td>299900.000000</td>\n",
              "    </tr>\n",
              "    <tr>\n",
              "      <th>75%</th>\n",
              "      <td>2269.000000</td>\n",
              "      <td>4.000000</td>\n",
              "      <td>384450.000000</td>\n",
              "    </tr>\n",
              "    <tr>\n",
              "      <th>max</th>\n",
              "      <td>4478.000000</td>\n",
              "      <td>5.000000</td>\n",
              "      <td>699900.000000</td>\n",
              "    </tr>\n",
              "  </tbody>\n",
              "</table>\n",
              "</div>\n",
              "      <button class=\"colab-df-convert\" onclick=\"convertToInteractive('df-a7897103-7e79-4ba7-82ef-8f6cfa567475')\"\n",
              "              title=\"Convert this dataframe to an interactive table.\"\n",
              "              style=\"display:none;\">\n",
              "        \n",
              "  <svg xmlns=\"http://www.w3.org/2000/svg\" height=\"24px\"viewBox=\"0 0 24 24\"\n",
              "       width=\"24px\">\n",
              "    <path d=\"M0 0h24v24H0V0z\" fill=\"none\"/>\n",
              "    <path d=\"M18.56 5.44l.94 2.06.94-2.06 2.06-.94-2.06-.94-.94-2.06-.94 2.06-2.06.94zm-11 1L8.5 8.5l.94-2.06 2.06-.94-2.06-.94L8.5 2.5l-.94 2.06-2.06.94zm10 10l.94 2.06.94-2.06 2.06-.94-2.06-.94-.94-2.06-.94 2.06-2.06.94z\"/><path d=\"M17.41 7.96l-1.37-1.37c-.4-.4-.92-.59-1.43-.59-.52 0-1.04.2-1.43.59L10.3 9.45l-7.72 7.72c-.78.78-.78 2.05 0 2.83L4 21.41c.39.39.9.59 1.41.59.51 0 1.02-.2 1.41-.59l7.78-7.78 2.81-2.81c.8-.78.8-2.07 0-2.86zM5.41 20L4 18.59l7.72-7.72 1.47 1.35L5.41 20z\"/>\n",
              "  </svg>\n",
              "      </button>\n",
              "      \n",
              "  <style>\n",
              "    .colab-df-container {\n",
              "      display:flex;\n",
              "      flex-wrap:wrap;\n",
              "      gap: 12px;\n",
              "    }\n",
              "\n",
              "    .colab-df-convert {\n",
              "      background-color: #E8F0FE;\n",
              "      border: none;\n",
              "      border-radius: 50%;\n",
              "      cursor: pointer;\n",
              "      display: none;\n",
              "      fill: #1967D2;\n",
              "      height: 32px;\n",
              "      padding: 0 0 0 0;\n",
              "      width: 32px;\n",
              "    }\n",
              "\n",
              "    .colab-df-convert:hover {\n",
              "      background-color: #E2EBFA;\n",
              "      box-shadow: 0px 1px 2px rgba(60, 64, 67, 0.3), 0px 1px 3px 1px rgba(60, 64, 67, 0.15);\n",
              "      fill: #174EA6;\n",
              "    }\n",
              "\n",
              "    [theme=dark] .colab-df-convert {\n",
              "      background-color: #3B4455;\n",
              "      fill: #D2E3FC;\n",
              "    }\n",
              "\n",
              "    [theme=dark] .colab-df-convert:hover {\n",
              "      background-color: #434B5C;\n",
              "      box-shadow: 0px 1px 3px 1px rgba(0, 0, 0, 0.15);\n",
              "      filter: drop-shadow(0px 1px 2px rgba(0, 0, 0, 0.3));\n",
              "      fill: #FFFFFF;\n",
              "    }\n",
              "  </style>\n",
              "\n",
              "      <script>\n",
              "        const buttonEl =\n",
              "          document.querySelector('#df-a7897103-7e79-4ba7-82ef-8f6cfa567475 button.colab-df-convert');\n",
              "        buttonEl.style.display =\n",
              "          google.colab.kernel.accessAllowed ? 'block' : 'none';\n",
              "\n",
              "        async function convertToInteractive(key) {\n",
              "          const element = document.querySelector('#df-a7897103-7e79-4ba7-82ef-8f6cfa567475');\n",
              "          const dataTable =\n",
              "            await google.colab.kernel.invokeFunction('convertToInteractive',\n",
              "                                                     [key], {});\n",
              "          if (!dataTable) return;\n",
              "\n",
              "          const docLinkHtml = 'Like what you see? Visit the ' +\n",
              "            '<a target=\"_blank\" href=https://colab.research.google.com/notebooks/data_table.ipynb>data table notebook</a>'\n",
              "            + ' to learn more about interactive tables.';\n",
              "          element.innerHTML = '';\n",
              "          dataTable['output_type'] = 'display_data';\n",
              "          await google.colab.output.renderOutput(dataTable, element);\n",
              "          const docLink = document.createElement('div');\n",
              "          docLink.innerHTML = docLinkHtml;\n",
              "          element.appendChild(docLink);\n",
              "        }\n",
              "      </script>\n",
              "    </div>\n",
              "  </div>\n",
              "  "
            ]
          },
          "metadata": {},
          "execution_count": 32
        }
      ]
    },
    {
      "cell_type": "code",
      "source": [
        "#The examples with 5 bedrooms are scarce and will not give much information\n",
        "#that is the same case for those with only 1 bedroom (check)\n",
        "data[data['Bedrooms'] >=5 ]['Bedrooms'].count()"
      ],
      "metadata": {
        "colab": {
          "base_uri": "https://localhost:8080/"
        },
        "id": "ouOgEcK4Cemq",
        "outputId": "06a099b2-0577-4859-c893-fc2a96cf8a35"
      },
      "execution_count": 33,
      "outputs": [
        {
          "output_type": "execute_result",
          "data": {
            "text/plain": [
              "1"
            ]
          },
          "metadata": {},
          "execution_count": 33
        }
      ]
    },
    {
      "cell_type": "code",
      "source": [
        "#The visible linear dependence of price and Size can be seen below\n",
        "#note the behaviour of examples with 3 and 4 bedrooms\n",
        "sns.pairplot(data, hue= 'Bedrooms' , diag_kind='kde')"
      ],
      "metadata": {
        "colab": {
          "base_uri": "https://localhost:8080/",
          "height": 391
        },
        "id": "BzkeyqL6-ePu",
        "outputId": "aa64274e-20a0-4bba-c8d3-c50b937657aa"
      },
      "execution_count": 34,
      "outputs": [
        {
          "output_type": "execute_result",
          "data": {
            "text/plain": [
              "<seaborn.axisgrid.PairGrid at 0x7f97f44be710>"
            ]
          },
          "metadata": {},
          "execution_count": 34
        },
        {
          "output_type": "display_data",
          "data": {
            "text/plain": [
              "<Figure size 418.125x360 with 6 Axes>"
            ],
            "image/png": "[encoded data removed]"
          },
          "metadata": {
            "needs_background": "light"
          }
        }
      ]
    },
    {
      "cell_type": "code",
      "source": [
        "#the data size has 2 features , 1 target and 47 examples\n",
        "print(data.shape)\n",
        "print(x.shape)\n",
        "print(y.shape)"
      ],
      "metadata": {
        "colab": {
          "base_uri": "https://localhost:8080/"
        },
        "id": "i0eweQ64fT8V",
        "outputId": "5fa22acd-69a5-4da5-ff4d-8851865b1bea"
      },
      "execution_count": 35,
      "outputs": [
        {
          "output_type": "stream",
          "name": "stdout",
          "text": [
            "(47, 3)\n",
            "(2, 47)\n",
            "(47,)\n"
          ]
        }
      ]
    },
    {
      "cell_type": "code",
      "source": [
        "#but the shapes are not as we want at the moment\n",
        "x = x.T   #transpose (ONCE!) to make examples along rows\n",
        "(m,n) = x.shape\n",
        "print(m,n)"
      ],
      "metadata": {
        "colab": {
          "base_uri": "https://localhost:8080/"
        },
        "id": "u2m0lXQzfcaN",
        "outputId": "cd00500e-2501-4f46-f874-187fe1c4a3ba"
      },
      "execution_count": 36,
      "outputs": [
        {
          "output_type": "stream",
          "name": "stdout",
          "text": [
            "47 2\n"
          ]
        }
      ]
    },
    {
      "cell_type": "code",
      "source": [
        "x[:5]"
      ],
      "metadata": {
        "colab": {
          "base_uri": "https://localhost:8080/"
        },
        "id": "8jESO9UpxXye",
        "outputId": "263496a2-8a68-4f99-cd04-1c65d94d0baa"
      },
      "execution_count": 37,
      "outputs": [
        {
          "output_type": "execute_result",
          "data": {
            "text/plain": [
              "array([[2104,    3],\n",
              "       [1600,    3],\n",
              "       [2400,    3],\n",
              "       [1416,    2],\n",
              "       [3000,    4]])"
            ]
          },
          "metadata": {},
          "execution_count": 37
        }
      ]
    },
    {
      "cell_type": "code",
      "source": [
        "#Reshape such that we have column vectors and matrices\n",
        "#x was corrected with transpose but make sure all formates are fixed as follows\n",
        "\n",
        "x = x.reshape(m,n)\n",
        "y = y.reshape(m,1)\n",
        "\n",
        "print(x.shape)\n",
        "print(y.shape)"
      ],
      "metadata": {
        "colab": {
          "base_uri": "https://localhost:8080/"
        },
        "id": "BswhPprZf8sY",
        "outputId": "c2a8f5da-ce1d-45fb-b57e-6d6e913d871a"
      },
      "execution_count": 38,
      "outputs": [
        {
          "output_type": "stream",
          "name": "stdout",
          "text": [
            "(47, 2)\n",
            "(47, 1)\n"
          ]
        }
      ]
    },
    {
      "cell_type": "code",
      "source": [
        "x[1]"
      ],
      "metadata": {
        "colab": {
          "base_uri": "https://localhost:8080/"
        },
        "id": "BNNpWRfbxIuJ",
        "outputId": "aa1f4557-aa15-4120-bf04-1c98ebfe6c0e"
      },
      "execution_count": 39,
      "outputs": [
        {
          "output_type": "execute_result",
          "data": {
            "text/plain": [
              "array([1600,    3])"
            ]
          },
          "metadata": {},
          "execution_count": 39
        }
      ]
    },
    {
      "cell_type": "code",
      "source": [
        "#Look at this plot below. The orders of magnitude of Size are larger than \n",
        "#the orders of magnitude in Bedrooms. In fact, Sizes are of order 10^3 and Bedrooms only 10^0.\n",
        "features = ['Size','Bedrooms']\n",
        "data[features].plot()"
      ],
      "metadata": {
        "colab": {
          "base_uri": "https://localhost:8080/",
          "height": 282
        },
        "id": "bCjC6lpLgOmf",
        "outputId": "027ac37d-0748-4167-a306-fa32a76f3410"
      },
      "execution_count": 40,
      "outputs": [
        {
          "output_type": "execute_result",
          "data": {
            "text/plain": [
              "<matplotlib.axes._subplots.AxesSubplot at 0x7f97ef911a90>"
            ]
          },
          "metadata": {},
          "execution_count": 40
        },
        {
          "output_type": "display_data",
          "data": {
            "text/plain": [
              "<Figure size 432x288 with 1 Axes>"
            ],
            "image/png": "[encoded data removed]"
          },
          "metadata": {
            "needs_background": "light"
          }
        }
      ]
    },
    {
      "cell_type": "code",
      "source": [
        ""
      ],
      "metadata": {
        "id": "CSeG6KZ4q7ph"
      },
      "execution_count": 40,
      "outputs": []
    },
    {
      "cell_type": "markdown",
      "source": [
        "#Standard deviation and normalization\n",
        "Before we normalize the features, note that Pandas standard deviation is different from Numpy std(). The reason is that Pandas will use the corrected version (Bessel's correction), where the mean value is a data estimation of the true mean value, while Numpy considers the uncorrected standard deviation. That is, Pandas assumes that the mean/expectation_value is calculated from a sample only. Numpy considers it is calculated from a population. These two concepts are different in statistics, because the sample is, generally, data coming from the population, a subset of all the data!\n",
        "\n",
        "Specifically, let $N$ be the number of examples observed, these two quantities differ by\n",
        "\n",
        "$$  \\sigma_{\\textrm{sample}} = \\sqrt{ \\left( \\frac{1}{N-1} \\sum_{i=1}^{N} (x_i - \\bar{x})^2   \\right) },$$\n",
        "\n",
        "$$ \\sigma_{\\textrm{population}} =  \\sqrt{ \\left( \\frac{1}{N} \\sum_{i=1}^{N} (x_i - \\mu)^2   \\right) },$$\n",
        "where we understand the true mean value as $\\mu$ and the mean value $\\bar{x}$ from the dataset (subset of a population) is a data estimation of the true mean. Note that $\\sigma_{\\textrm{sample}} \\geq \\sigma_{\\textrm{population}}$.\n",
        "\n",
        "If we tell Numpy to use \"ddof=1\", it will be equivalent to the Pandas default, namely, the standard deviation of a sample. Conversely, we would set \"ddof=0\" in Pandas to calculate the population standard deviation.\n",
        "\n",
        "On a different note,  when we peform feature normalization, it is useful to store their values of mean() and std(), because we want to make prediction with unseen data and will need to normalize as well the unseen data.\n",
        "Finally, the normalization is given by $ x \\mapsto \\left(\\frac{x - \\mu }{\\sigma} \\right) $, such that the range of the features is defined in terms of how much it deviates from the standard deviation $\\sigma$. In the case of a Gaussian distribution, it is known ($68-95-99.7$ rule) that $95$% of the data lies within the range $(\\mu \\pm  2 \\sigma)$ and $99.7$% within three standard deviations of the mean $(\\mu \\pm  3 \\sigma)$. More generally, the Chebyshev's inequality stats that at least ($1 - \\frac{1}{k^2}) \\times 100$% of the data lies within $k$ standard deviations away from the mean. Hence, at least $75$% of the data is included in the range $\\mu \\pm  2 \\sigma$. These observations can be seen below after we have performed feature normlatization.\n",
        "\n",
        "\n",
        "\n",
        "\"Implementation Note: When normalizing the features, it is important\n",
        "to store the values used for normalization - the mean value and the stan-\n",
        "dard deviation used for the computations. After learning the parameters\n",
        "from the model, we often want to predict the prices of houses we have not\n",
        "seen before. Given a new x value (living room area and number of bed-\n",
        "rooms), we must first normalize x using the mean and standard deviation\n",
        "that we had previously computed from the training set.\" (Stanford-ML-ex01- Andrew Ng)"
      ],
      "metadata": {
        "id": "BpijHFvCXaIC"
      }
    },
    {
      "cell_type": "code",
      "source": [
        "print( data['Size'].std(), data['Bedrooms'].std())\n",
        "#slightly different \n",
        "print(np.std(x, axis=0))\n"
      ],
      "metadata": {
        "colab": {
          "base_uri": "https://localhost:8080/"
        },
        "id": "vHSQRGuVXn89",
        "outputId": "79a2b443-89f8-4f4f-ad3c-2c1e8557ba4b"
      },
      "execution_count": 41,
      "outputs": [
        {
          "output_type": "stream",
          "name": "stdout",
          "text": [
            "794.7023535338897 0.7609818867800999\n",
            "[7.86202619e+02 7.52842809e-01]\n"
          ]
        }
      ]
    },
    {
      "cell_type": "code",
      "source": [
        "#More than a matter of visualization, which is important for interpretation,\n",
        "#so distinct numbers will not be helpful in the process of convergence required\n",
        "#in optimization problems. The so called 'feature normalization' is a way to deal with this problem.\n",
        "#Basically, we will normalize the features using mean (expectation value) and standard deviation\n",
        "\n",
        "def featureNormalize(x):\n",
        "  \"\"\"Given the features x, return the features normalized, mean and standard deviation, respectively. \"\"\"\n",
        "  x_norm = x\n",
        "\n",
        "  mu = np.mean(x, axis=0)  #take elements along rows of same column (mean value of each column)\n",
        "  sigma = x.std(axis=0, ddof=1)\n",
        "\n",
        "#numpy broadcasting will make it easier to vectorize the code\n",
        "  x_norm = (x - mu )/sigma     #divide is also broadcasted operation\n",
        "\n",
        "\n",
        "  return x_norm, mu, sigma\n",
        "\n",
        "\n"
      ],
      "metadata": {
        "id": "120Ji47rhAx5"
      },
      "execution_count": 42,
      "outputs": []
    },
    {
      "cell_type": "code",
      "source": [
        "x_norma, mu, sigma = featureNormalize(x) #\n",
        "\n",
        "x_norma[:3]"
      ],
      "metadata": {
        "colab": {
          "base_uri": "https://localhost:8080/"
        },
        "id": "UxLd5zW7md8T",
        "outputId": "6d080358-abf6-402d-812d-70305248c38a"
      },
      "execution_count": 43,
      "outputs": [
        {
          "output_type": "execute_result",
          "data": {
            "text/plain": [
              "array([[ 0.13000987, -0.22367519],\n",
              "       [-0.50418984, -0.22367519],\n",
              "       [ 0.50247636, -0.22367519]])"
            ]
          },
          "metadata": {},
          "execution_count": 43
        }
      ]
    },
    {
      "cell_type": "code",
      "source": [
        "print('expectation values are: ', mu)\n",
        "print('standard deviations are: ', sigma)"
      ],
      "metadata": {
        "id": "iKBlT3iHE4tx",
        "colab": {
          "base_uri": "https://localhost:8080/"
        },
        "outputId": "5b5f46b2-2dcf-49c3-c0a3-8a81cdb6e599"
      },
      "execution_count": 44,
      "outputs": [
        {
          "output_type": "stream",
          "name": "stdout",
          "text": [
            "expectation values are:  [2000.68085106    3.17021277]\n",
            "standard deviations are:  [7.94702354e+02 7.60981887e-01]\n"
          ]
        }
      ]
    },
    {
      "cell_type": "markdown",
      "source": [
        "Gradient descent is calculated again "
      ],
      "metadata": {
        "id": "W3z_ELO4GZx-"
      }
    },
    {
      "cell_type": "code",
      "source": [
        "#Now that the features are normalized, we can include the bias by means of considering the extended X \n",
        "#with a column of 1's for x0\n",
        "\n",
        "X = np.append(np.ones((m,1)), x_norma, axis=1 )\n",
        "X[:3]"
      ],
      "metadata": {
        "colab": {
          "base_uri": "https://localhost:8080/"
        },
        "id": "4rAGsCSGHtdy",
        "outputId": "3b56296f-c6af-40fe-fb74-491a2a56a754"
      },
      "execution_count": 45,
      "outputs": [
        {
          "output_type": "execute_result",
          "data": {
            "text/plain": [
              "array([[ 1.        ,  0.13000987, -0.22367519],\n",
              "       [ 1.        , -0.50418984, -0.22367519],\n",
              "       [ 1.        ,  0.50247636, -0.22367519]])"
            ]
          },
          "metadata": {},
          "execution_count": 45
        }
      ]
    },
    {
      "cell_type": "code",
      "source": [
        "X.shape"
      ],
      "metadata": {
        "colab": {
          "base_uri": "https://localhost:8080/"
        },
        "id": "WnEhdB8xK0M0",
        "outputId": "23bab321-e3a2-46f2-a8ef-324299e613e7"
      },
      "execution_count": 46,
      "outputs": [
        {
          "output_type": "execute_result",
          "data": {
            "text/plain": [
              "(47, 3)"
            ]
          },
          "metadata": {},
          "execution_count": 46
        }
      ]
    },
    {
      "cell_type": "code",
      "source": [
        "def gradientdescentMulti(X, y, theta, alpha, itera):\n",
        "  \"\"\"Gradient to update weights theta. It returns the thetas and the cost function at each iteration step \"\"\"\n",
        "\n",
        "  m = len(y) #number of training examples\n",
        "  J_history = np.zeros((itera,1)) \n",
        "  for i in range(itera):\n",
        "    theta = theta - (alpha/m) * (X.T @ (np.dot(X,theta) - y )) #vectorized\n",
        "    J_history[i] = cost_function(X, y, theta)  #store J value after updating theta and repeat process\n",
        "\n",
        "\n",
        "  return theta, J_history\n",
        "\n",
        "theta = np.zeros( (3,1) )\n",
        "alpha = 0.01\n",
        "itera = 2000  #try 3000 for better value\n",
        "\n",
        "theta, J_history = gradientdescentMulti(X, y, theta, alpha, itera)\n",
        "\n",
        "print(theta)\n",
        "z = pd.DataFrame(J_history, columns=['J values']) \n",
        "z.head()"
      ],
      "metadata": {
        "colab": {
          "base_uri": "https://localhost:8080/",
          "height": 258
        },
        "id": "tFeo8ZXvGdX2",
        "outputId": "7a2987b9-0d7b-4b91-846d-051031c49b59"
      },
      "execution_count": 47,
      "outputs": [
        {
          "output_type": "stream",
          "name": "stdout",
          "text": [
            "[[340412.65894002]\n",
            " [110620.59436465]\n",
            " [ -6639.01835663]]\n"
          ]
        },
        {
          "output_type": "execute_result",
          "data": {
            "text/plain": [
              "       J values\n",
              "0  6.430075e+10\n",
              "1  6.303679e+10\n",
              "2  6.179911e+10\n",
              "3  6.058714e+10\n",
              "4  5.940033e+10"
            ],
            "text/html": [
              "\n",
              "  <div id=\"df-22b1506d-cb73-4dd0-96b0-b1eff9cabf28\">\n",
              "    <div class=\"colab-df-container\">\n",
              "      <div>\n",
              "<style scoped>\n",
              "    .dataframe tbody tr th:only-of-type {\n",
              "        vertical-align: middle;\n",
              "    }\n",
              "\n",
              "    .dataframe tbody tr th {\n",
              "        vertical-align: top;\n",
              "    }\n",
              "\n",
              "    .dataframe thead th {\n",
              "        text-align: right;\n",
              "    }\n",
              "</style>\n",
              "<table border=\"1\" class=\"dataframe\">\n",
              "  <thead>\n",
              "    <tr style=\"text-align: right;\">\n",
              "      <th></th>\n",
              "      <th>J values</th>\n",
              "    </tr>\n",
              "  </thead>\n",
              "  <tbody>\n",
              "    <tr>\n",
              "      <th>0</th>\n",
              "      <td>6.430075e+10</td>\n",
              "    </tr>\n",
              "    <tr>\n",
              "      <th>1</th>\n",
              "      <td>6.303679e+10</td>\n",
              "    </tr>\n",
              "    <tr>\n",
              "      <th>2</th>\n",
              "      <td>6.179911e+10</td>\n",
              "    </tr>\n",
              "    <tr>\n",
              "      <th>3</th>\n",
              "      <td>6.058714e+10</td>\n",
              "    </tr>\n",
              "    <tr>\n",
              "      <th>4</th>\n",
              "      <td>5.940033e+10</td>\n",
              "    </tr>\n",
              "  </tbody>\n",
              "</table>\n",
              "</div>\n",
              "      <button class=\"colab-df-convert\" onclick=\"convertToInteractive('df-22b1506d-cb73-4dd0-96b0-b1eff9cabf28')\"\n",
              "              title=\"Convert this dataframe to an interactive table.\"\n",
              "              style=\"display:none;\">\n",
              "        \n",
              "  <svg xmlns=\"http://www.w3.org/2000/svg\" height=\"24px\"viewBox=\"0 0 24 24\"\n",
              "       width=\"24px\">\n",
              "    <path d=\"M0 0h24v24H0V0z\" fill=\"none\"/>\n",
              "    <path d=\"M18.56 5.44l.94 2.06.94-2.06 2.06-.94-2.06-.94-.94-2.06-.94 2.06-2.06.94zm-11 1L8.5 8.5l.94-2.06 2.06-.94-2.06-.94L8.5 2.5l-.94 2.06-2.06.94zm10 10l.94 2.06.94-2.06 2.06-.94-2.06-.94-.94-2.06-.94 2.06-2.06.94z\"/><path d=\"M17.41 7.96l-1.37-1.37c-.4-.4-.92-.59-1.43-.59-.52 0-1.04.2-1.43.59L10.3 9.45l-7.72 7.72c-.78.78-.78 2.05 0 2.83L4 21.41c.39.39.9.59 1.41.59.51 0 1.02-.2 1.41-.59l7.78-7.78 2.81-2.81c.8-.78.8-2.07 0-2.86zM5.41 20L4 18.59l7.72-7.72 1.47 1.35L5.41 20z\"/>\n",
              "  </svg>\n",
              "      </button>\n",
              "      \n",
              "  <style>\n",
              "    .colab-df-container {\n",
              "      display:flex;\n",
              "      flex-wrap:wrap;\n",
              "      gap: 12px;\n",
              "    }\n",
              "\n",
              "    .colab-df-convert {\n",
              "      background-color: #E8F0FE;\n",
              "      border: none;\n",
              "      border-radius: 50%;\n",
              "      cursor: pointer;\n",
              "      display: none;\n",
              "      fill: #1967D2;\n",
              "      height: 32px;\n",
              "      padding: 0 0 0 0;\n",
              "      width: 32px;\n",
              "    }\n",
              "\n",
              "    .colab-df-convert:hover {\n",
              "      background-color: #E2EBFA;\n",
              "      box-shadow: 0px 1px 2px rgba(60, 64, 67, 0.3), 0px 1px 3px 1px rgba(60, 64, 67, 0.15);\n",
              "      fill: #174EA6;\n",
              "    }\n",
              "\n",
              "    [theme=dark] .colab-df-convert {\n",
              "      background-color: #3B4455;\n",
              "      fill: #D2E3FC;\n",
              "    }\n",
              "\n",
              "    [theme=dark] .colab-df-convert:hover {\n",
              "      background-color: #434B5C;\n",
              "      box-shadow: 0px 1px 3px 1px rgba(0, 0, 0, 0.15);\n",
              "      filter: drop-shadow(0px 1px 2px rgba(0, 0, 0, 0.3));\n",
              "      fill: #FFFFFF;\n",
              "    }\n",
              "  </style>\n",
              "\n",
              "      <script>\n",
              "        const buttonEl =\n",
              "          document.querySelector('#df-22b1506d-cb73-4dd0-96b0-b1eff9cabf28 button.colab-df-convert');\n",
              "        buttonEl.style.display =\n",
              "          google.colab.kernel.accessAllowed ? 'block' : 'none';\n",
              "\n",
              "        async function convertToInteractive(key) {\n",
              "          const element = document.querySelector('#df-22b1506d-cb73-4dd0-96b0-b1eff9cabf28');\n",
              "          const dataTable =\n",
              "            await google.colab.kernel.invokeFunction('convertToInteractive',\n",
              "                                                     [key], {});\n",
              "          if (!dataTable) return;\n",
              "\n",
              "          const docLinkHtml = 'Like what you see? Visit the ' +\n",
              "            '<a target=\"_blank\" href=https://colab.research.google.com/notebooks/data_table.ipynb>data table notebook</a>'\n",
              "            + ' to learn more about interactive tables.';\n",
              "          element.innerHTML = '';\n",
              "          dataTable['output_type'] = 'display_data';\n",
              "          await google.colab.output.renderOutput(dataTable, element);\n",
              "          const docLink = document.createElement('div');\n",
              "          docLink.innerHTML = docLinkHtml;\n",
              "          element.appendChild(docLink);\n",
              "        }\n",
              "      </script>\n",
              "    </div>\n",
              "  </div>\n",
              "  "
            ]
          },
          "metadata": {},
          "execution_count": 47
        }
      ]
    },
    {
      "cell_type": "code",
      "source": [
        "#The cost function against the number of iterations below\n",
        "#note the quick convergence for about from 0 to 200 iterations\n",
        "plt.plot(J_history, label='cost')\n",
        "plt.xlabel('number of iterations')\n",
        "plt.ylabel('J(theta)')\n",
        "plt.title('Cost function decay')\n",
        "plt.legend()"
      ],
      "metadata": {
        "colab": {
          "base_uri": "https://localhost:8080/",
          "height": 312
        },
        "id": "Z7vWnm6XNAdb",
        "outputId": "27daa347-c4f9-4828-dddb-5de5290ce3e4"
      },
      "execution_count": 48,
      "outputs": [
        {
          "output_type": "execute_result",
          "data": {
            "text/plain": [
              "<matplotlib.legend.Legend at 0x7f97f457f950>"
            ]
          },
          "metadata": {},
          "execution_count": 48
        },
        {
          "output_type": "display_data",
          "data": {
            "text/plain": [
              "<Figure size 432x288 with 1 Axes>"
            ],
            "image/png": "[encoded data removed]"
          },
          "metadata": {
            "needs_background": "light"
          }
        }
      ]
    },
    {
      "cell_type": "markdown",
      "source": [
        "As before, we are in a position to make predictions. What is the\n",
        "estimated price of a 1650 ft^2 house with 3 bedrooms ?"
      ],
      "metadata": {
        "id": "1kD3GUOaTYKW"
      }
    },
    {
      "cell_type": "code",
      "source": [
        "#As we normalized the features when fitting the model, we also need to \n",
        "#normalize the features used for any prediction.\n",
        "X_test = np.array([1, 1650, 3 ])\n",
        "\n",
        "\n",
        "X_test_norma = np.array([1, (X_test[1] -mu[0])/sigma[0] , (X_test[2] - mu[1])/sigma[1] ])\n",
        "\n",
        "\n",
        "price = np.dot(X_test_norma.T, theta)\n",
        "\n",
        "print('The estimated price of a House with 1650 ft^2 and 3 bedrooms is: ' + str(price[0]) + '$')"
      ],
      "metadata": {
        "colab": {
          "base_uri": "https://localhost:8080/"
        },
        "id": "ef4DQ3NYTdrk",
        "outputId": "2e905e16-c002-4797-f889-2eb777a83d51"
      },
      "execution_count": 49,
      "outputs": [
        {
          "output_type": "stream",
          "name": "stdout",
          "text": [
            "The estimated price of a House with 1650 ft^2 and 3 bedrooms is: 293083.73888660746$\n"
          ]
        }
      ]
    },
    {
      "cell_type": "markdown",
      "source": [
        "#Exact solution (Normal equation)\n",
        "For linear regression, an exact solution to the problem of finding the minimum of the cost function  can be found and it is called the normal equation.\n",
        "As it involves the calculation of inverse matrices, the computational cost of the process grows with $\\mathcal{O}(n^3)$, where $n$ is the number of examples.\n",
        "That means the use of the normal equation shall be restricted to situations where the dataset is not very large, up to $10^3$ number of examples.\n",
        "The solution is obtained by setting $\\frac{\\partial J}{\\partial \\theta} = 0$, as the quadratic function $J$ is convex and will have a global minimum rather than a maximum, which results in \n",
        "\\begin{equation}\n",
        "\\theta = \\left( X^t X \\right)^{-1} X^t y,\n",
        "\\end{equation}\n",
        "which indeed is a $(n+1) \\times 1$ matrix.\n",
        "Note there is no need for using the learning rate $\\alpha$ or iterative steps. The learning rate is a consequence of using approximations to a numerical problem and it is absent in the case of exact solutions."
      ],
      "metadata": {
        "id": "tc3ifE5I0_gQ"
      }
    },
    {
      "cell_type": "code",
      "source": [
        "theta_min = np.linalg.inv(X.T @ X) @ X.T @ y\n",
        "\n",
        "print(f'The weights that solve the problem exactly are \\n {theta_min.flatten()}')"
      ],
      "metadata": {
        "colab": {
          "base_uri": "https://localhost:8080/"
        },
        "id": "opuTfS6r2jYH",
        "outputId": "0ca9f6b5-d631-4e9b-d539-afee08459830"
      },
      "execution_count": 50,
      "outputs": [
        {
          "output_type": "stream",
          "name": "stdout",
          "text": [
            "The weights that solve the problem exactly are \n",
            " [340412.65957447 110631.05027885  -6649.47427082]\n"
          ]
        }
      ]
    },
    {
      "cell_type": "markdown",
      "source": [
        "#Comparison with Scikit-learn\n"
      ],
      "metadata": {
        "id": "MMR6CiAI7HiV"
      }
    },
    {
      "cell_type": "code",
      "source": [
        "#If we use our initial x without normalization \n",
        "from sklearn.linear_model import LinearRegression\n",
        "\n",
        "lr = LinearRegression(fit_intercept=True)\n",
        "lr.fit(x, y)"
      ],
      "metadata": {
        "colab": {
          "base_uri": "https://localhost:8080/"
        },
        "id": "Wb5Whcr-7Pcc",
        "outputId": "c4958843-affb-47cb-af94-c57aae3e4a2c"
      },
      "execution_count": 51,
      "outputs": [
        {
          "output_type": "execute_result",
          "data": {
            "text/plain": [
              "LinearRegression()"
            ]
          },
          "metadata": {},
          "execution_count": 51
        }
      ]
    },
    {
      "cell_type": "code",
      "source": [
        "x_test = np.array([[1650, 3]])\n",
        "price_predicted = lr.predict(x_test)\n",
        "price_predicted\n",
        "\n",
        "#the prediction agress with what we found before"
      ],
      "metadata": {
        "colab": {
          "base_uri": "https://localhost:8080/"
        },
        "id": "Wp_VzO2c7yZV",
        "outputId": "8db8a632-91b2-435c-e472-8b708d033ec8"
      },
      "execution_count": 52,
      "outputs": [
        {
          "output_type": "execute_result",
          "data": {
            "text/plain": [
              "array([[293081.4643349]])"
            ]
          },
          "metadata": {},
          "execution_count": 52
        }
      ]
    },
    {
      "cell_type": "code",
      "source": [
        "#But the values of the weights and bias are not the same. that is expected! \n",
        "print('weights are: ',lr.coef_)\n",
        "print('intercept is: ',lr.intercept_)"
      ],
      "metadata": {
        "colab": {
          "base_uri": "https://localhost:8080/"
        },
        "id": "nH97v5PK-ABv",
        "outputId": "b01faa7c-8846-430d-e28f-3abf708033bd"
      },
      "execution_count": 53,
      "outputs": [
        {
          "output_type": "stream",
          "name": "stdout",
          "text": [
            "weights are:  [[  139.21067402 -8738.01911233]]\n",
            "intercept is:  [89597.9095428]\n"
          ]
        }
      ]
    },
    {
      "cell_type": "code",
      "source": [
        "#Now, if we use our normalized features x_norma (before adding the bias)\n",
        "lr2 = LinearRegression(fit_intercept=True)\n",
        "lr2.fit(x_norma, y)\n",
        "\n",
        "print('weights are: ',lr2.coef_)\n",
        "print('intercept is: ',lr2.intercept_)\n",
        "\n",
        "#same weights and bias we found before"
      ],
      "metadata": {
        "colab": {
          "base_uri": "https://localhost:8080/"
        },
        "id": "JMy5eO4a9e4_",
        "outputId": "e967127c-aa86-4b5f-def2-8b863b10fc15"
      },
      "execution_count": 54,
      "outputs": [
        {
          "output_type": "stream",
          "name": "stdout",
          "text": [
            "weights are:  [[110631.05027885  -6649.47427082]]\n",
            "intercept is:  [340412.65957447]\n"
          ]
        }
      ]
    },
    {
      "cell_type": "code",
      "source": [
        ""
      ],
      "metadata": {
        "id": "hkNd6-zj-zKZ"
      },
      "execution_count": 54,
      "outputs": []
    }
  ]
}