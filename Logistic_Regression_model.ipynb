{
  "cells": [
    {
      "cell_type": "markdown",
      "source": [
        "###Logistic Regression\n",
        "\n",
        "Similarly to the case of linear regression, the logistic regression, which is used for classification, has a hypothesis $h$ and a cost function $J$. In the case of linear regression, the hypothesis was $ h= h(\\theta; x^{(i)}) = \\theta^t x^{(i)} $ with $\\theta$ the column vector representing the weights and bias of the model and $x^{(i)}$ the i-th column vector with the features of the model. In particular, for a total of $n$-features, $x^{(i)} \\in \\mathbb{R}^{n+1}$, because we include an extra element $x_0=1$ that is associated with the bias $\\theta_0$. For logistic regression,the hypothesis is slightly ajusted with the application of a function $g$ which is not the identity function as the case of linear regression. Specifically, $h= h_{g}(\\theta; x^{(i)}) = g(\\theta^t x^{(i}),$ with $g$ defined by $g(z) = \\frac{1}{1 + e^{-z}}$, which is called logistic function or sigmoid funtion, where $z$ will be real numbers written in the form of the hypothesis. As before, capital $X$ will denote the design matrix, which is made of rows $(x^t)^{(i)}$. Thus, $X \\in \\mathbb{R}^{(m, n+1)}$ and $\\theta \\in  \\mathbb{R}^{(n+1, 1)}$  is a matrix as well. In fact, logistic regression model is a type of a generalised linear models and that is behind the reason for having some similarities to linear regression. \n",
        "However, the cost function will no longer be the quadratic one, because logistic regression is based upon the fact that we want a hypothesis with values between zero and one only, similarly to a probability, which is bounded below by zero and above by one. While the logistic sigmoid is not a probability distribution, it is associated with a probability distribution (the logistic distribution) and it can be seem as a conditional probability for a given random variable. Based on principles of maximum likelihood, the cost function is shown to be a convex combination given by\n",
        "$$J(\\theta) = \\frac{1}{m} \\left[ \\sum_{i=1}^{m} -y^{(i)}\\ln h^{(i)} - (1 - y^{(i)})\\ln (1 - h^{(i)})  \\right]  $$\n",
        "where $h^{(i)}$ simply denotes the hypothesis function evaluated with the i-th example from the dataset, meaning we use the simpler notation $h^{(i)} = g(\\theta^t x^{(i)})$ ommiting the dependence on the function $g$."
      ],
      "metadata": {
        "id": "ZMA3H0uPjnxf"
      }
    },
    {
      "cell_type": "code",
      "execution_count": null,
      "metadata": {
        "id": "u9KcNgGrrNkL"
      },
      "outputs": [],
      "source": [
        "import numpy as np\n",
        "import pandas as pd\n",
        "import matplotlib.pyplot as plt\n",
        "import seaborn as sns\n",
        "%matplotlib inline\n",
        "\n"
      ]
    },
    {
      "cell_type": "code",
      "execution_count": null,
      "metadata": {
        "id": "6bgkdUPGsOjO"
      },
      "outputs": [],
      "source": [
        "path ='/content/drive/MyDrive/Machine_Learning_DS/Material/ML_Standford/ex2-octave/ex2data1.txt'\n",
        "\n",
        "\n",
        "data = pd.read_csv( path, header=None , names=['Exam1-score', 'Exam2-score', 'Approval'] )\n",
        "\n",
        "m = len(data['Approval'])  #number of training values\n",
        "x = np.array([data['Exam1-score'], data['Exam2-score']])   #capital X will be with x0s included...\n",
        "y = np.array(data['Approval'])\n",
        "\n",
        "\n",
        "#y = data['Approval'].to_numpy().reshape(m,1)\n"
      ]
    },
    {
      "cell_type": "code",
      "source": [
        "data.head(7)"
      ],
      "metadata": {
        "colab": {
          "base_uri": "https://localhost:8080/",
          "height": 269
        },
        "id": "CNi4fjv4vjpN",
        "outputId": "c7dec847-16bb-48d9-a122-cd243c9bba52"
      },
      "execution_count": null,
      "outputs": [
        {
          "output_type": "execute_result",
          "data": {
            "text/plain": [
              "   Exam1-score  Exam2-score  Approval\n",
              "0    34.623660    78.024693         0\n",
              "1    30.286711    43.894998         0\n",
              "2    35.847409    72.902198         0\n",
              "3    60.182599    86.308552         1\n",
              "4    79.032736    75.344376         1\n",
              "5    45.083277    56.316372         0\n",
              "6    61.106665    96.511426         1"
            ],
            "text/html": [
              "\n",
              "  <div id=\"df-9eb85e5d-293b-4b72-8977-76ea2aa4c7cb\">\n",
              "    <div class=\"colab-df-container\">\n",
              "      <div>\n",
              "<style scoped>\n",
              "    .dataframe tbody tr th:only-of-type {\n",
              "        vertical-align: middle;\n",
              "    }\n",
              "\n",
              "    .dataframe tbody tr th {\n",
              "        vertical-align: top;\n",
              "    }\n",
              "\n",
              "    .dataframe thead th {\n",
              "        text-align: right;\n",
              "    }\n",
              "</style>\n",
              "<table border=\"1\" class=\"dataframe\">\n",
              "  <thead>\n",
              "    <tr style=\"text-align: right;\">\n",
              "      <th></th>\n",
              "      <th>Exam1-score</th>\n",
              "      <th>Exam2-score</th>\n",
              "      <th>Approval</th>\n",
              "    </tr>\n",
              "  </thead>\n",
              "  <tbody>\n",
              "    <tr>\n",
              "      <th>0</th>\n",
              "      <td>34.623660</td>\n",
              "      <td>78.024693</td>\n",
              "      <td>0</td>\n",
              "    </tr>\n",
              "    <tr>\n",
              "      <th>1</th>\n",
              "      <td>30.286711</td>\n",
              "      <td>43.894998</td>\n",
              "      <td>0</td>\n",
              "    </tr>\n",
              "    <tr>\n",
              "      <th>2</th>\n",
              "      <td>35.847409</td>\n",
              "      <td>72.902198</td>\n",
              "      <td>0</td>\n",
              "    </tr>\n",
              "    <tr>\n",
              "      <th>3</th>\n",
              "      <td>60.182599</td>\n",
              "      <td>86.308552</td>\n",
              "      <td>1</td>\n",
              "    </tr>\n",
              "    <tr>\n",
              "      <th>4</th>\n",
              "      <td>79.032736</td>\n",
              "      <td>75.344376</td>\n",
              "      <td>1</td>\n",
              "    </tr>\n",
              "    <tr>\n",
              "      <th>5</th>\n",
              "      <td>45.083277</td>\n",
              "      <td>56.316372</td>\n",
              "      <td>0</td>\n",
              "    </tr>\n",
              "    <tr>\n",
              "      <th>6</th>\n",
              "      <td>61.106665</td>\n",
              "      <td>96.511426</td>\n",
              "      <td>1</td>\n",
              "    </tr>\n",
              "  </tbody>\n",
              "</table>\n",
              "</div>\n",
              "      <button class=\"colab-df-convert\" onclick=\"convertToInteractive('df-9eb85e5d-293b-4b72-8977-76ea2aa4c7cb')\"\n",
              "              title=\"Convert this dataframe to an interactive table.\"\n",
              "              style=\"display:none;\">\n",
              "        \n",
              "  <svg xmlns=\"http://www.w3.org/2000/svg\" height=\"24px\"viewBox=\"0 0 24 24\"\n",
              "       width=\"24px\">\n",
              "    <path d=\"M0 0h24v24H0V0z\" fill=\"none\"/>\n",
              "    <path d=\"M18.56 5.44l.94 2.06.94-2.06 2.06-.94-2.06-.94-.94-2.06-.94 2.06-2.06.94zm-11 1L8.5 8.5l.94-2.06 2.06-.94-2.06-.94L8.5 2.5l-.94 2.06-2.06.94zm10 10l.94 2.06.94-2.06 2.06-.94-2.06-.94-.94-2.06-.94 2.06-2.06.94z\"/><path d=\"M17.41 7.96l-1.37-1.37c-.4-.4-.92-.59-1.43-.59-.52 0-1.04.2-1.43.59L10.3 9.45l-7.72 7.72c-.78.78-.78 2.05 0 2.83L4 21.41c.39.39.9.59 1.41.59.51 0 1.02-.2 1.41-.59l7.78-7.78 2.81-2.81c.8-.78.8-2.07 0-2.86zM5.41 20L4 18.59l7.72-7.72 1.47 1.35L5.41 20z\"/>\n",
              "  </svg>\n",
              "      </button>\n",
              "      \n",
              "  <style>\n",
              "    .colab-df-container {\n",
              "      display:flex;\n",
              "      flex-wrap:wrap;\n",
              "      gap: 12px;\n",
              "    }\n",
              "\n",
              "    .colab-df-convert {\n",
              "      background-color: #E8F0FE;\n",
              "      border: none;\n",
              "      border-radius: 50%;\n",
              "      cursor: pointer;\n",
              "      display: none;\n",
              "      fill: #1967D2;\n",
              "      height: 32px;\n",
              "      padding: 0 0 0 0;\n",
              "      width: 32px;\n",
              "    }\n",
              "\n",
              "    .colab-df-convert:hover {\n",
              "      background-color: #E2EBFA;\n",
              "      box-shadow: 0px 1px 2px rgba(60, 64, 67, 0.3), 0px 1px 3px 1px rgba(60, 64, 67, 0.15);\n",
              "      fill: #174EA6;\n",
              "    }\n",
              "\n",
              "    [theme=dark] .colab-df-convert {\n",
              "      background-color: #3B4455;\n",
              "      fill: #D2E3FC;\n",
              "    }\n",
              "\n",
              "    [theme=dark] .colab-df-convert:hover {\n",
              "      background-color: #434B5C;\n",
              "      box-shadow: 0px 1px 3px 1px rgba(0, 0, 0, 0.15);\n",
              "      filter: drop-shadow(0px 1px 2px rgba(0, 0, 0, 0.3));\n",
              "      fill: #FFFFFF;\n",
              "    }\n",
              "  </style>\n",
              "\n",
              "      <script>\n",
              "        const buttonEl =\n",
              "          document.querySelector('#df-9eb85e5d-293b-4b72-8977-76ea2aa4c7cb button.colab-df-convert');\n",
              "        buttonEl.style.display =\n",
              "          google.colab.kernel.accessAllowed ? 'block' : 'none';\n",
              "\n",
              "        async function convertToInteractive(key) {\n",
              "          const element = document.querySelector('#df-9eb85e5d-293b-4b72-8977-76ea2aa4c7cb');\n",
              "          const dataTable =\n",
              "            await google.colab.kernel.invokeFunction('convertToInteractive',\n",
              "                                                     [key], {});\n",
              "          if (!dataTable) return;\n",
              "\n",
              "          const docLinkHtml = 'Like what you see? Visit the ' +\n",
              "            '<a target=\"_blank\" href=https://colab.research.google.com/notebooks/data_table.ipynb>data table notebook</a>'\n",
              "            + ' to learn more about interactive tables.';\n",
              "          element.innerHTML = '';\n",
              "          dataTable['output_type'] = 'display_data';\n",
              "          await google.colab.output.renderOutput(dataTable, element);\n",
              "          const docLink = document.createElement('div');\n",
              "          docLink.innerHTML = docLinkHtml;\n",
              "          element.appendChild(docLink);\n",
              "        }\n",
              "      </script>\n",
              "    </div>\n",
              "  </div>\n",
              "  "
            ]
          },
          "metadata": {},
          "execution_count": 3
        }
      ]
    },
    {
      "cell_type": "code",
      "execution_count": null,
      "metadata": {
        "colab": {
          "base_uri": "https://localhost:8080/"
        },
        "id": "LSCseEPTSh8P",
        "outputId": "3d85ee04-e368-4aa1-f4e4-cb05589e3590"
      },
      "outputs": [
        {
          "output_type": "stream",
          "name": "stdout",
          "text": [
            "(2, 100) (100,)\n"
          ]
        }
      ],
      "source": [
        "print( x.shape, y.shape)"
      ]
    },
    {
      "cell_type": "code",
      "execution_count": null,
      "metadata": {
        "colab": {
          "base_uri": "https://localhost:8080/"
        },
        "id": "MrqJuRW6Stsr",
        "outputId": "a6e064ac-5046-474c-da4f-6e2426f2f5da"
      },
      "outputs": [
        {
          "output_type": "stream",
          "name": "stdout",
          "text": [
            "(100, 2) (100, 1)\n"
          ]
        }
      ],
      "source": [
        "x = x.T\n",
        "y = y.reshape(m,1)\n",
        "print(x.shape, y.shape)"
      ]
    },
    {
      "cell_type": "code",
      "execution_count": null,
      "metadata": {
        "colab": {
          "base_uri": "https://localhost:8080/"
        },
        "id": "ijb1qoz3TJjF",
        "outputId": "88ee6b9a-aa17-409a-c120-8a31b0ede776"
      },
      "outputs": [
        {
          "output_type": "execute_result",
          "data": {
            "text/plain": [
              "array([[34.62365962, 78.02469282],\n",
              "       [30.28671077, 43.89499752],\n",
              "       [35.84740877, 72.90219803],\n",
              "       [60.18259939, 86.3085521 ],\n",
              "       [79.03273605, 75.34437644],\n",
              "       [45.08327748, 56.31637178],\n",
              "       [61.10666454, 96.51142588]])"
            ]
          },
          "metadata": {},
          "execution_count": 6
        }
      ],
      "source": [
        "m, n = x.shape  # m examples and n features\n",
        "x[:7]"
      ]
    },
    {
      "cell_type": "code",
      "execution_count": null,
      "metadata": {
        "colab": {
          "base_uri": "https://localhost:8080/",
          "height": 300
        },
        "id": "krF0Ek21tTcj",
        "outputId": "95070698-74f1-403b-c1e3-2851008c49c8"
      },
      "outputs": [
        {
          "output_type": "execute_result",
          "data": {
            "text/plain": [
              "       Exam1-score  Exam2-score    Approval\n",
              "count   100.000000   100.000000  100.000000\n",
              "mean     65.644274    66.221998    0.600000\n",
              "std      19.458222    18.582783    0.492366\n",
              "min      30.058822    30.603263    0.000000\n",
              "25%      50.919511    48.179205    0.000000\n",
              "50%      67.032988    67.682381    1.000000\n",
              "75%      80.212529    79.360605    1.000000\n",
              "max      99.827858    98.869436    1.000000"
            ],
            "text/html": [
              "\n",
              "  <div id=\"df-47d537de-16b5-4576-a720-30eb5c5c3002\">\n",
              "    <div class=\"colab-df-container\">\n",
              "      <div>\n",
              "<style scoped>\n",
              "    .dataframe tbody tr th:only-of-type {\n",
              "        vertical-align: middle;\n",
              "    }\n",
              "\n",
              "    .dataframe tbody tr th {\n",
              "        vertical-align: top;\n",
              "    }\n",
              "\n",
              "    .dataframe thead th {\n",
              "        text-align: right;\n",
              "    }\n",
              "</style>\n",
              "<table border=\"1\" class=\"dataframe\">\n",
              "  <thead>\n",
              "    <tr style=\"text-align: right;\">\n",
              "      <th></th>\n",
              "      <th>Exam1-score</th>\n",
              "      <th>Exam2-score</th>\n",
              "      <th>Approval</th>\n",
              "    </tr>\n",
              "  </thead>\n",
              "  <tbody>\n",
              "    <tr>\n",
              "      <th>count</th>\n",
              "      <td>100.000000</td>\n",
              "      <td>100.000000</td>\n",
              "      <td>100.000000</td>\n",
              "    </tr>\n",
              "    <tr>\n",
              "      <th>mean</th>\n",
              "      <td>65.644274</td>\n",
              "      <td>66.221998</td>\n",
              "      <td>0.600000</td>\n",
              "    </tr>\n",
              "    <tr>\n",
              "      <th>std</th>\n",
              "      <td>19.458222</td>\n",
              "      <td>18.582783</td>\n",
              "      <td>0.492366</td>\n",
              "    </tr>\n",
              "    <tr>\n",
              "      <th>min</th>\n",
              "      <td>30.058822</td>\n",
              "      <td>30.603263</td>\n",
              "      <td>0.000000</td>\n",
              "    </tr>\n",
              "    <tr>\n",
              "      <th>25%</th>\n",
              "      <td>50.919511</td>\n",
              "      <td>48.179205</td>\n",
              "      <td>0.000000</td>\n",
              "    </tr>\n",
              "    <tr>\n",
              "      <th>50%</th>\n",
              "      <td>67.032988</td>\n",
              "      <td>67.682381</td>\n",
              "      <td>1.000000</td>\n",
              "    </tr>\n",
              "    <tr>\n",
              "      <th>75%</th>\n",
              "      <td>80.212529</td>\n",
              "      <td>79.360605</td>\n",
              "      <td>1.000000</td>\n",
              "    </tr>\n",
              "    <tr>\n",
              "      <th>max</th>\n",
              "      <td>99.827858</td>\n",
              "      <td>98.869436</td>\n",
              "      <td>1.000000</td>\n",
              "    </tr>\n",
              "  </tbody>\n",
              "</table>\n",
              "</div>\n",
              "      <button class=\"colab-df-convert\" onclick=\"convertToInteractive('df-47d537de-16b5-4576-a720-30eb5c5c3002')\"\n",
              "              title=\"Convert this dataframe to an interactive table.\"\n",
              "              style=\"display:none;\">\n",
              "        \n",
              "  <svg xmlns=\"http://www.w3.org/2000/svg\" height=\"24px\"viewBox=\"0 0 24 24\"\n",
              "       width=\"24px\">\n",
              "    <path d=\"M0 0h24v24H0V0z\" fill=\"none\"/>\n",
              "    <path d=\"M18.56 5.44l.94 2.06.94-2.06 2.06-.94-2.06-.94-.94-2.06-.94 2.06-2.06.94zm-11 1L8.5 8.5l.94-2.06 2.06-.94-2.06-.94L8.5 2.5l-.94 2.06-2.06.94zm10 10l.94 2.06.94-2.06 2.06-.94-2.06-.94-.94-2.06-.94 2.06-2.06.94z\"/><path d=\"M17.41 7.96l-1.37-1.37c-.4-.4-.92-.59-1.43-.59-.52 0-1.04.2-1.43.59L10.3 9.45l-7.72 7.72c-.78.78-.78 2.05 0 2.83L4 21.41c.39.39.9.59 1.41.59.51 0 1.02-.2 1.41-.59l7.78-7.78 2.81-2.81c.8-.78.8-2.07 0-2.86zM5.41 20L4 18.59l7.72-7.72 1.47 1.35L5.41 20z\"/>\n",
              "  </svg>\n",
              "      </button>\n",
              "      \n",
              "  <style>\n",
              "    .colab-df-container {\n",
              "      display:flex;\n",
              "      flex-wrap:wrap;\n",
              "      gap: 12px;\n",
              "    }\n",
              "\n",
              "    .colab-df-convert {\n",
              "      background-color: #E8F0FE;\n",
              "      border: none;\n",
              "      border-radius: 50%;\n",
              "      cursor: pointer;\n",
              "      display: none;\n",
              "      fill: #1967D2;\n",
              "      height: 32px;\n",
              "      padding: 0 0 0 0;\n",
              "      width: 32px;\n",
              "    }\n",
              "\n",
              "    .colab-df-convert:hover {\n",
              "      background-color: #E2EBFA;\n",
              "      box-shadow: 0px 1px 2px rgba(60, 64, 67, 0.3), 0px 1px 3px 1px rgba(60, 64, 67, 0.15);\n",
              "      fill: #174EA6;\n",
              "    }\n",
              "\n",
              "    [theme=dark] .colab-df-convert {\n",
              "      background-color: #3B4455;\n",
              "      fill: #D2E3FC;\n",
              "    }\n",
              "\n",
              "    [theme=dark] .colab-df-convert:hover {\n",
              "      background-color: #434B5C;\n",
              "      box-shadow: 0px 1px 3px 1px rgba(0, 0, 0, 0.15);\n",
              "      filter: drop-shadow(0px 1px 2px rgba(0, 0, 0, 0.3));\n",
              "      fill: #FFFFFF;\n",
              "    }\n",
              "  </style>\n",
              "\n",
              "      <script>\n",
              "        const buttonEl =\n",
              "          document.querySelector('#df-47d537de-16b5-4576-a720-30eb5c5c3002 button.colab-df-convert');\n",
              "        buttonEl.style.display =\n",
              "          google.colab.kernel.accessAllowed ? 'block' : 'none';\n",
              "\n",
              "        async function convertToInteractive(key) {\n",
              "          const element = document.querySelector('#df-47d537de-16b5-4576-a720-30eb5c5c3002');\n",
              "          const dataTable =\n",
              "            await google.colab.kernel.invokeFunction('convertToInteractive',\n",
              "                                                     [key], {});\n",
              "          if (!dataTable) return;\n",
              "\n",
              "          const docLinkHtml = 'Like what you see? Visit the ' +\n",
              "            '<a target=\"_blank\" href=https://colab.research.google.com/notebooks/data_table.ipynb>data table notebook</a>'\n",
              "            + ' to learn more about interactive tables.';\n",
              "          element.innerHTML = '';\n",
              "          dataTable['output_type'] = 'display_data';\n",
              "          await google.colab.output.renderOutput(dataTable, element);\n",
              "          const docLink = document.createElement('div');\n",
              "          docLink.innerHTML = docLinkHtml;\n",
              "          element.appendChild(docLink);\n",
              "        }\n",
              "      </script>\n",
              "    </div>\n",
              "  </div>\n",
              "  "
            ]
          },
          "metadata": {},
          "execution_count": 7
        }
      ],
      "source": [
        "#four quartile and 5 point summary\n",
        "data.describe()"
      ]
    },
    {
      "cell_type": "markdown",
      "metadata": {
        "id": "oI01YOPzMt7r"
      },
      "source": [
        "#Vizualize the data\n",
        "\n",
        "Note: where(...)\n",
        "    where(condition, [x, y])\n",
        "    Return elements chosen from `x` or `y` depending on `condition`.\n",
        "    When only `condition` is provided, this function is a shorthand for\n",
        "        ``np.asarray(condition).nonzero()``. Using `nonzero` directly should be\n",
        "        preferred, as it behaves correctly for subclasses."
      ]
    },
    {
      "cell_type": "code",
      "execution_count": null,
      "metadata": {
        "colab": {
          "base_uri": "https://localhost:8080/",
          "height": 265
        },
        "id": "l4imTLsCNPRA",
        "outputId": "3d3ad549-80ad-47c4-c6a4-74ffd6c85974"
      },
      "outputs": [
        {
          "output_type": "display_data",
          "data": {
            "text/plain": [
              "<Figure size 432x288 with 1 Axes>"
            ],
            "image/png": "[encoded data removed]"
          },
          "metadata": {
            "needs_background": "light"
          }
        }
      ],
      "source": [
        "#note that: pos = np.where(y==1, y, 5) would give same size array with\n",
        "# y where y=1 and 5 otherwise. But we want only to select the rows of y where y==1\n",
        "pos = np.where(y==1)[0] #positive result 1\n",
        "neg = np.where(y==0)[0]       # negative result 0\n",
        "\n",
        "\n",
        "plt.plot(x[pos,0], x[pos,1], 'k+', label='Admitted'  )\n",
        "plt.plot(x[neg,0], x[neg,1], 'yo', label='Not Admitted')\n",
        "plt.legend()\n",
        "plt.show()"
      ]
    },
    {
      "cell_type": "code",
      "execution_count": null,
      "metadata": {
        "colab": {
          "base_uri": "https://localhost:8080/"
        },
        "id": "2FNtK10_dpgK",
        "outputId": "307a95af-2f74-479d-ef4c-3e13dd9908ee"
      },
      "outputs": [
        {
          "output_type": "stream",
          "name": "stdout",
          "text": [
            "(array([ 0,  1,  2,  5, 10, 11, 14, 17, 20, 22, 23, 27, 28, 29, 32, 34, 35,\n",
            "       36, 38, 39, 41, 43, 44, 45, 53, 54, 55, 57, 61, 62, 63, 64, 65, 67,\n",
            "       70, 78, 79, 86, 89, 92]), array([0, 0, 0, 0, 0, 0, 0, 0, 0, 0, 0, 0, 0, 0, 0, 0, 0, 0, 0, 0, 0, 0,\n",
            "       0, 0, 0, 0, 0, 0, 0, 0, 0, 0, 0, 0, 0, 0, 0, 0, 0, 0]))\n"
          ]
        }
      ],
      "source": [
        "#Note that we only want the 1st element [0] of the tuple below\n",
        "#to filter the row numbers  of x\n",
        "print(np.where(y==0))\n"
      ]
    },
    {
      "cell_type": "code",
      "execution_count": null,
      "metadata": {
        "colab": {
          "base_uri": "https://localhost:8080/"
        },
        "id": "fS4rI6pjXiBT",
        "outputId": "54dc6bc7-19a9-414b-c08d-2a2f4eb15647"
      },
      "outputs": [
        {
          "output_type": "stream",
          "name": "stdout",
          "text": [
            "[ 0  1  2  5 10 11 14 17 20 22 23 27 28 29 32 34 35 36 38 39 41 43 44 45\n",
            " 53 54 55 57 61 62 63 64 65 67 70 78 79 86 89 92]\n"
          ]
        },
        {
          "output_type": "execute_result",
          "data": {
            "text/plain": [
              "numpy.ndarray"
            ]
          },
          "metadata": {},
          "execution_count": 10
        }
      ],
      "source": [
        "print(neg)\n",
        "type(neg)"
      ]
    },
    {
      "cell_type": "code",
      "execution_count": null,
      "metadata": {
        "colab": {
          "base_uri": "https://localhost:8080/"
        },
        "id": "LWYaQOj9WTgr",
        "outputId": "66f9e0a0-f635-4e32-8aad-19b890cc9ace"
      },
      "outputs": [
        {
          "output_type": "stream",
          "name": "stdout",
          "text": [
            "(60,) (60,)\n",
            "(40,) (40,)\n"
          ]
        }
      ],
      "source": [
        "#the plot above works well since the dimensions are compatible\n",
        "print( x[pos,0].shape, x[pos,1].shape)\n",
        "print( x[neg,0].shape, x[neg,1].shape)"
      ]
    },
    {
      "cell_type": "code",
      "execution_count": null,
      "metadata": {
        "id": "szIhSTDWqt_c"
      },
      "outputs": [],
      "source": [
        ""
      ]
    },
    {
      "cell_type": "markdown",
      "metadata": {
        "id": "6kShOKryr0Fe"
      },
      "source": [
        "#Cost function and gradient\n",
        "\n",
        "The vectorization of the cost function will be implemented by the following matricial product \n",
        "$$ J(\\theta) = \\frac{1}{m} \\left[ -y^t \\ln h - (1 - y^t)\\ln(1-h) \\right],$$\n",
        "where $h$ is a matrix defined by $h = h_g  = g( X\\theta) $ and $g$ is the sigmoid function. One needs to be careful to make sure the marix multiplication are done properly.\n",
        "\n",
        "Regarding the process of using gradient descent to minimize the cost function, logistic regression will give a similar expression for the derivative $\\frac{\\partial J}{\\partial \\theta}$ to the case of linear regression with the difference that the hypothesis is not the same. Thus, gradient descent in logistic regression is not unfamiliar after learning about it in the context of linear regression. However, there are other optimization methods to be used, and gradient descent/ascent can be substituted. We will use another method for this time. \n"
      ]
    },
    {
      "cell_type": "code",
      "execution_count": null,
      "metadata": {
        "colab": {
          "base_uri": "https://localhost:8080/"
        },
        "id": "okkBmqxJr5JN",
        "outputId": "2bf9aa30-af86-4347-b692-c1ef9cccadf5"
      },
      "outputs": [
        {
          "output_type": "stream",
          "name": "stdout",
          "text": [
            "(100, 3)\n"
          ]
        },
        {
          "output_type": "execute_result",
          "data": {
            "text/plain": [
              "array([[ 1.        , 34.62365962, 78.02469282],\n",
              "       [ 1.        , 30.28671077, 43.89499752],\n",
              "       [ 1.        , 35.84740877, 72.90219803]])"
            ]
          },
          "metadata": {},
          "execution_count": 12
        }
      ],
      "source": [
        "#Lets now use the extended vector x including the intercept theta0\n",
        "#for which x0=1 \n",
        "X = np.array([np.ones(m), x[:,0], x[:,1]]).T\n",
        "#X = np.append(np.ones((m,1)), x, axis=1) #alternatively \n",
        "\n",
        "print(X.shape)\n",
        "X[:3]"
      ]
    },
    {
      "cell_type": "code",
      "execution_count": null,
      "metadata": {
        "id": "P0zXEBDXsahS"
      },
      "outputs": [],
      "source": [
        "#we need to apply a sigmoid function to create the hypothesis.\n",
        "# oir case is a binary classification as only two features.\n",
        "\n",
        "def sigmoid(s):\n",
        "  return 1/(1 + np.exp(-s))"
      ]
    },
    {
      "cell_type": "code",
      "execution_count": null,
      "metadata": {
        "colab": {
          "base_uri": "https://localhost:8080/",
          "height": 211
        },
        "id": "iH7j1j9Dya6x",
        "outputId": "7346f3e4-06a6-4a51-cec3-a154501b5d6e"
      },
      "outputs": [
        {
          "output_type": "display_data",
          "data": {
            "text/plain": [
              "<Figure size 360x216 with 1 Axes>"
            ],
            "image/png": "[encoded data removed]"
          },
          "metadata": {
            "needs_background": "light"
          }
        }
      ],
      "source": [
        "#How does it look like\n",
        "# values are mapped into 0, 1 and in between\n",
        "\n",
        "values = np.arange(-7,7, step=0.5)\n",
        "fig, ax = plt.subplots(figsize=(5,3))\n",
        "plt.plot(values, sigmoid(values), 'b')\n",
        "plt.show()"
      ]
    },
    {
      "cell_type": "code",
      "execution_count": null,
      "metadata": {
        "id": "gAzAtE4nagKe"
      },
      "outputs": [],
      "source": [
        "#The cost function is not quadratic anymore\n",
        "# Note: theta first argument because we will use an optimization method\n",
        "#that takes first argument as variable only.\n",
        "def cost_function(theta, X, y):\n",
        "  \"\"\"Calculate the cost function for logistic regression \"\"\"\n",
        "  global m\n",
        "  #m = len(y) #alternatively\n",
        "  h = sigmoid(np.dot(X, theta))   #hypothesis adjusted from linear regression (identity>>sigmoid)\n",
        "  cost = 1/m * ( -y.T @ np.log(h) -(1 - y.T)@ np.log(1-h) )\n",
        "  return cost\n",
        "\n",
        "\n",
        " "
      ]
    },
    {
      "cell_type": "markdown",
      "metadata": {
        "id": "a94IQowol_ep"
      },
      "source": [
        "#Conjugate gradient and optimization method\n",
        "can be obtained by solving the linear equation\n",
        "$Ax = b$ where A will be the gradient that minimize the function $f = \\frac{1}{2} x^tAx - x^tb.$\n",
        "\n",
        "Its advantage using optimization algoriths is that we do not need to set a learning parameter $\\alpha$ and is usually faster numerics."
      ]
    },
    {
      "cell_type": "code",
      "execution_count": null,
      "metadata": {
        "id": "rFapNg2chNNf"
      },
      "outputs": [],
      "source": [
        "#We know the gradient of our cost function wrt parameters theta \n",
        "#instead of ascendent gradient (maximizing a function -log) we use the \n",
        "#conjugate gradient method\n",
        "def gradient(theta, X, y):\n",
        "  h = sigmoid(np.dot(X, theta))\n",
        "  m = len(y)\n",
        "  #theta = theta.reshape((n,1))  in case theta is given as an array instead matrix\n",
        "  grad = 1/m *  np.dot(X.T, (h-y))\n",
        "  return grad\n"
      ]
    },
    {
      "cell_type": "code",
      "execution_count": null,
      "metadata": {
        "colab": {
          "base_uri": "https://localhost:8080/"
        },
        "id": "q6O7f12cssfo",
        "outputId": "367122cb-f323-4ba2-908d-49bde0a1d0d7"
      },
      "outputs": [
        {
          "output_type": "execute_result",
          "data": {
            "text/plain": [
              "(1, 1)"
            ]
          },
          "metadata": {},
          "execution_count": 17
        }
      ],
      "source": [
        "#test calculating cost and its gradient for\n",
        "n = X.shape[1]\n",
        "#n = np.size(X,1)  #note that np.size(X) =100 rows*3 columns = 300\n",
        "theta = np.zeros((n,1)) # theta needs to include de bias theta0 and be a column\n",
        "\n",
        "cost_function(theta, X, y).shape"
      ]
    },
    {
      "cell_type": "code",
      "execution_count": null,
      "metadata": {
        "colab": {
          "base_uri": "https://localhost:8080/"
        },
        "id": "2bFdf7aPhZ63",
        "outputId": "487aa88f-78c5-4f45-872a-06a24976f1d3"
      },
      "outputs": [
        {
          "output_type": "stream",
          "name": "stdout",
          "text": [
            "The value of cost function for this theta \n",
            " [[0.]\n",
            " [0.]\n",
            " [0.]] \n",
            " is J = [[0.69314718]].\n",
            "--------------------------------------------------\n",
            "The value of gradient for this theta \n",
            " [[0.]\n",
            " [0.]\n",
            " [0.]] \n",
            " is gradient \n",
            " [[ -0.1       ]\n",
            " [-12.00921659]\n",
            " [-11.26284221]]\n"
          ]
        }
      ],
      "source": [
        "print(f'The value of cost function for this theta \\n {theta} \\n is J = {cost_function(theta, X,y)}.')\n",
        "print('-'*50)\n",
        "print(f'The value of gradient for this theta \\n {theta} \\n is gradient \\n {gradient(theta, X, y)}')\n",
        "#print('the gradient values are', grad )"
      ]
    },
    {
      "cell_type": "markdown",
      "metadata": {
        "id": "QNQjq4DYVdnd"
      },
      "source": [
        "#Learning Parameters with the gradient\n",
        "\n",
        "fminunc was used in Octave/Matlab and it alllows to provide the gradient or not. In Python, Scipy has the optimize with options such as fmin_tnc (truncated Newton or Newton Conjugate-Gradient) or minimize that has some algorith methods available.\n",
        "\n",
        "See SciPy doc.\n",
        "For unconstrained minimization, we can use, for example: Method CG uses a nonlinear conjugate gradient, Method Newton-CG uses a Newton-CG algorithm(also known as the truncated Newton method) for large scale, Method trust-exact is a trust-region method for unconstrained minimization in which quadratic subproblems are solved almost exactly (It is, in many situations, the Newton method to converge in fewer iterations and the most recommended for small and medium-size problems.)\n",
        "'`scipy.optimize.minimize(fun, x0, args=(), method=None, jac=None, hess=None, hessp=None, bounds=None, constraints=(), tol=None, callback=None, options=None)`'\n",
        "\n",
        "The objective function to be minimized.\n",
        "`fun(x, *args) -> float`\n",
        "where x is an 1-D array with shape (n,) and args is a tuple of the fixed parameters needed to completely specify the function.\n"
      ]
    },
    {
      "cell_type": "code",
      "execution_count": null,
      "metadata": {
        "colab": {
          "base_uri": "https://localhost:8080/"
        },
        "id": "SLXWN40QVmhE",
        "outputId": "7fe6e089-eab2-4572-8ad6-ba3c42a6318e"
      },
      "outputs": [
        {
          "output_type": "stream",
          "name": "stdout",
          "text": [
            "Optimization terminated successfully.\n",
            "         Current function value: 0.203498\n",
            "         Iterations: 28\n",
            "         Function evaluations: 72\n",
            "         Gradient evaluations: 237\n",
            "         Hessian evaluations: 0\n",
            " the minimum is achieved with theta = [-25.15970745   0.20621852   0.20145863] \n",
            " It shall, however, be expressed as a column \n",
            " [[-25.15970745]\n",
            " [  0.20621852]\n",
            " [  0.20145863]] \n"
          ]
        }
      ],
      "source": [
        "from scipy import optimize\n",
        "\n",
        "# def cost_function(theta, X, y):\n",
        "#   \"\"\"Calculate the cost function for logistic regression \"\"\"\n",
        "#   global m\n",
        "#   #m = len(y) #alternatively\n",
        "#   h = sigmoid(X @ theta)   #hypothesis adjusted from linear regression (identity>>sigmoid)\n",
        "#   cost = 1/m * ( -y @ np.log(h) -(1 - y)@ np.log(1-h) )\n",
        "#   return cost\n",
        "\n",
        "# def gradient(theta, X, y):\n",
        "#   h = sigmoid(np.dot(X, theta))\n",
        "#   m = len(y)\n",
        "#   #theta = theta.reshape((n,1))  in case theta is given as an array instead matrix\n",
        "#   grad = 1/m *  np.dot(X.T, (h-y))\n",
        "#   return grad.reshape((n,))\n",
        "\n",
        "#It is enough to reshape y and theta, as .dot() is flexible with dimensions\n",
        "\n",
        "theta= theta.reshape((n,))\n",
        "y= y.reshape((m,))\n",
        "\n",
        "result = optimize.minimize(cost_function, theta, args=(X,y), method='Newton-CG',\n",
        "                  jac = gradient, options={'maxiter': 400, 'disp':True } )\n",
        "\n",
        "theta_min = result['x']\n",
        "\n",
        "\n",
        "print(f' the minimum is achieved with theta = {theta_min} ')\n",
        "print(f' It shall, however, be expressed as a column \\n {(theta_min).reshape((n,1))} ')\n",
        "\n",
        "\n",
        "#restart the original shapes\n",
        "y= y.reshape((m,1))\n",
        "theta = (theta_min).reshape((n,1))\n",
        "\n",
        "#note: jac is Jacobian. Give the method; our gradient function defined above.\n",
        "#it should be a function that returns the gradient vector:\n",
        "#jac(x, *args) -> array_like, shape (n,)\n",
        "#where x is an array with shape (n,) and args is a tuple with the fixed parameters.\n",
        "\n",
        "#args is a tuple of the fixed parameters needed to completely specify the function.\n",
        "#maxiter for maximum iterations\n",
        "#disp for printing convergence messages\n",
        "\n",
        "# returns: The optimization result represented as a OptimizeResult object. \n",
        "#Important attributes are: x the solution array, success a Boolean flag indicating \n",
        "#if the optimizer exited successfully and message which describes the cause of the termination. \n",
        "\n",
        "\n",
        "#alternatively\n",
        "#result2 = optimize.fmin_tnc(func= cost_function, x0= theta, fprime=gradient, args= (X, y) )\n"
      ]
    },
    {
      "cell_type": "markdown",
      "metadata": {
        "id": "La9pfKTmts_5"
      },
      "source": [
        "#Plotting the decision boundary\n",
        "\n",
        "Note that the hypothesis assumes values between zero\n",
        "and one rather than only zero and one. A fair point to decide what is likely 1 or likely 0 is the middle point 0.5. Thus, if the $h_{\\theta}(X) = g(X\\theta) \\geq 0.5$, namely, $X\\theta \\geq 0$, then the answer is likely a positive outcome (True).\n",
        "Otherwise, if $X\\theta \\leq 0$, the hypothesis tends towards a False outcome, where $g$ is the logistic function.\n",
        "Specifically, the boundary lies at $\\theta_0 + \\theta_1 x_1 + \\theta_2 x_2 = 0$ "
      ]
    },
    {
      "cell_type": "code",
      "execution_count": null,
      "metadata": {
        "colab": {
          "base_uri": "https://localhost:8080/",
          "height": 320
        },
        "id": "TW3qMDndMCcC",
        "outputId": "47da686e-6118-4700-e2aa-c726e55767f9"
      },
      "outputs": [
        {
          "output_type": "display_data",
          "data": {
            "text/plain": [
              "<Figure size 504x360 with 1 Axes>"
            ],
            "image/png": "[encoded data removed]"
          },
          "metadata": {
            "needs_background": "light"
          }
        }
      ],
      "source": [
        "#The decision boundary can be plot to separete the data\n",
        "#into two subspaces corresponding to True (y=1) and False (y=0) values\n",
        "\n",
        "\n",
        "\n",
        "#first plot the data again\n",
        "pos = np.where(y==1)[0] #positive result 1\n",
        "neg = np.where(y==0)[0]       # negative result 0\n",
        "\n",
        "#Note that this time we are using the extended X containing 1's due to intercept\n",
        "plt.figure(figsize= (7,5) )\n",
        "plt.plot(X[pos,1], X[pos,2], 'k+', label='Admitted'  )\n",
        "plt.plot(X[neg,1], X[neg,2], 'yo', label='Not Admitted')\n",
        "plt.legend()\n",
        "\n",
        "\n",
        "#now the decision boundary\n",
        "#Here theta needs to be the theta_min reshaped to columns as originally\n",
        "theta = (theta_min).reshape((n,1))\n",
        "y= y.reshape((m,1))\n",
        "\n",
        "#select min and max points of the data for feature 1 (plus +-3 a bit of extra space)\n",
        "xpart = np.array([ min(X[:,1])-3  ,  max(X[:,1])+3 ]) \n",
        "\n",
        "#NumPy supports smart elementwise operations so we do not really need\n",
        "#to take care of the elementwise operations  such as 1./theta[]\n",
        "#where we would divide a number by a matrix but elementwise  \n",
        "#same would work with 1/theta[]\n",
        "\n",
        "ypart = -1./(theta[2])* (theta[0] + xpart* theta[1]   )\n",
        "\n",
        "plt.plot(xpart, ypart, label='Decision Boundary')\n",
        "plt.legend()\n",
        "plt.show()\n",
        "\n",
        " #else:                               #for matrices of type (MxN)\n",
        "  # features1 = np.linspace(-1,1.5,100)\n",
        "  # features2 = np.linspace(-1,1.5,100)\n",
        "  # Z = \n",
        "  # U, V = np.meshgrid(features1, features, )  \n",
        "\n",
        "  # plt.contour(U, V, Z)\n",
        "\n",
        "\n",
        "\n",
        "\n"
      ]
    },
    {
      "cell_type": "code",
      "execution_count": null,
      "metadata": {
        "colab": {
          "base_uri": "https://localhost:8080/"
        },
        "id": "Qyzjwxt-dFrb",
        "outputId": "60208032-cf91-4704-9b59-711f693db274"
      },
      "outputs": [
        {
          "output_type": "execute_result",
          "data": {
            "text/plain": [
              "Exam1-score    19.458222\n",
              "Exam2-score    18.582783\n",
              "Approval        0.492366\n",
              "dtype: float64"
            ]
          },
          "metadata": {},
          "execution_count": 21
        }
      ],
      "source": [
        "data.std()"
      ]
    },
    {
      "cell_type": "code",
      "execution_count": null,
      "metadata": {
        "colab": {
          "base_uri": "https://localhost:8080/",
          "height": 286
        },
        "id": "D5_FJsvYiSJV",
        "outputId": "9c35b3d2-f68f-4206-940d-6f93dabd58b5"
      },
      "outputs": [
        {
          "output_type": "execute_result",
          "data": {
            "text/plain": [
              "<matplotlib.axes._subplots.AxesSubplot at 0x7fcf61bd6ad0>"
            ]
          },
          "metadata": {},
          "execution_count": 22
        },
        {
          "output_type": "display_data",
          "data": {
            "text/plain": [
              "<Figure size 432x288 with 2 Axes>"
            ],
            "image/png": "[encoded data removed]"
          },
          "metadata": {
            "needs_background": "light"
          }
        }
      ],
      "source": [
        "#How does the correlation help to understand the predictions?\n",
        "\n",
        "sns.heatmap(data.corr(), annot=True)\n",
        "#newdata = data.copy()\n",
        "# newdata['x0'] = pd.Series(np.ones(100))\n",
        "# col = newdata.columns\n",
        "# col = ['x0', 'Exam1-score', 'Exam2-score', 'Approval' ]\n",
        "# newdata = newdata[col]\n",
        "# newdata.head()"
      ]
    },
    {
      "cell_type": "code",
      "execution_count": null,
      "metadata": {
        "id": "70PcQaehwbBg"
      },
      "outputs": [],
      "source": [
        "#Let us see if this linear correlation has anything to do with our predictions below.\n",
        "#Note that Exam-1 has a slightly higher positive correlation (0.57) w.r.t the approval rate than the Exam-2 (0.51)."
      ]
    },
    {
      "cell_type": "markdown",
      "metadata": {
        "id": "mnGV9ZV9Mmqw"
      },
      "source": [
        "#Prediction and accuracies\n",
        "\n",
        "Predict what is the probability that a student will be admitted based on their score on exam1 and exam2.\n",
        "Particularly, for the case in which exam1 = 45 and exam2 = 85.Let also see the inverse situation: exam1 = 85 and exam2 = 45"
      ]
    },
    {
      "cell_type": "code",
      "execution_count": null,
      "metadata": {
        "colab": {
          "base_uri": "https://localhost:8080/"
        },
        "id": "nXio7Xxvgya8",
        "outputId": "5b013ebe-a8be-44dc-d81e-b4b7eb38b34e"
      },
      "outputs": [
        {
          "output_type": "stream",
          "name": "stdout",
          "text": [
            "The student with 45 on first exam and 85 on the second has the \n",
            " admission probability of 0.7762785784829798\n"
          ]
        }
      ],
      "source": [
        "#x0=1, exam1 = 45 and exam2 = 85. what is the probability of a pass?\n",
        "prob = sigmoid(np.array([1, 45, 85]).dot(theta))\n",
        "print(f'The student with 45 on first exam and 85 on the second has the \\n \\\n",
        "admission probability of {float(prob)}')"
      ]
    },
    {
      "cell_type": "code",
      "source": [
        "#x0=1, exam1 = 85 and exam2 = 45. what is the probability of a pass?\n",
        "prob = sigmoid(np.array([1, 85, 45]).dot(theta))\n",
        "print(f'The student with 85 on first exam and 45 on the second has the \\n \\\n",
        "admission probability of {float(prob)}') \n",
        "#which is a slightly better result than previosu case, in agreement with\n",
        "#the expectation from the correlation values found above. "
      ],
      "metadata": {
        "colab": {
          "base_uri": "https://localhost:8080/"
        },
        "id": "ZB3voGx81txO",
        "outputId": "e3c07b0e-4e53-4f52-ec86-16f49d3e2ae4"
      },
      "execution_count": null,
      "outputs": [
        {
          "output_type": "stream",
          "name": "stdout",
          "text": [
            "The student with 85 on first exam and 45 on the second has the \n",
            " admission probability of 0.8076023649827495\n"
          ]
        }
      ]
    },
    {
      "cell_type": "markdown",
      "metadata": {
        "id": "toIi6eS64BFU"
      },
      "source": [
        "Now, for accuracy, we need to see how the model do in comparison with the given data with target y.\n",
        "A comparison between the hypothesis and the real values. Any value greater or equal 0.5 is leaning towards a True, otherwise it is a False."
      ]
    },
    {
      "cell_type": "code",
      "execution_count": null,
      "metadata": {
        "id": "-kke0UYKN7lW"
      },
      "outputs": [],
      "source": [
        "def predic(theta, X):\n",
        "  \"\"\"Given predictors and parameters, find the prediction for the target \"\"\"\n",
        "  m = np.size(X,0)\n",
        "  p = np.zeros((m,1))\n",
        "  for (i, value) in enumerate(X):\n",
        "    prob = sigmoid(np.dot(value, theta))\n",
        "    if prob >= 1/2:\n",
        "      p[i] = 1\n",
        "    else:\n",
        "      p[i] = 0  \n",
        "  return p   \n",
        "\n",
        " ## alternatively: \n",
        "  # prob = sigmoid(np.dot(X, theta))\n",
        "  # for i in range(m): \n",
        "  #   if prob[i] >= 0.5:\n",
        "  #     p[i] = 1\n",
        "  #   else:\n",
        "  #     p[i] = 0  \n",
        "  # return p       "
      ]
    },
    {
      "cell_type": "code",
      "execution_count": null,
      "metadata": {
        "colab": {
          "base_uri": "https://localhost:8080/"
        },
        "id": "mo2e7SK5N72U",
        "outputId": "c69bb1dd-7736-4511-d35f-389c0e6e7428"
      },
      "outputs": [
        {
          "output_type": "stream",
          "name": "stdout",
          "text": [
            "The train accuracy is 89.0%\n"
          ]
        }
      ],
      "source": [
        "print(f'The train accuracy is { np.mean(predic(theta, X )== y )*100}%')"
      ]
    },
    {
      "cell_type": "markdown",
      "metadata": {
        "id": "Guy0eCSZ3tdb"
      },
      "source": [
        "#Comparison\n",
        "While we used the logistic regression algorith together with an optimization method for the gradient, we can also use Scikit-learn library for comparing the results. "
      ]
    },
    {
      "cell_type": "code",
      "execution_count": null,
      "metadata": {
        "colab": {
          "base_uri": "https://localhost:8080/"
        },
        "id": "KAgUJAsS3j31",
        "outputId": "01100978-8f70-4520-9280-716e339b43dc"
      },
      "outputs": [
        {
          "output_type": "stream",
          "name": "stdout",
          "text": [
            "The coefficients are: \n",
            " [[0.20535491 0.2005838 ]]\n",
            "[-25.05219314]\n",
            "Accuracy is 89.0\n"
          ]
        },
        {
          "output_type": "stream",
          "name": "stderr",
          "text": [
            "/usr/local/lib/python3.7/dist-packages/sklearn/utils/validation.py:993: DataConversionWarning: A column-vector y was passed when a 1d array was expected. Please change the shape of y to (n_samples, ), for example using ravel().\n",
            "  y = column_or_1d(y, warn=True)\n"
          ]
        }
      ],
      "source": [
        "from sklearn.linear_model import LogisticRegression\n",
        "#y = y.flatten()\n",
        "#create a linear regression object and train the model with training set\n",
        "#be default, intercept (bias) is taken into account. lets use x then\n",
        "lreg = LogisticRegression()\n",
        "lreg = lreg.fit(x,y)\n",
        "\n",
        "lreg.score(x, y)\n",
        "\n",
        "lreg_acc = lreg.score(x, y) * 100\n",
        "\n",
        "print('The coefficients are: \\n', lreg.coef_)\n",
        "print(lreg.intercept_)\n",
        "print(f'Accuracy is {lreg_acc}')\n",
        "#in agreement with our results\n"
      ]
    },
    {
      "cell_type": "code",
      "execution_count": null,
      "metadata": {
        "colab": {
          "base_uri": "https://localhost:8080/"
        },
        "id": "Q3bezh273kGj",
        "outputId": "54fdb8ed-0890-467a-955f-34795f952eb0"
      },
      "outputs": [
        {
          "output_type": "stream",
          "name": "stdout",
          "text": [
            "The coefficients are: \n",
            " [[-3.9000297   0.03844761  0.03102019]]\n",
            "Accuracy is 87.0\n"
          ]
        },
        {
          "output_type": "stream",
          "name": "stderr",
          "text": [
            "/usr/local/lib/python3.7/dist-packages/sklearn/utils/validation.py:993: DataConversionWarning: A column-vector y was passed when a 1d array was expected. Please change the shape of y to (n_samples, ), for example using ravel().\n",
            "  y = column_or_1d(y, warn=True)\n"
          ]
        }
      ],
      "source": [
        "from sklearn.linear_model import LogisticRegression\n",
        "#y = y.flatten()\n",
        "#Lets use our extended vector X and remove sklearn bias\n",
        "lreg = LogisticRegression(fit_intercept=False)\n",
        "lreg = lreg.fit(X,y)\n",
        "\n",
        "lreg.score(X, y)\n",
        "lreg_acc = lreg.score(X, y) * 100\n",
        "\n",
        "\n",
        "print('The coefficients are: \\n', lreg.coef_)\n",
        "print(f'Accuracy is {lreg_acc}')\n",
        "#print(lreg.intercept_)\n",
        "#The result is different from what we found before.\n",
        "#Also the accuracy is smaller, but this is a training set anyway..\n",
        "#That is probably the automatic regularization from sklearn\n",
        "#lets adjust that\n"
      ]
    },
    {
      "cell_type": "markdown",
      "metadata": {
        "id": "NxVs90i2D3cg"
      },
      "source": [
        "##hyperparameter C \n",
        "is related to the regularization: \n",
        "\"C float, default=1.0\n",
        "Inverse of regularization strength; must be a positive float. Like in support vector machines, smaller values specify stronger regularization.\"\n",
        "While regularization takes care of overfiting, C controls the flexibility of the model.\n",
        "Hence, to reduce the regularization, C must be large.\n"
      ]
    },
    {
      "cell_type": "code",
      "execution_count": null,
      "metadata": {
        "colab": {
          "base_uri": "https://localhost:8080/"
        },
        "id": "_wW2MOrzDjAM",
        "outputId": "872bcbb7-3237-4117-ac6d-06b30f3e865d"
      },
      "outputs": [
        {
          "output_type": "stream",
          "name": "stdout",
          "text": [
            "The coefficients are: \n",
            " [[-25.07741347   0.20556053   0.20079246]]\n",
            "Accuracy is 89.0\n"
          ]
        },
        {
          "output_type": "stream",
          "name": "stderr",
          "text": [
            "/usr/local/lib/python3.7/dist-packages/sklearn/utils/validation.py:993: DataConversionWarning: A column-vector y was passed when a 1d array was expected. Please change the shape of y to (n_samples, ), for example using ravel().\n",
            "  y = column_or_1d(y, warn=True)\n"
          ]
        }
      ],
      "source": [
        "#larger C will reduce regularization\n",
        "from sklearn.linear_model import LogisticRegression\n",
        "#y = y.flatten()\n",
        "lreg = LogisticRegression(fit_intercept=False, C=10000)\n",
        "lreg = lreg.fit(X,y)\n",
        "\n",
        "lreg.score(X, y)\n",
        "lreg_acc = lreg.score(X, y) * 100\n",
        "\n",
        "\n",
        "print('The coefficients are: \\n', lreg.coef_)\n",
        "print(f'Accuracy is {lreg_acc}')\n",
        "#print(lreg.intercept_)\n",
        "#The result is in agreement again!\n"
      ]
    },
    {
      "cell_type": "markdown",
      "metadata": {
        "id": "8kuEhTYP7HX5"
      },
      "source": [
        "#Regularized Logistic Regression\n",
        "\n",
        "It is not always possible to have a simple line decision boundary separating the data into two subspaces corresponding to the binary cases True and False, but the inclusion of higher powers polynomial terms on the features x1 and x2, such as their quadratic combinatios, allows the incorportaion of more complex decision boundaries. That will increase the complexity of the model and possibly cause overfitting. Hence, a good idea is to use regularization to make sure the model will not be susceptible to overfitting. Lets see that.\n",
        "\n",
        "\"Suppose you are the product manager of the factory and you have the\n",
        "test results for some microchips on two different tests. From these two tests,you would like to determine whether the microchips should be accepted or rejected. To help you make the decision, you have a dataset of test results on past microchips, from which you can build a logistic regression model.\""
      ]
    },
    {
      "cell_type": "code",
      "execution_count": null,
      "metadata": {
        "id": "BDWcnp85-CES"
      },
      "outputs": [],
      "source": [
        "import numpy as np\n",
        "import pandas as pd\n",
        "import matplotlib.pyplot as plt\n",
        "import seaborn as sns\n",
        "%matplotlib inline"
      ]
    },
    {
      "cell_type": "code",
      "execution_count": null,
      "metadata": {
        "colab": {
          "base_uri": "https://localhost:8080/",
          "height": 206
        },
        "id": "R36E_h06-CNL",
        "outputId": "cc486820-522d-44a6-97d1-0a88043f08f6"
      },
      "outputs": [
        {
          "output_type": "execute_result",
          "data": {
            "text/plain": [
              "      Test1    Test2  Approval\n",
              "0  0.051267  0.69956         1\n",
              "1 -0.092742  0.68494         1\n",
              "2 -0.213710  0.69225         1\n",
              "3 -0.375000  0.50219         1\n",
              "4 -0.513250  0.46564         1"
            ],
            "text/html": [
              "\n",
              "  <div id=\"df-fa11ebc8-fb31-46d0-886d-5bae36cb6d22\">\n",
              "    <div class=\"colab-df-container\">\n",
              "      <div>\n",
              "<style scoped>\n",
              "    .dataframe tbody tr th:only-of-type {\n",
              "        vertical-align: middle;\n",
              "    }\n",
              "\n",
              "    .dataframe tbody tr th {\n",
              "        vertical-align: top;\n",
              "    }\n",
              "\n",
              "    .dataframe thead th {\n",
              "        text-align: right;\n",
              "    }\n",
              "</style>\n",
              "<table border=\"1\" class=\"dataframe\">\n",
              "  <thead>\n",
              "    <tr style=\"text-align: right;\">\n",
              "      <th></th>\n",
              "      <th>Test1</th>\n",
              "      <th>Test2</th>\n",
              "      <th>Approval</th>\n",
              "    </tr>\n",
              "  </thead>\n",
              "  <tbody>\n",
              "    <tr>\n",
              "      <th>0</th>\n",
              "      <td>0.051267</td>\n",
              "      <td>0.69956</td>\n",
              "      <td>1</td>\n",
              "    </tr>\n",
              "    <tr>\n",
              "      <th>1</th>\n",
              "      <td>-0.092742</td>\n",
              "      <td>0.68494</td>\n",
              "      <td>1</td>\n",
              "    </tr>\n",
              "    <tr>\n",
              "      <th>2</th>\n",
              "      <td>-0.213710</td>\n",
              "      <td>0.69225</td>\n",
              "      <td>1</td>\n",
              "    </tr>\n",
              "    <tr>\n",
              "      <th>3</th>\n",
              "      <td>-0.375000</td>\n",
              "      <td>0.50219</td>\n",
              "      <td>1</td>\n",
              "    </tr>\n",
              "    <tr>\n",
              "      <th>4</th>\n",
              "      <td>-0.513250</td>\n",
              "      <td>0.46564</td>\n",
              "      <td>1</td>\n",
              "    </tr>\n",
              "  </tbody>\n",
              "</table>\n",
              "</div>\n",
              "      <button class=\"colab-df-convert\" onclick=\"convertToInteractive('df-fa11ebc8-fb31-46d0-886d-5bae36cb6d22')\"\n",
              "              title=\"Convert this dataframe to an interactive table.\"\n",
              "              style=\"display:none;\">\n",
              "        \n",
              "  <svg xmlns=\"http://www.w3.org/2000/svg\" height=\"24px\"viewBox=\"0 0 24 24\"\n",
              "       width=\"24px\">\n",
              "    <path d=\"M0 0h24v24H0V0z\" fill=\"none\"/>\n",
              "    <path d=\"M18.56 5.44l.94 2.06.94-2.06 2.06-.94-2.06-.94-.94-2.06-.94 2.06-2.06.94zm-11 1L8.5 8.5l.94-2.06 2.06-.94-2.06-.94L8.5 2.5l-.94 2.06-2.06.94zm10 10l.94 2.06.94-2.06 2.06-.94-2.06-.94-.94-2.06-.94 2.06-2.06.94z\"/><path d=\"M17.41 7.96l-1.37-1.37c-.4-.4-.92-.59-1.43-.59-.52 0-1.04.2-1.43.59L10.3 9.45l-7.72 7.72c-.78.78-.78 2.05 0 2.83L4 21.41c.39.39.9.59 1.41.59.51 0 1.02-.2 1.41-.59l7.78-7.78 2.81-2.81c.8-.78.8-2.07 0-2.86zM5.41 20L4 18.59l7.72-7.72 1.47 1.35L5.41 20z\"/>\n",
              "  </svg>\n",
              "      </button>\n",
              "      \n",
              "  <style>\n",
              "    .colab-df-container {\n",
              "      display:flex;\n",
              "      flex-wrap:wrap;\n",
              "      gap: 12px;\n",
              "    }\n",
              "\n",
              "    .colab-df-convert {\n",
              "      background-color: #E8F0FE;\n",
              "      border: none;\n",
              "      border-radius: 50%;\n",
              "      cursor: pointer;\n",
              "      display: none;\n",
              "      fill: #1967D2;\n",
              "      height: 32px;\n",
              "      padding: 0 0 0 0;\n",
              "      width: 32px;\n",
              "    }\n",
              "\n",
              "    .colab-df-convert:hover {\n",
              "      background-color: #E2EBFA;\n",
              "      box-shadow: 0px 1px 2px rgba(60, 64, 67, 0.3), 0px 1px 3px 1px rgba(60, 64, 67, 0.15);\n",
              "      fill: #174EA6;\n",
              "    }\n",
              "\n",
              "    [theme=dark] .colab-df-convert {\n",
              "      background-color: #3B4455;\n",
              "      fill: #D2E3FC;\n",
              "    }\n",
              "\n",
              "    [theme=dark] .colab-df-convert:hover {\n",
              "      background-color: #434B5C;\n",
              "      box-shadow: 0px 1px 3px 1px rgba(0, 0, 0, 0.15);\n",
              "      filter: drop-shadow(0px 1px 2px rgba(0, 0, 0, 0.3));\n",
              "      fill: #FFFFFF;\n",
              "    }\n",
              "  </style>\n",
              "\n",
              "      <script>\n",
              "        const buttonEl =\n",
              "          document.querySelector('#df-fa11ebc8-fb31-46d0-886d-5bae36cb6d22 button.colab-df-convert');\n",
              "        buttonEl.style.display =\n",
              "          google.colab.kernel.accessAllowed ? 'block' : 'none';\n",
              "\n",
              "        async function convertToInteractive(key) {\n",
              "          const element = document.querySelector('#df-fa11ebc8-fb31-46d0-886d-5bae36cb6d22');\n",
              "          const dataTable =\n",
              "            await google.colab.kernel.invokeFunction('convertToInteractive',\n",
              "                                                     [key], {});\n",
              "          if (!dataTable) return;\n",
              "\n",
              "          const docLinkHtml = 'Like what you see? Visit the ' +\n",
              "            '<a target=\"_blank\" href=https://colab.research.google.com/notebooks/data_table.ipynb>data table notebook</a>'\n",
              "            + ' to learn more about interactive tables.';\n",
              "          element.innerHTML = '';\n",
              "          dataTable['output_type'] = 'display_data';\n",
              "          await google.colab.output.renderOutput(dataTable, element);\n",
              "          const docLink = document.createElement('div');\n",
              "          docLink.innerHTML = docLinkHtml;\n",
              "          element.appendChild(docLink);\n",
              "        }\n",
              "      </script>\n",
              "    </div>\n",
              "  </div>\n",
              "  "
            ]
          },
          "metadata": {},
          "execution_count": 32
        }
      ],
      "source": [
        "path2 = '/content/drive/MyDrive/Machine_Learning_DS/Material/ML_Standford/ex2-octave/ex2data2.txt'\n",
        "data2 = pd.read_csv(path2, header=None, names=['Test1', 'Test2', 'Approval'])\n",
        "\n",
        "m = len(data2['Approval'])  #number of training values\n",
        "\n",
        "data2.head()\n"
      ]
    },
    {
      "cell_type": "code",
      "execution_count": null,
      "metadata": {
        "colab": {
          "base_uri": "https://localhost:8080/",
          "height": 300
        },
        "id": "qk4zyInEBZw3",
        "outputId": "59b905a0-50de-4da0-ddb7-b2cd7549431d"
      },
      "outputs": [
        {
          "output_type": "execute_result",
          "data": {
            "text/plain": [
              "            Test1       Test2    Approval\n",
              "count  118.000000  118.000000  118.000000\n",
              "mean     0.054779    0.183102    0.491525\n",
              "std      0.496654    0.519743    0.502060\n",
              "min     -0.830070   -0.769740    0.000000\n",
              "25%     -0.372120   -0.254385    0.000000\n",
              "50%     -0.006336    0.213455    0.000000\n",
              "75%      0.478970    0.646563    1.000000\n",
              "max      1.070900    1.108900    1.000000"
            ],
            "text/html": [
              "\n",
              "  <div id=\"df-cef530b5-0c40-4f82-b3d2-07d4192e0c52\">\n",
              "    <div class=\"colab-df-container\">\n",
              "      <div>\n",
              "<style scoped>\n",
              "    .dataframe tbody tr th:only-of-type {\n",
              "        vertical-align: middle;\n",
              "    }\n",
              "\n",
              "    .dataframe tbody tr th {\n",
              "        vertical-align: top;\n",
              "    }\n",
              "\n",
              "    .dataframe thead th {\n",
              "        text-align: right;\n",
              "    }\n",
              "</style>\n",
              "<table border=\"1\" class=\"dataframe\">\n",
              "  <thead>\n",
              "    <tr style=\"text-align: right;\">\n",
              "      <th></th>\n",
              "      <th>Test1</th>\n",
              "      <th>Test2</th>\n",
              "      <th>Approval</th>\n",
              "    </tr>\n",
              "  </thead>\n",
              "  <tbody>\n",
              "    <tr>\n",
              "      <th>count</th>\n",
              "      <td>118.000000</td>\n",
              "      <td>118.000000</td>\n",
              "      <td>118.000000</td>\n",
              "    </tr>\n",
              "    <tr>\n",
              "      <th>mean</th>\n",
              "      <td>0.054779</td>\n",
              "      <td>0.183102</td>\n",
              "      <td>0.491525</td>\n",
              "    </tr>\n",
              "    <tr>\n",
              "      <th>std</th>\n",
              "      <td>0.496654</td>\n",
              "      <td>0.519743</td>\n",
              "      <td>0.502060</td>\n",
              "    </tr>\n",
              "    <tr>\n",
              "      <th>min</th>\n",
              "      <td>-0.830070</td>\n",
              "      <td>-0.769740</td>\n",
              "      <td>0.000000</td>\n",
              "    </tr>\n",
              "    <tr>\n",
              "      <th>25%</th>\n",
              "      <td>-0.372120</td>\n",
              "      <td>-0.254385</td>\n",
              "      <td>0.000000</td>\n",
              "    </tr>\n",
              "    <tr>\n",
              "      <th>50%</th>\n",
              "      <td>-0.006336</td>\n",
              "      <td>0.213455</td>\n",
              "      <td>0.000000</td>\n",
              "    </tr>\n",
              "    <tr>\n",
              "      <th>75%</th>\n",
              "      <td>0.478970</td>\n",
              "      <td>0.646563</td>\n",
              "      <td>1.000000</td>\n",
              "    </tr>\n",
              "    <tr>\n",
              "      <th>max</th>\n",
              "      <td>1.070900</td>\n",
              "      <td>1.108900</td>\n",
              "      <td>1.000000</td>\n",
              "    </tr>\n",
              "  </tbody>\n",
              "</table>\n",
              "</div>\n",
              "      <button class=\"colab-df-convert\" onclick=\"convertToInteractive('df-cef530b5-0c40-4f82-b3d2-07d4192e0c52')\"\n",
              "              title=\"Convert this dataframe to an interactive table.\"\n",
              "              style=\"display:none;\">\n",
              "        \n",
              "  <svg xmlns=\"http://www.w3.org/2000/svg\" height=\"24px\"viewBox=\"0 0 24 24\"\n",
              "       width=\"24px\">\n",
              "    <path d=\"M0 0h24v24H0V0z\" fill=\"none\"/>\n",
              "    <path d=\"M18.56 5.44l.94 2.06.94-2.06 2.06-.94-2.06-.94-.94-2.06-.94 2.06-2.06.94zm-11 1L8.5 8.5l.94-2.06 2.06-.94-2.06-.94L8.5 2.5l-.94 2.06-2.06.94zm10 10l.94 2.06.94-2.06 2.06-.94-2.06-.94-.94-2.06-.94 2.06-2.06.94z\"/><path d=\"M17.41 7.96l-1.37-1.37c-.4-.4-.92-.59-1.43-.59-.52 0-1.04.2-1.43.59L10.3 9.45l-7.72 7.72c-.78.78-.78 2.05 0 2.83L4 21.41c.39.39.9.59 1.41.59.51 0 1.02-.2 1.41-.59l7.78-7.78 2.81-2.81c.8-.78.8-2.07 0-2.86zM5.41 20L4 18.59l7.72-7.72 1.47 1.35L5.41 20z\"/>\n",
              "  </svg>\n",
              "      </button>\n",
              "      \n",
              "  <style>\n",
              "    .colab-df-container {\n",
              "      display:flex;\n",
              "      flex-wrap:wrap;\n",
              "      gap: 12px;\n",
              "    }\n",
              "\n",
              "    .colab-df-convert {\n",
              "      background-color: #E8F0FE;\n",
              "      border: none;\n",
              "      border-radius: 50%;\n",
              "      cursor: pointer;\n",
              "      display: none;\n",
              "      fill: #1967D2;\n",
              "      height: 32px;\n",
              "      padding: 0 0 0 0;\n",
              "      width: 32px;\n",
              "    }\n",
              "\n",
              "    .colab-df-convert:hover {\n",
              "      background-color: #E2EBFA;\n",
              "      box-shadow: 0px 1px 2px rgba(60, 64, 67, 0.3), 0px 1px 3px 1px rgba(60, 64, 67, 0.15);\n",
              "      fill: #174EA6;\n",
              "    }\n",
              "\n",
              "    [theme=dark] .colab-df-convert {\n",
              "      background-color: #3B4455;\n",
              "      fill: #D2E3FC;\n",
              "    }\n",
              "\n",
              "    [theme=dark] .colab-df-convert:hover {\n",
              "      background-color: #434B5C;\n",
              "      box-shadow: 0px 1px 3px 1px rgba(0, 0, 0, 0.15);\n",
              "      filter: drop-shadow(0px 1px 2px rgba(0, 0, 0, 0.3));\n",
              "      fill: #FFFFFF;\n",
              "    }\n",
              "  </style>\n",
              "\n",
              "      <script>\n",
              "        const buttonEl =\n",
              "          document.querySelector('#df-cef530b5-0c40-4f82-b3d2-07d4192e0c52 button.colab-df-convert');\n",
              "        buttonEl.style.display =\n",
              "          google.colab.kernel.accessAllowed ? 'block' : 'none';\n",
              "\n",
              "        async function convertToInteractive(key) {\n",
              "          const element = document.querySelector('#df-cef530b5-0c40-4f82-b3d2-07d4192e0c52');\n",
              "          const dataTable =\n",
              "            await google.colab.kernel.invokeFunction('convertToInteractive',\n",
              "                                                     [key], {});\n",
              "          if (!dataTable) return;\n",
              "\n",
              "          const docLinkHtml = 'Like what you see? Visit the ' +\n",
              "            '<a target=\"_blank\" href=https://colab.research.google.com/notebooks/data_table.ipynb>data table notebook</a>'\n",
              "            + ' to learn more about interactive tables.';\n",
              "          element.innerHTML = '';\n",
              "          dataTable['output_type'] = 'display_data';\n",
              "          await google.colab.output.renderOutput(dataTable, element);\n",
              "          const docLink = document.createElement('div');\n",
              "          docLink.innerHTML = docLinkHtml;\n",
              "          element.appendChild(docLink);\n",
              "        }\n",
              "      </script>\n",
              "    </div>\n",
              "  </div>\n",
              "  "
            ]
          },
          "metadata": {},
          "execution_count": 33
        }
      ],
      "source": [
        "data2.describe() #5-points summary "
      ]
    },
    {
      "cell_type": "code",
      "execution_count": null,
      "metadata": {
        "colab": {
          "base_uri": "https://localhost:8080/"
        },
        "id": "Z3L7-U02-CUB",
        "outputId": "b778b610-8962-4005-93be-31177cec16b2"
      },
      "outputs": [
        {
          "output_type": "stream",
          "name": "stdout",
          "text": [
            "(2, 118) (118,)\n"
          ]
        }
      ],
      "source": [
        "\n",
        "x = np.array([data2['Test1'], data2['Test2']])   #capital X will be with x0s included...\n",
        "y = np.array(data2['Approval'])\n",
        "\n",
        "print( x.shape, y.shape)"
      ]
    },
    {
      "cell_type": "code",
      "execution_count": null,
      "metadata": {
        "colab": {
          "base_uri": "https://localhost:8080/"
        },
        "id": "AJtZztIk-CXF",
        "outputId": "e93a67eb-3823-4514-fffd-21846769152c"
      },
      "outputs": [
        {
          "output_type": "stream",
          "name": "stdout",
          "text": [
            "(118, 2) (118, 1)\n"
          ]
        }
      ],
      "source": [
        "x = x.T\n",
        "y = y.reshape(m,1)  #a column vector\n",
        "print(x.shape, y.shape)\n"
      ]
    },
    {
      "cell_type": "code",
      "execution_count": null,
      "metadata": {
        "colab": {
          "base_uri": "https://localhost:8080/"
        },
        "id": "0O9mhnAbB0uH",
        "outputId": "cfa1cc35-67ed-4e57-a555-7e007db4e5a6"
      },
      "outputs": [
        {
          "output_type": "execute_result",
          "data": {
            "text/plain": [
              "array([[ 0.051267,  0.69956 ],\n",
              "       [-0.092742,  0.68494 ],\n",
              "       [-0.21371 ,  0.69225 ],\n",
              "       [-0.375   ,  0.50219 ],\n",
              "       [-0.51325 ,  0.46564 ],\n",
              "       [-0.52477 ,  0.2098  ],\n",
              "       [-0.39804 ,  0.034357]])"
            ]
          },
          "metadata": {},
          "execution_count": 36
        }
      ],
      "source": [
        "m, n = x.shape  # m examples and n features\n",
        "x[:7]"
      ]
    },
    {
      "cell_type": "markdown",
      "metadata": {
        "id": "fL1oQJkTCW9O"
      },
      "source": [
        "#Visualisation \n"
      ]
    },
    {
      "cell_type": "code",
      "execution_count": null,
      "metadata": {
        "colab": {
          "base_uri": "https://localhost:8080/",
          "height": 374
        },
        "id": "pNdHl3xK-CbO",
        "outputId": "766377bf-63ca-4c03-8fee-405853ede661"
      },
      "outputs": [
        {
          "output_type": "display_data",
          "data": {
            "text/plain": [
              "<Figure size 504x432 with 1 Axes>"
            ],
            "image/png": "[encoded data removed]"
          },
          "metadata": {
            "needs_background": "light"
          }
        }
      ],
      "source": [
        "#Still we have 2 features 1 and x2, so we can plot these against the value of the target y.\n",
        "#note that: pos = np.where(y==1, y, 7) would give same size array with\n",
        "# y where y=1 and 7 otherwise. But we want only to select the rows of y where y==1\n",
        "pos = np.where(y==1)[0] #positive result 1\n",
        "neg = np.where(y==0)[0]       # negative result 0\n",
        "\n",
        "plt.figure(figsize=(7,6))\n",
        "plt.plot(x[pos,0], x[pos,1], 'k+', label='Approved'  )\n",
        "plt.plot(x[neg,0], x[neg,1], 'yo', label='Not Approved')\n",
        "plt.legend()\n",
        "plt.show()\n"
      ]
    },
    {
      "cell_type": "markdown",
      "metadata": {
        "id": "JgID_HFFfUky"
      },
      "source": [
        "As mentioned before, a shape that could probably fit this data dividing the plane into two regions\n",
        "has a curvature similar of a circle (which has a power-two polynomial equation on the plane).\n",
        "That means we need at least power two on our features to try to fit this shape\n",
        "solution: construct a map feature that will take polynomial terms out of x1 and x2. \n",
        "example: up to the 6th order!\n",
        "\n",
        "NOTE: if we start with a column vector of ones, we need to horizontally stack more columns\n",
        "to form the matrix M. previously, X was made of columns 1s, x1 and x2. But now, we need to include\n",
        "other columns such as x1^2, x1x2, x2^2,.... hstack will do that.\n",
        "Note also that there is a contraint between the power of x1 (index: i) and power of x2 (index: j)\n",
        "namely: i + j = degree. If i is free to change in a given range,\n",
        "j needs to be bounded by i. That means j will depend on i, and  i is bounded by the maximum chosen degree.\n",
        "if we start with a column of ones, i=0 is not needed, and we can start with i=1,....  "
      ]
    },
    {
      "cell_type": "code",
      "execution_count": null,
      "metadata": {
        "colab": {
          "base_uri": "https://localhost:8080/"
        },
        "id": "oRPQDppW-CkY",
        "outputId": "2a737554-b58c-4a91-9980-55b31d16e3e9"
      },
      "outputs": [
        {
          "output_type": "execute_result",
          "data": {
            "text/plain": [
              "array([1., 1., 1., 1., 1., 1., 1., 1., 1., 1., 1., 1., 1., 1., 1., 1., 1.,\n",
              "       1., 1., 1., 1., 1., 1., 1., 1., 1., 1., 1., 1., 1., 1., 1., 1., 1.,\n",
              "       1., 1., 1., 1., 1., 1., 1., 1., 1., 1., 1., 1., 1., 1., 1., 1., 1.,\n",
              "       1., 1., 1., 1., 1., 1., 1., 1., 1., 1., 1., 1., 1., 1., 1., 1., 1.,\n",
              "       1., 1., 1., 1., 1., 1., 1., 1., 1., 1., 1., 1., 1., 1., 1., 1., 1.,\n",
              "       1., 1., 1., 1., 1., 1., 1., 1., 1., 1., 1., 1., 1., 1., 1., 1., 1.,\n",
              "       1., 1., 1., 1., 1., 1., 1., 1., 1., 1., 1., 1., 1., 1., 1., 1.])"
            ]
          },
          "metadata": {},
          "execution_count": 38
        }
      ],
      "source": [
        "def mapFeature(x1, x2, degree):\n",
        "  \"\"\"Given features x1 and x2 as columns of same size, it returns all polynomial terms up to the chosen degree \"\"\"\n",
        "  \n",
        "  #for multi feature plot in terms of x1 ad x2, we will pass x1 and x2\n",
        "  #that are not numpy arrays (ndarray), but floats, which can cause problems with operations\n",
        "  #such as the len() (if it is a float or int, it has no lenght) or even power ** (because of lack of broadcasting)\n",
        "  #this can be solved by enforcing x1 and x2 are numpy arrays and same size!\n",
        "  if (type(x1)== list) | (type(x2)==list ):\n",
        "    raise TypeError('That will not work with lists')\n",
        "\n",
        "  if type(x1) != np.ndarray:\n",
        "    x1 = np.array([x1])\n",
        "  if type(x2)  != np.ndarray:\n",
        "    x2 = np.array( [x2] )  \n",
        "     \n",
        "#it does not include lists since a x1 list would become a matrix '[[...]]'\n",
        "#to include mistakes such as x1 and x2 given as lists\n",
        "#include nested conditional 'ifs' for x1 and x2: \n",
        "#if type(x1) = list:\n",
        "# x1 = np.array()\n",
        "\n",
        " \n",
        "  out  = np.ones( (len(x1),1) )  #start with a column of ones\n",
        " \n",
        "\n",
        "  for i in range(1, degree+1): # 1<= i <= degree(including)\n",
        "    for j in range(i+1):       # 0<= j <= i (including)   \n",
        "       poly = (x1 ** (i-j) * x2**j  ).reshape( (len(x1),1) )  #binomial terms. reshaped to match column vector\n",
        "       \n",
        "       out = np.hstack( (out, poly)  )    #horizontal stack (new columns)\n",
        "  \n",
        "  return out\n",
        "\n",
        "X = mapFeature(x[:,0], x[:,1], 6 )  #extended X contains 1s and more features\n",
        "#note that x[:,0].shape is (118,)  which is not a column vector\n",
        "\n",
        "#check that the first column is indded made out of ones\n",
        "X[:,0]\n",
        "\n",
        "\n",
        "\n",
        "\n"
      ]
    },
    {
      "cell_type": "code",
      "execution_count": null,
      "metadata": {
        "id": "3QsHcXLTl2Xx"
      },
      "outputs": [],
      "source": [
        "m, n = X.shape #updating size values with extended X\n",
        "\n"
      ]
    },
    {
      "cell_type": "markdown",
      "metadata": {
        "id": "SyvoT91mvTx2"
      },
      "source": [
        "#Cost function and its gradient\n",
        "\n",
        "To avoid overfitting, a regularization term will be added to the previous cost function and the new cost function is, therefore, a regularized cost function. Regularization is parametrized by $\\lambda$, but the bias $\\theta_0$ asscociated with x0=1 is excluded from the regularization term since there is no overfitting associated with the bias."
      ]
    },
    {
      "cell_type": "code",
      "execution_count": null,
      "metadata": {
        "id": "O3nx_48_vU3z"
      },
      "outputs": [],
      "source": [
        "def sigmoid(s):\n",
        "  return 1/(1 + np.exp(-s))\n",
        "\n"
      ]
    },
    {
      "cell_type": "code",
      "execution_count": null,
      "metadata": {
        "id": "ZPEVKySLvVA7"
      },
      "outputs": [],
      "source": [
        "#The cost function is the previous one plus a regularization\n",
        "# Note: theta first argument because we will use an optimization method\n",
        "#that takes first argument as variable only.\n",
        "def cost_functionReg(theta, X, y, LAMBDA):           #'lambda' is reserved...\n",
        "  \"\"\"Calculate the regularized cost function for logistic regression\"\"\"\n",
        "  m = len(y)\n",
        "  #global m                      # m = X.shape[0]\n",
        "  h = sigmoid(np.dot(X, theta))   #hypothesis adjusted from linear regression (identity>>sigmoid)\n",
        "  \n",
        "  regularization = LAMBDA/(2*m) * np.transpose(theta[1:]   ) @ theta[1:]\n",
        "  cost = (1/m) * ( -y.T @ np.log(h) -(1 - y.T)@ np.log(1-h) )\n",
        "  regcost = cost + regularization\n",
        "  return  regcost\n",
        "\n",
        " "
      ]
    },
    {
      "cell_type": "code",
      "execution_count": null,
      "metadata": {
        "id": "ff4omuLIQ7Kk"
      },
      "outputs": [],
      "source": [
        "#We know the gradient of our cost function wrt parameters theta \n",
        "#instead of ascendent gradient (maximizing a function -log) we use the \n",
        "#conjugate gradient method\n",
        "def gradientReg(theta, X, y, LAMBDA):\n",
        "  h = sigmoid(np.dot(X, theta))\n",
        "  m = len(y)\n",
        "  #theta = theta.reshape((n,1))  in case theta is given as an array instead matrix\n",
        "  grad_regularization = (LAMBDA/m) * theta\n",
        "  grad_regularization[0] = 0                # set the regularization term to zero for theta0 = theta[0]\n",
        "  grad_usual = (1/m) *  np.dot(X.T, (h-y))\n",
        "  reggrad = grad_usual + grad_regularization\n",
        "  return reggrad"
      ]
    },
    {
      "cell_type": "code",
      "execution_count": null,
      "metadata": {
        "colab": {
          "base_uri": "https://localhost:8080/"
        },
        "id": "bLwM44AfvVV6",
        "outputId": "6bce7af6-2965-4cb4-9e2a-69e148404f3c"
      },
      "outputs": [
        {
          "output_type": "stream",
          "name": "stdout",
          "text": [
            "For lambda=1 and this choice of theta \n",
            " [0. 0. 0. 0. 0. 0. 0. 0. 0. 0. 0. 0. 0. 0. 0. 0. 0. 0. 0. 0. 0. 0. 0. 0.\n",
            " 0. 0. 0. 0.] \n",
            " the cost function is [[0.69314718]]  \n",
            "--------------------------------------------------\n",
            "And the first components of the associated regularized gradient reads \n",
            " [[8.47457627e-03]\n",
            " [1.87880932e-02]\n",
            " [7.77711864e-05]\n",
            " [5.03446395e-02]\n",
            " [1.15013308e-02]]   \n"
          ]
        }
      ],
      "source": [
        "#For initial thetas at zero. Choose LAMBDA=1 and a initial theta made  of zeros\n",
        "LAMBDA = 1\n",
        "theta = np.zeros((n,1))   #column vector such that n=len(theta)\n",
        "print(f'For lambda={LAMBDA} and this choice of theta \\n {theta.flatten()} \\n the cost function is {cost_functionReg(theta, X, y, LAMBDA)}  ' ) \n",
        "print('-'*50)\n",
        "print(f'And the first components of the associated regularized gradient reads \\n {gradientReg(theta, X, y, LAMBDA)[:5]}   ')"
      ]
    },
    {
      "cell_type": "code",
      "execution_count": null,
      "metadata": {
        "colab": {
          "base_uri": "https://localhost:8080/"
        },
        "id": "j-FDWoAA9O-j",
        "outputId": "55b736c7-4268-4c1c-95aa-58d2520f072b"
      },
      "outputs": [
        {
          "output_type": "stream",
          "name": "stdout",
          "text": [
            "For lambda=10 and this choice of theta \n",
            " [1. 1. 1. 1. 1. 1. 1. 1. 1. 1. 1. 1. 1. 1. 1. 1. 1. 1. 1. 1. 1. 1. 1. 1.\n",
            " 1. 1. 1. 1.] \n",
            " the cost function is [[3.16450933]]  \n",
            "--------------------------------------------------\n",
            "And the first components of the associated regularized gradient reads \n",
            " [[0.34604507]\n",
            " [0.16135192]\n",
            " [0.19479576]\n",
            " [0.22686278]\n",
            " [0.09218568]]   \n"
          ]
        }
      ],
      "source": [
        "#test\n",
        "LAMBDA = 10\n",
        "theta = np.ones((n,1))   #column vector such that n=len(theta)\n",
        "print(f'For lambda={LAMBDA} and this choice of theta \\n {theta.flatten()} \\n the cost function is {cost_functionReg(theta, X, y, LAMBDA)}  ' ) \n",
        "print('-'*50)\n",
        "print(f'And the first components of the associated regularized gradient reads \\n {gradientReg(theta, X, y, LAMBDA)[:5]}   ')"
      ]
    },
    {
      "cell_type": "code",
      "execution_count": null,
      "metadata": {
        "colab": {
          "base_uri": "https://localhost:8080/"
        },
        "id": "S_9j1VwG9PpN",
        "outputId": "a6c2f0ec-1e60-4073-b491-8b71f203e724"
      },
      "outputs": [
        {
          "output_type": "stream",
          "name": "stdout",
          "text": [
            "Optimization terminated successfully.\n",
            "         Current function value: 0.529003\n",
            "         Iterations: 6\n",
            "         Function evaluations: 7\n",
            "         Gradient evaluations: 74\n",
            "         Hessian evaluations: 0\n",
            " the minimum is achieved with (first terms only) theta = [ 1.27273957  0.62527109  1.18108833 -2.01996109 -0.91742265] \n",
            " It shall, however, be expressed (first terms only) as a column \n",
            " [[ 1.27273957]\n",
            " [ 0.62527109]\n",
            " [ 1.18108833]\n",
            " [-2.01996109]\n",
            " [-0.91742265]] \n"
          ]
        }
      ],
      "source": [
        "from scipy import optimize\n",
        "\n",
        "LAMBDA=1\n",
        "theta = np.zeros((n,1))\n",
        "\n",
        "#For this optimization, we need to reshape y and theta to become one-dimensional arrays!\n",
        "theta= theta.reshape((n,))\n",
        "y= y.reshape((m,))\n",
        "\n",
        "result = optimize.minimize(cost_functionReg, theta, args=(X,y, LAMBDA), method='Newton-CG',\n",
        "                  jac = gradientReg, options={'maxiter': 400, 'disp':True } )\n",
        "\n",
        "theta_min = result['x']\n",
        "\n",
        "\n",
        "print(f' the minimum is achieved with (first terms only) theta = {theta_min[:5]} ')\n",
        "print(f' It shall, however, be expressed (first terms only) as a column \\n {(theta_min).reshape((n,1))[:5]} ')\n",
        "\n",
        "\n",
        "#restart the original shapes\n",
        "y= y.reshape((m,1))\n",
        "theta = (theta_min).reshape((n,1))\n",
        "\n",
        "#note: jac is Jacobian. Give the method; our gradient function defined above.\n",
        "#it should be a function that returns the gradient vector:\n",
        "#jac(x, *args) -> array_like, shape (n,)\n",
        "#where x is an array with shape (n,) and args is a tuple with the fixed parameters.\n",
        "\n",
        "#args is a tuple of the fixed parameters needed to completely specify the function.\n",
        "#maxiter for maximum iterations\n",
        "#disp for printing convergence messages\n",
        "\n",
        "# returns: The optimization result represented as a OptimizeResult object. \n",
        "#Important attributes are: x the solution array, success a Boolean flag indicating \n",
        "#if the optimizer exited successfully and message which describes the cause of the termination. \n",
        "\n",
        "\n",
        "#alternatively\n",
        "#result2 = optimize.fmin_tnc(func= cost_function, x0= theta, fprime=gradient, args= (X, y) )\n"
      ]
    },
    {
      "cell_type": "code",
      "execution_count": null,
      "metadata": {
        "colab": {
          "base_uri": "https://localhost:8080/",
          "height": 341
        },
        "id": "jnzEMDLX9P3h",
        "outputId": "55299c97-3e0f-4faf-f5c9-f023db2ff58f"
      },
      "outputs": [
        {
          "output_type": "display_data",
          "data": {
            "text/plain": [
              "<Figure size 504x360 with 1 Axes>"
            ],
            "image/png": "[encoded data removed]"
          },
          "metadata": {
            "needs_background": "light"
          }
        },
        {
          "output_type": "stream",
          "name": "stdout",
          "text": [
            "This plot shows the decision boundary for lambda=1\n"
          ]
        }
      ],
      "source": [
        "#The decision boundary can be plot to separete the data\n",
        "#into two subspaces corresponding to True (y=1) and False (y=0) values\n",
        "\n",
        "#first plot the data again\n",
        "pos = np.where(y==1)[0]  #positive result 1\n",
        "neg = np.where(y==0)[0]       # negative result 0\n",
        "\n",
        "#Note that this time we are using the extended X containing 1's due to intercept\n",
        "plt.figure(figsize= (7,5) )\n",
        "plt.plot(X[pos,1], X[pos,2], 'k+', label='Approved'  )\n",
        "plt.plot(X[neg,1], X[neg,2], 'yo', label='Not Approved')\n",
        "plt.legend()\n",
        "\n",
        "\n",
        "#now the decision boundary\n",
        "#requires calculation of X @ theta\n",
        "#Here theta needs to be the theta_min reshaped to columns as originally\n",
        "theta = (theta_min).reshape((n,1))\n",
        "y= y.reshape((m,1))\n",
        "\n",
        "#Note that now we will use the mapfeature giving x1 and x1 as numbers\n",
        "# from that, the map will make 28 columns with all powers up to degree 6\n",
        "#combinations of x1 and x2. The plot will again show x1 against x2 \n",
        "#with y=1 (cross) or y=0 (dots) with different visual representation \n",
        "\n",
        "# making a grig\n",
        "u_vals = np.linspace(-1,1.5,50)\n",
        "v_vals= np.linspace(-1,1.5,50)\n",
        "z=np.zeros((len(u_vals),len(v_vals)))\n",
        "\n",
        "for i in range(len(u_vals)):\n",
        "    for j in range(len(v_vals)):\n",
        "      z[i,j] = mapFeature(u_vals[i],v_vals[j], degree=6) @ theta   # X @ theta\n",
        "#the mapfeature has now numbers as input for  x1 and x2\n",
        "#that is fine becuse the mapFeature will convert them to numpy array\n",
        "\n",
        "\n",
        "#now the decision boundary is not a line \n",
        "plt.contour(u_vals, v_vals, z.T, 0 ) #levels=[0]\n",
        "\n",
        "plt.show()\n",
        "print(f'This plot shows the decision boundary for lambda={LAMBDA}')\n"
      ]
    },
    {
      "cell_type": "code",
      "source": [
        ""
      ],
      "metadata": {
        "id": "lrmygK8_6OOR"
      },
      "execution_count": null,
      "outputs": []
    },
    {
      "cell_type": "markdown",
      "source": [
        "#Where is regularization?\n",
        "\n",
        "$\\lambda$ is the parameter controlling the regularization term. If it is sufficiently large, the learning parameters $\\theta$ will have to be small since their product is a term in the cost function, which shall be minimized. The terminology for that is called 'penalization' of the parameters. If the learning parameters are submitted to a strict penalization, there will be an undeerfitting of the model. Setting $\\lambda =0$ means removing the regularization term and increasing the chances of overfitting the model. Hence, for intermediate values of $\\lambda$, we expect a behaviour between overfitting and underfitting. Ideally, we want to express the main features (complexity) without overfitting the model.\n",
        "\n",
        "Let's see how the choice of $\\lambda$ affects the decision boundary below."
      ],
      "metadata": {
        "id": "QzZjlK1gsWyN"
      }
    },
    {
      "cell_type": "code",
      "source": [
        "#Lets put together all the code before allowing to plot the decision boundary for different choices of LAMBDA\n",
        "\n",
        "def plot_decisionBoundary(X, y, LAMBDA):\n",
        "\n",
        "  from scipy import optimize\n",
        "\n",
        "  \n",
        "  theta = np.zeros((n,1))\n",
        "\n",
        "#For this optimization, we need to reshape y and theta to become arrays!\n",
        "  theta= theta.reshape((n,))\n",
        "  y= y.reshape((m,))\n",
        "\n",
        "  result = optimize.minimize(cost_functionReg, theta, args=(X,y, LAMBDA), method='Newton-CG',\n",
        "                  jac = gradientReg, options={'maxiter': 400, 'disp':True } )\n",
        "\n",
        "  theta_min = result['x']\n",
        "\n",
        "\n",
        "  print(f' the minimum is achieved with (first terms only) theta = {theta_min[:5]} ')\n",
        "  print(f' It shall, however, be expressed (first terms only) as a column \\n {(theta_min).reshape((n,1))[:5]} ')\n",
        "\n",
        "\n",
        "#restart the original shapes\n",
        "  y= y.reshape((m,1))\n",
        "  theta = (theta_min).reshape((n,1))\n",
        "\n",
        "#alternatively\n",
        "  #result2 = optimize.fmin_tnc(func= cost_function, x0= theta, fprime=gradient, args= (X, y) )\n",
        "\n",
        "\n",
        "#first plot the data again\n",
        "  pos = np.where(y==1)[0]  #positive result 1\n",
        "  neg = np.where(y==0)[0]       # negative result 0\n",
        "\n",
        "#Note that this time we are using the extended X containing 1's due to intercept\n",
        "  plt.figure(figsize= (7,5) )\n",
        "  plt.plot(X[pos,1], X[pos,2], 'k+', label='Approved'  )\n",
        "  plt.plot(X[neg,1], X[neg,2], 'yo', label='Not Approved')\n",
        "  plt.legend()\n",
        "\n",
        "\n",
        "#now the decision boundary\n",
        "#requires calculation of X @ theta\n",
        "#Here theta needs to be the theta_min reshaped to columns as originally\n",
        "  theta = (theta_min).reshape((n,1))\n",
        "  y= y.reshape((m,1))\n",
        "\n",
        "#Note that now we will use the mapfeature giving x1 and x1 as numbers\n",
        "# from that, the map will make 28 columns with all powers up to degree 6\n",
        "#combinations of x1 and x2. The plot will again show x1 against x2 \n",
        "#with y=1 (cross) or y=0 (dots) with different visual representation \n",
        "\n",
        "# making a grig\n",
        "  u_vals = np.linspace(-1,1.5,50)\n",
        "  v_vals= np.linspace(-1,1.5,50)\n",
        "  z=np.zeros((len(u_vals),len(v_vals)))\n",
        "\n",
        "  for i in range(len(u_vals)):\n",
        "      for j in range(len(v_vals)):\n",
        "        z[i,j] = mapFeature(u_vals[i],v_vals[j], degree=6) @ theta   # X @ theta\n",
        "#the mapfeature has now numbers as input for  x1 and x2\n",
        "#that is fine becuse the mapFeature will convert them to numpy array\n",
        "\n",
        "\n",
        "#now the decision boundary is not a line \n",
        "  plt.contour(u_vals, v_vals, z.T, 0 ) #levels=[0]\n",
        "\n",
        "  plt.show()\n",
        "  return print(f'See in the plot above the decision boundary for LAMBDA={LAMBDA} ')\n"
      ],
      "metadata": {
        "id": "0aQywKTnwsvj"
      },
      "execution_count": null,
      "outputs": []
    },
    {
      "cell_type": "code",
      "source": [
        "#lambda=0 will remove the regularization term causing overfitting \n",
        "plot_decisionBoundary(X,y,0)"
      ],
      "metadata": {
        "colab": {
          "base_uri": "https://localhost:8080/",
          "height": 567
        },
        "id": "sfMKPDEe0DXL",
        "outputId": "c00d1932-c257-4ba1-d543-4e392022c2d7"
      },
      "execution_count": null,
      "outputs": [
        {
          "output_type": "stream",
          "name": "stdout",
          "text": [
            "Warning: CG iterations didn't converge.  The Hessian is not positive definite.\n",
            "         Current function value: 0.271677\n",
            "         Iterations: 11\n",
            "         Function evaluations: 12\n",
            "         Gradient evaluations: 1739\n",
            "         Hessian evaluations: 0\n",
            " the minimum is achieved with (first terms only) theta = [  3.50055215  -0.21448266   1.36558177 -25.8411116  -10.67199524] \n",
            " It shall, however, be expressed (first terms only) as a column \n",
            " [[  3.50055215]\n",
            " [ -0.21448266]\n",
            " [  1.36558177]\n",
            " [-25.8411116 ]\n",
            " [-10.67199524]] \n"
          ]
        },
        {
          "output_type": "display_data",
          "data": {
            "text/plain": [
              "<Figure size 504x360 with 1 Axes>"
            ],
            "image/png": "[encoded data removed]"
          },
          "metadata": {
            "needs_background": "light"
          }
        },
        {
          "output_type": "stream",
          "name": "stdout",
          "text": [
            "See in the plot above the decision boundary for LAMBDA=0 \n"
          ]
        }
      ]
    },
    {
      "cell_type": "code",
      "source": [
        "plot_decisionBoundary(X,y, 0.1)"
      ],
      "metadata": {
        "colab": {
          "base_uri": "https://localhost:8080/",
          "height": 567
        },
        "id": "RiIfkbt11HTO",
        "outputId": "e1a6e7d7-c481-4a56-9b82-cbaf216f27e7"
      },
      "execution_count": null,
      "outputs": [
        {
          "output_type": "stream",
          "name": "stdout",
          "text": [
            "Optimization terminated successfully.\n",
            "         Current function value: 0.394594\n",
            "         Iterations: 10\n",
            "         Function evaluations: 11\n",
            "         Gradient evaluations: 470\n",
            "         Hessian evaluations: 0\n",
            " the minimum is achieved with (first terms only) theta = [ 2.75388983  1.80722074  2.95667301 -4.2145064  -3.37951923] \n",
            " It shall, however, be expressed (first terms only) as a column \n",
            " [[ 2.75388983]\n",
            " [ 1.80722074]\n",
            " [ 2.95667301]\n",
            " [-4.2145064 ]\n",
            " [-3.37951923]] \n"
          ]
        },
        {
          "output_type": "display_data",
          "data": {
            "text/plain": [
              "<Figure size 504x360 with 1 Axes>"
            ],
            "image/png": "[encoded data removed]"
          },
          "metadata": {
            "needs_background": "light"
          }
        },
        {
          "output_type": "stream",
          "name": "stdout",
          "text": [
            "See in the plot above the decision boundary for LAMBDA=0.1 \n"
          ]
        }
      ]
    },
    {
      "cell_type": "code",
      "source": [
        "plot_decisionBoundary(X,y, 10)"
      ],
      "metadata": {
        "colab": {
          "base_uri": "https://localhost:8080/",
          "height": 567
        },
        "id": "zAG8dR8t1YTt",
        "outputId": "7f55ede8-b31f-4efe-b40d-5861539efb78"
      },
      "execution_count": null,
      "outputs": [
        {
          "output_type": "stream",
          "name": "stdout",
          "text": [
            "Optimization terminated successfully.\n",
            "         Current function value: 0.648216\n",
            "         Iterations: 5\n",
            "         Function evaluations: 6\n",
            "         Gradient evaluations: 38\n",
            "         Hessian evaluations: 0\n",
            " the minimum is achieved with (first terms only) theta = [ 0.32617735 -0.00815026  0.16579746 -0.44671816 -0.11177313] \n",
            " It shall, however, be expressed (first terms only) as a column \n",
            " [[ 0.32617735]\n",
            " [-0.00815026]\n",
            " [ 0.16579746]\n",
            " [-0.44671816]\n",
            " [-0.11177313]] \n"
          ]
        },
        {
          "output_type": "display_data",
          "data": {
            "text/plain": [
              "<Figure size 504x360 with 1 Axes>"
            ],
            "image/png": "[encoded data removed]"
          },
          "metadata": {
            "needs_background": "light"
          }
        },
        {
          "output_type": "stream",
          "name": "stdout",
          "text": [
            "See in the plot above the decision boundary for LAMBDA=10 \n"
          ]
        }
      ]
    },
    {
      "cell_type": "code",
      "source": [
        "#A sufficiently large value of LAMBDA will cause underfitting\n",
        "plot_decisionBoundary(X,y, 100)"
      ],
      "metadata": {
        "colab": {
          "base_uri": "https://localhost:8080/",
          "height": 567
        },
        "id": "rUiNW-B_1jI8",
        "outputId": "97aa8f87-5223-4bfc-9089-5c331a3a240b"
      },
      "execution_count": null,
      "outputs": [
        {
          "output_type": "stream",
          "name": "stdout",
          "text": [
            "Optimization terminated successfully.\n",
            "         Current function value: 0.686484\n",
            "         Iterations: 3\n",
            "         Function evaluations: 4\n",
            "         Gradient evaluations: 18\n",
            "         Hessian evaluations: 0\n",
            " the minimum is achieved with (first terms only) theta = [ 0.02188262 -0.01748158  0.00571077 -0.05516937 -0.0131485 ] \n",
            " It shall, however, be expressed (first terms only) as a column \n",
            " [[ 0.02188262]\n",
            " [-0.01748158]\n",
            " [ 0.00571077]\n",
            " [-0.05516937]\n",
            " [-0.0131485 ]] \n"
          ]
        },
        {
          "output_type": "display_data",
          "data": {
            "text/plain": [
              "<Figure size 504x360 with 1 Axes>"
            ],
            "image/png": "[encoded data removed]"
          },
          "metadata": {
            "needs_background": "light"
          }
        },
        {
          "output_type": "stream",
          "name": "stdout",
          "text": [
            "See in the plot above the decision boundary for LAMBDA=100 \n"
          ]
        }
      ]
    },
    {
      "cell_type": "markdown",
      "source": [
        "#Accuracy of the model\n",
        "\n",
        "One always need to check whether the results are in agreement with\n",
        "what we expect, namely, the ability of the model to get close as possible to the actual data we will encounter. Here we have only a training set, but we can still check the accuracy of the model for this particular set. "
      ],
      "metadata": {
        "id": "AuqlcCLp3eyO"
      }
    },
    {
      "cell_type": "code",
      "execution_count": null,
      "metadata": {
        "id": "bOAHrd4z5JW_"
      },
      "outputs": [],
      "source": [
        "theta = (theta_min).reshape((n,1)) #this theta was obtained for LAMBDA=1 only\n",
        "\n",
        "def predic(theta, X):\n",
        "  \"\"\"Given predictors and parameters, find the prediction for the target \"\"\"\n",
        "  m = np.size(X,0)\n",
        "  p = np.zeros((m,1))\n",
        "  for (i, value) in enumerate(X):\n",
        "    prob = sigmoid(np.dot(value, theta))\n",
        "    if prob >= 1/2:\n",
        "      p[i] = 1\n",
        "    else:\n",
        "      p[i] = 0  \n",
        "  return p   \n",
        "\n",
        " ## alternatively: \n",
        "  # prob = sigmoid(np.dot(X, theta))\n",
        "  # for i in range(m): \n",
        "  #   if prob[i] >= 0.5:\n",
        "  #     p[i] = 1\n",
        "  #   else:\n",
        "  #     p[i] = 0  \n",
        "  # return p       "
      ]
    },
    {
      "cell_type": "code",
      "source": [
        "print(f'The train accuracy is { np.mean(predic(theta, X )== y )*100}%')"
      ],
      "metadata": {
        "colab": {
          "base_uri": "https://localhost:8080/"
        },
        "id": "zMQYUk7D6MrJ",
        "outputId": "2e2b64de-b2c9-4aaa-fa2d-0b04534c5857"
      },
      "execution_count": null,
      "outputs": [
        {
          "output_type": "stream",
          "name": "stdout",
          "text": [
            "The train accuracy is 83.05084745762711%\n"
          ]
        }
      ]
    },
    {
      "cell_type": "markdown",
      "source": [
        "Note that ScikitLearn will give a very close value to the one obtained in our model above. In fact, there is an automatic regulariation process taken into account where the penalty can be chosen. We have used 'l2', which has to do with the square-integrable norm, but one can also select 'l1', for instance, related to the L1 (space of absolutely integrable functions) norm"
      ],
      "metadata": {
        "id": "XDksD8P68zAW"
      }
    },
    {
      "cell_type": "code",
      "source": [
        "from sklearn.linear_model import LogisticRegression\n",
        "y = y.flatten()\n",
        "#Lets use our extended vector X and remove sklearn bias\n",
        "lreg = LogisticRegression(fit_intercept=False, solver='newton-cg', penalty='l2') #using 'newton-cg' instead of default 'liblinear'\n",
        "lreg = lreg.fit(X,y)\n",
        "\n",
        "lreg.score(X, y)\n",
        "lreg_acc = lreg.score(X, y) * 100\n",
        "\n",
        "y = y.reshape((m,1)) #back to original shape\n",
        "print('The coefficients are: \\n', lreg.coef_)\n",
        "print(f'Accuracy is {lreg_acc}')"
      ],
      "metadata": {
        "colab": {
          "base_uri": "https://localhost:8080/"
        },
        "id": "_R-Sy_qeHYUK",
        "outputId": "001b0369-2a46-43a7-b6e7-d4b8375f5ca2"
      },
      "execution_count": null,
      "outputs": [
        {
          "output_type": "stream",
          "name": "stdout",
          "text": [
            "The coefficients are: \n",
            " [[ 1.14213575  0.60132186  1.16718326 -1.87174359 -0.91573503 -1.26953757\n",
            "   0.12668235 -0.3687234  -0.3451782  -0.17377628 -1.42386177 -0.04856119\n",
            "  -0.6064216  -0.26932201 -1.16315301 -0.24310264 -0.20706754 -0.0431884\n",
            "  -0.28028106 -0.28695055 -0.46910709 -1.03618515  0.02923411 -0.29262323\n",
            "   0.01736154 -0.32897195 -0.13796124 -0.93198618]]\n",
            "Accuracy is 82.20338983050848\n"
          ]
        }
      ]
    },
    {
      "cell_type": "code",
      "source": [
        "#Instead of ridge regression (L2 norm), use lasso (L1 norm)\n",
        "#Because lasso can give sparse results for thetas (regression shrinkage, Tibshirani 1996),\n",
        "#we expect many features from this polynomial map of order 6 being irrelevant, that is, associated with zero weights.\n",
        "\n",
        "from sklearn.linear_model import LogisticRegression\n",
        "y = y.flatten()\n",
        "#Lets use our extended vector X and remove sklearn bias\n",
        "lreg = LogisticRegression(fit_intercept=False, solver='saga', penalty='l1', max_iter=1000) #using 'saga' instead of default 'liblinear'\n",
        "lreg = lreg.fit(X,y)\n",
        "\n",
        "lreg.score(X, y)\n",
        "lreg_acc = lreg.score(X, y) * 100\n",
        "\n",
        "y = y.reshape((m,1)) #back to original shape\n",
        "print('The coefficients are: \\n', lreg.coef_)\n",
        "print(f'Accuracy is {lreg_acc}')\n",
        "#print(lreg.intercept_)\n",
        "\n",
        "#Note that only seven weights are nonzero!! That is, six of them come from 'up to 2nd order'\n",
        "#and an extra one of higher order (fourth-order)! In that sense, the Lasso penalty is useful for selecting features."
      ],
      "metadata": {
        "colab": {
          "base_uri": "https://localhost:8080/"
        },
        "id": "boosWKVoLeeb",
        "outputId": "574737c6-a170-46cb-b01f-bb145b1ee123"
      },
      "execution_count": null,
      "outputs": [
        {
          "output_type": "stream",
          "name": "stdout",
          "text": [
            "The coefficients are: \n",
            " [[ 1.86962036  0.68624143  1.27997909 -4.8596602  -1.62114321 -2.34910406\n",
            "   0.          0.          0.          0.          0.          0.\n",
            "   0.          0.         -2.35794942  0.          0.          0.\n",
            "   0.          0.          0.          0.          0.          0.\n",
            "   0.          0.          0.          0.        ]]\n",
            "Accuracy is 79.66101694915254\n"
          ]
        }
      ]
    },
    {
      "cell_type": "code",
      "source": [
        "#if we only give the features x1 and x2 (x), without creating a mapFeature with polynomial terms\n",
        "#of higher orders, the LogisticRegression model will have a low accuracy\n",
        "\n",
        "from sklearn.linear_model import LogisticRegression\n",
        "#y = y.flatten()\n",
        "#Lets use our extended vector X and remove sklearn bias\n",
        "lreg = LogisticRegression(fit_intercept=True, solver='newton-cg', penalty='l2') #using 'newton-cg' instead of default 'liblinear'\n",
        "lreg = lreg.fit(x,y)\n",
        "\n",
        "lreg.score(x, y)\n",
        "lreg_acc = lreg.score(x, y) * 100\n",
        "\n",
        "#y = y.reshape((m,1)) #back to original shape\n",
        "print('The coefficients are: \\n', lreg.coef_)\n",
        "print('The intercept is', lreg.intercept_)\n",
        "print(f'Accuracy is {lreg_acc}')"
      ],
      "metadata": {
        "colab": {
          "base_uri": "https://localhost:8080/"
        },
        "id": "lup2jDJm7RwE",
        "outputId": "d0bae0f4-f286-4084-a59b-42424f39e85f"
      },
      "execution_count": null,
      "outputs": [
        {
          "output_type": "stream",
          "name": "stdout",
          "text": [
            "The coefficients are: \n",
            " [[-0.26541818 -0.01162139]]\n",
            "The intercept is [-0.01740678]\n",
            "Accuracy is 54.23728813559322\n"
          ]
        },
        {
          "output_type": "stream",
          "name": "stderr",
          "text": [
            "/usr/local/lib/python3.7/dist-packages/sklearn/utils/validation.py:993: DataConversionWarning: A column-vector y was passed when a 1d array was expected. Please change the shape of y to (n_samples, ), for example using ravel().\n",
            "  y = column_or_1d(y, warn=True)\n"
          ]
        }
      ]
    },
    {
      "cell_type": "markdown",
      "metadata": {
        "id": "aV9csHRRN8L2"
      },
      "source": [
        "#Decision boundary for more features\n",
        "\n",
        "While the first case with only two features (plus intercept) did not make use of regularization, the second case, where we needed more features to reproduce a non-linear boundary decision, involved regularization and has a extra parameter denoted LAMBDA. If we write a single function to plot any of these two cases, we will set LAMBDA to be a constant already chosen, otherwise we would need to include the optimization inside this function to find all the new weights $\\theta$'s.   "
      ]
    },
    {
      "cell_type": "code",
      "execution_count": null,
      "metadata": {
        "id": "JHn2QkhQQQMt"
      },
      "outputs": [],
      "source": [
        "#Make a function that will plot the decision boundary \n",
        "#taking into account if there are two features or more\n",
        "\n",
        "#If X is a mx3 matrix, we call first plot, but\n",
        "#if X  is more general of dimension mXn for larger n, we need to adjust the plot (LAMBDA already chosen).   \n",
        "\n",
        "def plotDecisionBoundary(theta, X, y):\n",
        "\n",
        "\n",
        " if (X.shape)[1] <= 3:\n",
        "   \n",
        "\n",
        "#   #first plot the data again\n",
        "   pos = np.where(y==1)[0] #positive result 1\n",
        "   neg = np.where(y==0)[0]       # negative result 0\n",
        "#      = np.asarray(y== ).nonzero()[0]   #alternatively\n",
        "                                          #nonzero(a): Return the indices of the elements that are non-zero.\n",
        "                                          #Returns a tuple of arrays, one for each dimension of `a`,\n",
        "                                          #containing the indices of the non-zero elements in that dimension.\n",
        "\n",
        "#   #Note that this time we are using the extended X containing 1's due to intercept\n",
        "   plt.plot(X[pos,1], X[pos,2], 'k+', label='Admitted'  )\n",
        "   plt.plot(X[neg,1], X[neg,2], 'yo', label='Not Admitted')\n",
        "   plt.legend()\n",
        "\n",
        "\n",
        "#   #now the decision boundary\n",
        "\n",
        "\n",
        "#   #select min and max points of the data for feature 1 (plus a bit of extra space for margin)\n",
        "   xpart = np.array([ min(X[:,1])-3  ,  max(X[:,1])+3 ]) \n",
        "\n",
        "# #NumPy supports smart elementwise operations so we do not really need\n",
        "# #to take care of the elemetwise operations  such as 1./theta[]\n",
        "# #where we would divide a number by a matrix but elementwise  \n",
        "# #same would work with 1/theta[]\n",
        "\n",
        "   ypart = -1./(theta[2])* (theta[0] + xpart* theta[1]   )\n",
        "\n",
        "   plt.plot(xpart, ypart, label='Decision Boundary')\n",
        "   plt.show()\n",
        "\n",
        " else:                               #for matrices of type (MxN)\n",
        "    \n",
        "    pos = np.where(y==1)[0] # positive result 1\n",
        "    neg = np.where(y==0)[0]       # negative result 0\n",
        "    plt.plot(X[pos,1], X[pos,2], 'k+', label='Approved'  )\n",
        "    plt.plot(X[neg,1], X[neg,2], 'yo', label='Not Approved')\n",
        "\n",
        "    features1 = np.linspace(-1,1.5,100)\n",
        "    features2 = np.linspace(-1,1.5,100)\n",
        "    z=np.zeros((len(u_vals),len(v_vals)))\n",
        "\n",
        "    for i in range(len(u_vals)):\n",
        "       for j in range(len(v_vals)):\n",
        "        z[i,j] = mapFeature(u_vals[i],v_vals[j], degree=6) @ theta   # X @ theta\n",
        "#the mapfeature has now numbers as input for  x1 and x2\n",
        "#that is fine becuse the mapFeature will convert them to numpy array\n",
        "#now the decision boundary is not a line \n",
        "    plt.contour(u_vals, v_vals, z.T, 0 ) #levels=[0]\n",
        "\n",
        "    plt.show()\n",
        " return print(f'See in the plot above the decision boundary for LAMBDA={LAMBDA} ')"
      ]
    },
    {
      "cell_type": "code",
      "source": [
        "plotDecisionBoundary(theta, X, y)"
      ],
      "metadata": {
        "colab": {
          "base_uri": "https://localhost:8080/",
          "height": 286
        },
        "id": "lpEBWsLy5XEo",
        "outputId": "6346e2d5-a660-41a3-896d-9acf0fee8ea2"
      },
      "execution_count": null,
      "outputs": [
        {
          "output_type": "display_data",
          "data": {
            "text/plain": [
              "<Figure size 432x288 with 1 Axes>"
            ],
            "image/png": "[encoded data removed]"
          },
          "metadata": {
            "needs_background": "light"
          }
        },
        {
          "output_type": "stream",
          "name": "stdout",
          "text": [
            "See in the plot above the decision boundary for LAMBDA=1 \n"
          ]
        }
      ]
    },
    {
      "cell_type": "code",
      "source": [
        ""
      ],
      "metadata": {
        "id": "jdLZupv_ArjX"
      },
      "execution_count": null,
      "outputs": []
    }
  ],
  "metadata": {
    "colab": {
      "collapsed_sections": [],
      "name": "Logistic Regression_model.ipynb",
      "provenance": [],
      "mount_file_id": "14JMnjTtQQiwmr8QI3uBoRUoEx1fi3zKM",
      "authorship_tag": "ABX9TyNhkp901FuwOfkuDwiScX+l"
    },
    "kernelspec": {
      "display_name": "Python 3",
      "name": "python3"
    },
    "language_info": {
      "name": "python"
    }
  },
  "nbformat": 4,
  "nbformat_minor": 0
}